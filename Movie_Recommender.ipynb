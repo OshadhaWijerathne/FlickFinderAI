{
 "cells": [
  {
   "cell_type": "markdown",
   "id": "c592531d",
   "metadata": {},
   "source": [
    "# Data Preprocessing"
   ]
  },
  {
   "cell_type": "code",
   "execution_count": 26,
   "id": "f422ffdc",
   "metadata": {},
   "outputs": [],
   "source": [
    "import pandas as pd"
   ]
  },
  {
   "cell_type": "code",
   "execution_count": 27,
   "id": "125026ea",
   "metadata": {},
   "outputs": [],
   "source": [
    "df_movies = pd.read_csv(\"dataset/tmdb_5000_movies.csv\")\n",
    "df_credits = pd.read_csv(\"dataset/tmdb_5000_credits.csv\")"
   ]
  },
  {
   "cell_type": "code",
   "execution_count": 28,
   "id": "19d349cb",
   "metadata": {},
   "outputs": [
    {
     "data": {
      "text/html": [
       "<div>\n",
       "<style scoped>\n",
       "    .dataframe tbody tr th:only-of-type {\n",
       "        vertical-align: middle;\n",
       "    }\n",
       "\n",
       "    .dataframe tbody tr th {\n",
       "        vertical-align: top;\n",
       "    }\n",
       "\n",
       "    .dataframe thead th {\n",
       "        text-align: right;\n",
       "    }\n",
       "</style>\n",
       "<table border=\"1\" class=\"dataframe\">\n",
       "  <thead>\n",
       "    <tr style=\"text-align: right;\">\n",
       "      <th></th>\n",
       "      <th>budget</th>\n",
       "      <th>genres</th>\n",
       "      <th>homepage</th>\n",
       "      <th>id</th>\n",
       "      <th>keywords</th>\n",
       "      <th>original_language</th>\n",
       "      <th>original_title</th>\n",
       "      <th>overview</th>\n",
       "      <th>popularity</th>\n",
       "      <th>production_companies</th>\n",
       "      <th>production_countries</th>\n",
       "      <th>release_date</th>\n",
       "      <th>revenue</th>\n",
       "      <th>runtime</th>\n",
       "      <th>spoken_languages</th>\n",
       "      <th>status</th>\n",
       "      <th>tagline</th>\n",
       "      <th>title</th>\n",
       "      <th>vote_average</th>\n",
       "      <th>vote_count</th>\n",
       "    </tr>\n",
       "  </thead>\n",
       "  <tbody>\n",
       "    <tr>\n",
       "      <th>0</th>\n",
       "      <td>237000000</td>\n",
       "      <td>[{\"id\": 28, \"name\": \"Action\"}, {\"id\": 12, \"nam...</td>\n",
       "      <td>http://www.avatarmovie.com/</td>\n",
       "      <td>19995</td>\n",
       "      <td>[{\"id\": 1463, \"name\": \"culture clash\"}, {\"id\":...</td>\n",
       "      <td>en</td>\n",
       "      <td>Avatar</td>\n",
       "      <td>In the 22nd century, a paraplegic Marine is di...</td>\n",
       "      <td>150.437577</td>\n",
       "      <td>[{\"name\": \"Ingenious Film Partners\", \"id\": 289...</td>\n",
       "      <td>[{\"iso_3166_1\": \"US\", \"name\": \"United States o...</td>\n",
       "      <td>2009-12-10</td>\n",
       "      <td>2787965087</td>\n",
       "      <td>162.0</td>\n",
       "      <td>[{\"iso_639_1\": \"en\", \"name\": \"English\"}, {\"iso...</td>\n",
       "      <td>Released</td>\n",
       "      <td>Enter the World of Pandora.</td>\n",
       "      <td>Avatar</td>\n",
       "      <td>7.2</td>\n",
       "      <td>11800</td>\n",
       "    </tr>\n",
       "    <tr>\n",
       "      <th>1</th>\n",
       "      <td>300000000</td>\n",
       "      <td>[{\"id\": 12, \"name\": \"Adventure\"}, {\"id\": 14, \"...</td>\n",
       "      <td>http://disney.go.com/disneypictures/pirates/</td>\n",
       "      <td>285</td>\n",
       "      <td>[{\"id\": 270, \"name\": \"ocean\"}, {\"id\": 726, \"na...</td>\n",
       "      <td>en</td>\n",
       "      <td>Pirates of the Caribbean: At World's End</td>\n",
       "      <td>Captain Barbossa, long believed to be dead, ha...</td>\n",
       "      <td>139.082615</td>\n",
       "      <td>[{\"name\": \"Walt Disney Pictures\", \"id\": 2}, {\"...</td>\n",
       "      <td>[{\"iso_3166_1\": \"US\", \"name\": \"United States o...</td>\n",
       "      <td>2007-05-19</td>\n",
       "      <td>961000000</td>\n",
       "      <td>169.0</td>\n",
       "      <td>[{\"iso_639_1\": \"en\", \"name\": \"English\"}]</td>\n",
       "      <td>Released</td>\n",
       "      <td>At the end of the world, the adventure begins.</td>\n",
       "      <td>Pirates of the Caribbean: At World's End</td>\n",
       "      <td>6.9</td>\n",
       "      <td>4500</td>\n",
       "    </tr>\n",
       "    <tr>\n",
       "      <th>2</th>\n",
       "      <td>245000000</td>\n",
       "      <td>[{\"id\": 28, \"name\": \"Action\"}, {\"id\": 12, \"nam...</td>\n",
       "      <td>http://www.sonypictures.com/movies/spectre/</td>\n",
       "      <td>206647</td>\n",
       "      <td>[{\"id\": 470, \"name\": \"spy\"}, {\"id\": 818, \"name...</td>\n",
       "      <td>en</td>\n",
       "      <td>Spectre</td>\n",
       "      <td>A cryptic message from Bond’s past sends him o...</td>\n",
       "      <td>107.376788</td>\n",
       "      <td>[{\"name\": \"Columbia Pictures\", \"id\": 5}, {\"nam...</td>\n",
       "      <td>[{\"iso_3166_1\": \"GB\", \"name\": \"United Kingdom\"...</td>\n",
       "      <td>2015-10-26</td>\n",
       "      <td>880674609</td>\n",
       "      <td>148.0</td>\n",
       "      <td>[{\"iso_639_1\": \"fr\", \"name\": \"Fran\\u00e7ais\"},...</td>\n",
       "      <td>Released</td>\n",
       "      <td>A Plan No One Escapes</td>\n",
       "      <td>Spectre</td>\n",
       "      <td>6.3</td>\n",
       "      <td>4466</td>\n",
       "    </tr>\n",
       "    <tr>\n",
       "      <th>3</th>\n",
       "      <td>250000000</td>\n",
       "      <td>[{\"id\": 28, \"name\": \"Action\"}, {\"id\": 80, \"nam...</td>\n",
       "      <td>http://www.thedarkknightrises.com/</td>\n",
       "      <td>49026</td>\n",
       "      <td>[{\"id\": 849, \"name\": \"dc comics\"}, {\"id\": 853,...</td>\n",
       "      <td>en</td>\n",
       "      <td>The Dark Knight Rises</td>\n",
       "      <td>Following the death of District Attorney Harve...</td>\n",
       "      <td>112.312950</td>\n",
       "      <td>[{\"name\": \"Legendary Pictures\", \"id\": 923}, {\"...</td>\n",
       "      <td>[{\"iso_3166_1\": \"US\", \"name\": \"United States o...</td>\n",
       "      <td>2012-07-16</td>\n",
       "      <td>1084939099</td>\n",
       "      <td>165.0</td>\n",
       "      <td>[{\"iso_639_1\": \"en\", \"name\": \"English\"}]</td>\n",
       "      <td>Released</td>\n",
       "      <td>The Legend Ends</td>\n",
       "      <td>The Dark Knight Rises</td>\n",
       "      <td>7.6</td>\n",
       "      <td>9106</td>\n",
       "    </tr>\n",
       "    <tr>\n",
       "      <th>4</th>\n",
       "      <td>260000000</td>\n",
       "      <td>[{\"id\": 28, \"name\": \"Action\"}, {\"id\": 12, \"nam...</td>\n",
       "      <td>http://movies.disney.com/john-carter</td>\n",
       "      <td>49529</td>\n",
       "      <td>[{\"id\": 818, \"name\": \"based on novel\"}, {\"id\":...</td>\n",
       "      <td>en</td>\n",
       "      <td>John Carter</td>\n",
       "      <td>John Carter is a war-weary, former military ca...</td>\n",
       "      <td>43.926995</td>\n",
       "      <td>[{\"name\": \"Walt Disney Pictures\", \"id\": 2}]</td>\n",
       "      <td>[{\"iso_3166_1\": \"US\", \"name\": \"United States o...</td>\n",
       "      <td>2012-03-07</td>\n",
       "      <td>284139100</td>\n",
       "      <td>132.0</td>\n",
       "      <td>[{\"iso_639_1\": \"en\", \"name\": \"English\"}]</td>\n",
       "      <td>Released</td>\n",
       "      <td>Lost in our world, found in another.</td>\n",
       "      <td>John Carter</td>\n",
       "      <td>6.1</td>\n",
       "      <td>2124</td>\n",
       "    </tr>\n",
       "  </tbody>\n",
       "</table>\n",
       "</div>"
      ],
      "text/plain": [
       "      budget                                             genres  \\\n",
       "0  237000000  [{\"id\": 28, \"name\": \"Action\"}, {\"id\": 12, \"nam...   \n",
       "1  300000000  [{\"id\": 12, \"name\": \"Adventure\"}, {\"id\": 14, \"...   \n",
       "2  245000000  [{\"id\": 28, \"name\": \"Action\"}, {\"id\": 12, \"nam...   \n",
       "3  250000000  [{\"id\": 28, \"name\": \"Action\"}, {\"id\": 80, \"nam...   \n",
       "4  260000000  [{\"id\": 28, \"name\": \"Action\"}, {\"id\": 12, \"nam...   \n",
       "\n",
       "                                       homepage      id  \\\n",
       "0                   http://www.avatarmovie.com/   19995   \n",
       "1  http://disney.go.com/disneypictures/pirates/     285   \n",
       "2   http://www.sonypictures.com/movies/spectre/  206647   \n",
       "3            http://www.thedarkknightrises.com/   49026   \n",
       "4          http://movies.disney.com/john-carter   49529   \n",
       "\n",
       "                                            keywords original_language  \\\n",
       "0  [{\"id\": 1463, \"name\": \"culture clash\"}, {\"id\":...                en   \n",
       "1  [{\"id\": 270, \"name\": \"ocean\"}, {\"id\": 726, \"na...                en   \n",
       "2  [{\"id\": 470, \"name\": \"spy\"}, {\"id\": 818, \"name...                en   \n",
       "3  [{\"id\": 849, \"name\": \"dc comics\"}, {\"id\": 853,...                en   \n",
       "4  [{\"id\": 818, \"name\": \"based on novel\"}, {\"id\":...                en   \n",
       "\n",
       "                             original_title  \\\n",
       "0                                    Avatar   \n",
       "1  Pirates of the Caribbean: At World's End   \n",
       "2                                   Spectre   \n",
       "3                     The Dark Knight Rises   \n",
       "4                               John Carter   \n",
       "\n",
       "                                            overview  popularity  \\\n",
       "0  In the 22nd century, a paraplegic Marine is di...  150.437577   \n",
       "1  Captain Barbossa, long believed to be dead, ha...  139.082615   \n",
       "2  A cryptic message from Bond’s past sends him o...  107.376788   \n",
       "3  Following the death of District Attorney Harve...  112.312950   \n",
       "4  John Carter is a war-weary, former military ca...   43.926995   \n",
       "\n",
       "                                production_companies  \\\n",
       "0  [{\"name\": \"Ingenious Film Partners\", \"id\": 289...   \n",
       "1  [{\"name\": \"Walt Disney Pictures\", \"id\": 2}, {\"...   \n",
       "2  [{\"name\": \"Columbia Pictures\", \"id\": 5}, {\"nam...   \n",
       "3  [{\"name\": \"Legendary Pictures\", \"id\": 923}, {\"...   \n",
       "4        [{\"name\": \"Walt Disney Pictures\", \"id\": 2}]   \n",
       "\n",
       "                                production_countries release_date     revenue  \\\n",
       "0  [{\"iso_3166_1\": \"US\", \"name\": \"United States o...   2009-12-10  2787965087   \n",
       "1  [{\"iso_3166_1\": \"US\", \"name\": \"United States o...   2007-05-19   961000000   \n",
       "2  [{\"iso_3166_1\": \"GB\", \"name\": \"United Kingdom\"...   2015-10-26   880674609   \n",
       "3  [{\"iso_3166_1\": \"US\", \"name\": \"United States o...   2012-07-16  1084939099   \n",
       "4  [{\"iso_3166_1\": \"US\", \"name\": \"United States o...   2012-03-07   284139100   \n",
       "\n",
       "   runtime                                   spoken_languages    status  \\\n",
       "0    162.0  [{\"iso_639_1\": \"en\", \"name\": \"English\"}, {\"iso...  Released   \n",
       "1    169.0           [{\"iso_639_1\": \"en\", \"name\": \"English\"}]  Released   \n",
       "2    148.0  [{\"iso_639_1\": \"fr\", \"name\": \"Fran\\u00e7ais\"},...  Released   \n",
       "3    165.0           [{\"iso_639_1\": \"en\", \"name\": \"English\"}]  Released   \n",
       "4    132.0           [{\"iso_639_1\": \"en\", \"name\": \"English\"}]  Released   \n",
       "\n",
       "                                          tagline  \\\n",
       "0                     Enter the World of Pandora.   \n",
       "1  At the end of the world, the adventure begins.   \n",
       "2                           A Plan No One Escapes   \n",
       "3                                 The Legend Ends   \n",
       "4            Lost in our world, found in another.   \n",
       "\n",
       "                                      title  vote_average  vote_count  \n",
       "0                                    Avatar           7.2       11800  \n",
       "1  Pirates of the Caribbean: At World's End           6.9        4500  \n",
       "2                                   Spectre           6.3        4466  \n",
       "3                     The Dark Knight Rises           7.6        9106  \n",
       "4                               John Carter           6.1        2124  "
      ]
     },
     "execution_count": 28,
     "metadata": {},
     "output_type": "execute_result"
    }
   ],
   "source": [
    "df_movies.head()"
   ]
  },
  {
   "cell_type": "code",
   "execution_count": 29,
   "id": "2290133c",
   "metadata": {},
   "outputs": [
    {
     "name": "stdout",
     "output_type": "stream",
     "text": [
      "<class 'pandas.core.frame.DataFrame'>\n",
      "RangeIndex: 4803 entries, 0 to 4802\n",
      "Data columns (total 20 columns):\n",
      " #   Column                Non-Null Count  Dtype  \n",
      "---  ------                --------------  -----  \n",
      " 0   budget                4803 non-null   int64  \n",
      " 1   genres                4803 non-null   object \n",
      " 2   homepage              1712 non-null   object \n",
      " 3   id                    4803 non-null   int64  \n",
      " 4   keywords              4803 non-null   object \n",
      " 5   original_language     4803 non-null   object \n",
      " 6   original_title        4803 non-null   object \n",
      " 7   overview              4800 non-null   object \n",
      " 8   popularity            4803 non-null   float64\n",
      " 9   production_companies  4803 non-null   object \n",
      " 10  production_countries  4803 non-null   object \n",
      " 11  release_date          4802 non-null   object \n",
      " 12  revenue               4803 non-null   int64  \n",
      " 13  runtime               4801 non-null   float64\n",
      " 14  spoken_languages      4803 non-null   object \n",
      " 15  status                4803 non-null   object \n",
      " 16  tagline               3959 non-null   object \n",
      " 17  title                 4803 non-null   object \n",
      " 18  vote_average          4803 non-null   float64\n",
      " 19  vote_count            4803 non-null   int64  \n",
      "dtypes: float64(3), int64(4), object(13)\n",
      "memory usage: 750.6+ KB\n"
     ]
    }
   ],
   "source": [
    "df_movies.info()"
   ]
  },
  {
   "cell_type": "code",
   "execution_count": 30,
   "id": "2d9c8c30",
   "metadata": {},
   "outputs": [
    {
     "data": {
      "text/html": [
       "<div>\n",
       "<style scoped>\n",
       "    .dataframe tbody tr th:only-of-type {\n",
       "        vertical-align: middle;\n",
       "    }\n",
       "\n",
       "    .dataframe tbody tr th {\n",
       "        vertical-align: top;\n",
       "    }\n",
       "\n",
       "    .dataframe thead th {\n",
       "        text-align: right;\n",
       "    }\n",
       "</style>\n",
       "<table border=\"1\" class=\"dataframe\">\n",
       "  <thead>\n",
       "    <tr style=\"text-align: right;\">\n",
       "      <th></th>\n",
       "      <th>movie_id</th>\n",
       "      <th>title</th>\n",
       "      <th>cast</th>\n",
       "      <th>crew</th>\n",
       "    </tr>\n",
       "  </thead>\n",
       "  <tbody>\n",
       "    <tr>\n",
       "      <th>0</th>\n",
       "      <td>19995</td>\n",
       "      <td>Avatar</td>\n",
       "      <td>[{\"cast_id\": 242, \"character\": \"Jake Sully\", \"...</td>\n",
       "      <td>[{\"credit_id\": \"52fe48009251416c750aca23\", \"de...</td>\n",
       "    </tr>\n",
       "    <tr>\n",
       "      <th>1</th>\n",
       "      <td>285</td>\n",
       "      <td>Pirates of the Caribbean: At World's End</td>\n",
       "      <td>[{\"cast_id\": 4, \"character\": \"Captain Jack Spa...</td>\n",
       "      <td>[{\"credit_id\": \"52fe4232c3a36847f800b579\", \"de...</td>\n",
       "    </tr>\n",
       "    <tr>\n",
       "      <th>2</th>\n",
       "      <td>206647</td>\n",
       "      <td>Spectre</td>\n",
       "      <td>[{\"cast_id\": 1, \"character\": \"James Bond\", \"cr...</td>\n",
       "      <td>[{\"credit_id\": \"54805967c3a36829b5002c41\", \"de...</td>\n",
       "    </tr>\n",
       "    <tr>\n",
       "      <th>3</th>\n",
       "      <td>49026</td>\n",
       "      <td>The Dark Knight Rises</td>\n",
       "      <td>[{\"cast_id\": 2, \"character\": \"Bruce Wayne / Ba...</td>\n",
       "      <td>[{\"credit_id\": \"52fe4781c3a36847f81398c3\", \"de...</td>\n",
       "    </tr>\n",
       "    <tr>\n",
       "      <th>4</th>\n",
       "      <td>49529</td>\n",
       "      <td>John Carter</td>\n",
       "      <td>[{\"cast_id\": 5, \"character\": \"John Carter\", \"c...</td>\n",
       "      <td>[{\"credit_id\": \"52fe479ac3a36847f813eaa3\", \"de...</td>\n",
       "    </tr>\n",
       "  </tbody>\n",
       "</table>\n",
       "</div>"
      ],
      "text/plain": [
       "   movie_id                                     title  \\\n",
       "0     19995                                    Avatar   \n",
       "1       285  Pirates of the Caribbean: At World's End   \n",
       "2    206647                                   Spectre   \n",
       "3     49026                     The Dark Knight Rises   \n",
       "4     49529                               John Carter   \n",
       "\n",
       "                                                cast  \\\n",
       "0  [{\"cast_id\": 242, \"character\": \"Jake Sully\", \"...   \n",
       "1  [{\"cast_id\": 4, \"character\": \"Captain Jack Spa...   \n",
       "2  [{\"cast_id\": 1, \"character\": \"James Bond\", \"cr...   \n",
       "3  [{\"cast_id\": 2, \"character\": \"Bruce Wayne / Ba...   \n",
       "4  [{\"cast_id\": 5, \"character\": \"John Carter\", \"c...   \n",
       "\n",
       "                                                crew  \n",
       "0  [{\"credit_id\": \"52fe48009251416c750aca23\", \"de...  \n",
       "1  [{\"credit_id\": \"52fe4232c3a36847f800b579\", \"de...  \n",
       "2  [{\"credit_id\": \"54805967c3a36829b5002c41\", \"de...  \n",
       "3  [{\"credit_id\": \"52fe4781c3a36847f81398c3\", \"de...  \n",
       "4  [{\"credit_id\": \"52fe479ac3a36847f813eaa3\", \"de...  "
      ]
     },
     "execution_count": 30,
     "metadata": {},
     "output_type": "execute_result"
    }
   ],
   "source": [
    "df_credits.head()"
   ]
  },
  {
   "cell_type": "code",
   "execution_count": 31,
   "id": "98abaf98",
   "metadata": {},
   "outputs": [
    {
     "name": "stdout",
     "output_type": "stream",
     "text": [
      "<class 'pandas.core.frame.DataFrame'>\n",
      "RangeIndex: 4803 entries, 0 to 4802\n",
      "Data columns (total 4 columns):\n",
      " #   Column    Non-Null Count  Dtype \n",
      "---  ------    --------------  ----- \n",
      " 0   movie_id  4803 non-null   int64 \n",
      " 1   title     4803 non-null   object\n",
      " 2   cast      4803 non-null   object\n",
      " 3   crew      4803 non-null   object\n",
      "dtypes: int64(1), object(3)\n",
      "memory usage: 150.2+ KB\n"
     ]
    }
   ],
   "source": [
    "df_credits.info()"
   ]
  },
  {
   "cell_type": "code",
   "execution_count": 32,
   "id": "ace62ae5",
   "metadata": {},
   "outputs": [],
   "source": [
    "df_movies_combined = df_movies.merge(df_credits,left_on='id',right_on='movie_id')"
   ]
  },
  {
   "cell_type": "code",
   "execution_count": 33,
   "id": "be354e18",
   "metadata": {},
   "outputs": [
    {
     "data": {
      "text/html": [
       "<div>\n",
       "<style scoped>\n",
       "    .dataframe tbody tr th:only-of-type {\n",
       "        vertical-align: middle;\n",
       "    }\n",
       "\n",
       "    .dataframe tbody tr th {\n",
       "        vertical-align: top;\n",
       "    }\n",
       "\n",
       "    .dataframe thead th {\n",
       "        text-align: right;\n",
       "    }\n",
       "</style>\n",
       "<table border=\"1\" class=\"dataframe\">\n",
       "  <thead>\n",
       "    <tr style=\"text-align: right;\">\n",
       "      <th></th>\n",
       "      <th>budget</th>\n",
       "      <th>genres</th>\n",
       "      <th>homepage</th>\n",
       "      <th>id</th>\n",
       "      <th>keywords</th>\n",
       "      <th>original_language</th>\n",
       "      <th>original_title</th>\n",
       "      <th>overview</th>\n",
       "      <th>popularity</th>\n",
       "      <th>production_companies</th>\n",
       "      <th>...</th>\n",
       "      <th>spoken_languages</th>\n",
       "      <th>status</th>\n",
       "      <th>tagline</th>\n",
       "      <th>title_x</th>\n",
       "      <th>vote_average</th>\n",
       "      <th>vote_count</th>\n",
       "      <th>movie_id</th>\n",
       "      <th>title_y</th>\n",
       "      <th>cast</th>\n",
       "      <th>crew</th>\n",
       "    </tr>\n",
       "  </thead>\n",
       "  <tbody>\n",
       "    <tr>\n",
       "      <th>0</th>\n",
       "      <td>237000000</td>\n",
       "      <td>[{\"id\": 28, \"name\": \"Action\"}, {\"id\": 12, \"nam...</td>\n",
       "      <td>http://www.avatarmovie.com/</td>\n",
       "      <td>19995</td>\n",
       "      <td>[{\"id\": 1463, \"name\": \"culture clash\"}, {\"id\":...</td>\n",
       "      <td>en</td>\n",
       "      <td>Avatar</td>\n",
       "      <td>In the 22nd century, a paraplegic Marine is di...</td>\n",
       "      <td>150.437577</td>\n",
       "      <td>[{\"name\": \"Ingenious Film Partners\", \"id\": 289...</td>\n",
       "      <td>...</td>\n",
       "      <td>[{\"iso_639_1\": \"en\", \"name\": \"English\"}, {\"iso...</td>\n",
       "      <td>Released</td>\n",
       "      <td>Enter the World of Pandora.</td>\n",
       "      <td>Avatar</td>\n",
       "      <td>7.2</td>\n",
       "      <td>11800</td>\n",
       "      <td>19995</td>\n",
       "      <td>Avatar</td>\n",
       "      <td>[{\"cast_id\": 242, \"character\": \"Jake Sully\", \"...</td>\n",
       "      <td>[{\"credit_id\": \"52fe48009251416c750aca23\", \"de...</td>\n",
       "    </tr>\n",
       "    <tr>\n",
       "      <th>1</th>\n",
       "      <td>300000000</td>\n",
       "      <td>[{\"id\": 12, \"name\": \"Adventure\"}, {\"id\": 14, \"...</td>\n",
       "      <td>http://disney.go.com/disneypictures/pirates/</td>\n",
       "      <td>285</td>\n",
       "      <td>[{\"id\": 270, \"name\": \"ocean\"}, {\"id\": 726, \"na...</td>\n",
       "      <td>en</td>\n",
       "      <td>Pirates of the Caribbean: At World's End</td>\n",
       "      <td>Captain Barbossa, long believed to be dead, ha...</td>\n",
       "      <td>139.082615</td>\n",
       "      <td>[{\"name\": \"Walt Disney Pictures\", \"id\": 2}, {\"...</td>\n",
       "      <td>...</td>\n",
       "      <td>[{\"iso_639_1\": \"en\", \"name\": \"English\"}]</td>\n",
       "      <td>Released</td>\n",
       "      <td>At the end of the world, the adventure begins.</td>\n",
       "      <td>Pirates of the Caribbean: At World's End</td>\n",
       "      <td>6.9</td>\n",
       "      <td>4500</td>\n",
       "      <td>285</td>\n",
       "      <td>Pirates of the Caribbean: At World's End</td>\n",
       "      <td>[{\"cast_id\": 4, \"character\": \"Captain Jack Spa...</td>\n",
       "      <td>[{\"credit_id\": \"52fe4232c3a36847f800b579\", \"de...</td>\n",
       "    </tr>\n",
       "    <tr>\n",
       "      <th>2</th>\n",
       "      <td>245000000</td>\n",
       "      <td>[{\"id\": 28, \"name\": \"Action\"}, {\"id\": 12, \"nam...</td>\n",
       "      <td>http://www.sonypictures.com/movies/spectre/</td>\n",
       "      <td>206647</td>\n",
       "      <td>[{\"id\": 470, \"name\": \"spy\"}, {\"id\": 818, \"name...</td>\n",
       "      <td>en</td>\n",
       "      <td>Spectre</td>\n",
       "      <td>A cryptic message from Bond’s past sends him o...</td>\n",
       "      <td>107.376788</td>\n",
       "      <td>[{\"name\": \"Columbia Pictures\", \"id\": 5}, {\"nam...</td>\n",
       "      <td>...</td>\n",
       "      <td>[{\"iso_639_1\": \"fr\", \"name\": \"Fran\\u00e7ais\"},...</td>\n",
       "      <td>Released</td>\n",
       "      <td>A Plan No One Escapes</td>\n",
       "      <td>Spectre</td>\n",
       "      <td>6.3</td>\n",
       "      <td>4466</td>\n",
       "      <td>206647</td>\n",
       "      <td>Spectre</td>\n",
       "      <td>[{\"cast_id\": 1, \"character\": \"James Bond\", \"cr...</td>\n",
       "      <td>[{\"credit_id\": \"54805967c3a36829b5002c41\", \"de...</td>\n",
       "    </tr>\n",
       "    <tr>\n",
       "      <th>3</th>\n",
       "      <td>250000000</td>\n",
       "      <td>[{\"id\": 28, \"name\": \"Action\"}, {\"id\": 80, \"nam...</td>\n",
       "      <td>http://www.thedarkknightrises.com/</td>\n",
       "      <td>49026</td>\n",
       "      <td>[{\"id\": 849, \"name\": \"dc comics\"}, {\"id\": 853,...</td>\n",
       "      <td>en</td>\n",
       "      <td>The Dark Knight Rises</td>\n",
       "      <td>Following the death of District Attorney Harve...</td>\n",
       "      <td>112.312950</td>\n",
       "      <td>[{\"name\": \"Legendary Pictures\", \"id\": 923}, {\"...</td>\n",
       "      <td>...</td>\n",
       "      <td>[{\"iso_639_1\": \"en\", \"name\": \"English\"}]</td>\n",
       "      <td>Released</td>\n",
       "      <td>The Legend Ends</td>\n",
       "      <td>The Dark Knight Rises</td>\n",
       "      <td>7.6</td>\n",
       "      <td>9106</td>\n",
       "      <td>49026</td>\n",
       "      <td>The Dark Knight Rises</td>\n",
       "      <td>[{\"cast_id\": 2, \"character\": \"Bruce Wayne / Ba...</td>\n",
       "      <td>[{\"credit_id\": \"52fe4781c3a36847f81398c3\", \"de...</td>\n",
       "    </tr>\n",
       "    <tr>\n",
       "      <th>4</th>\n",
       "      <td>260000000</td>\n",
       "      <td>[{\"id\": 28, \"name\": \"Action\"}, {\"id\": 12, \"nam...</td>\n",
       "      <td>http://movies.disney.com/john-carter</td>\n",
       "      <td>49529</td>\n",
       "      <td>[{\"id\": 818, \"name\": \"based on novel\"}, {\"id\":...</td>\n",
       "      <td>en</td>\n",
       "      <td>John Carter</td>\n",
       "      <td>John Carter is a war-weary, former military ca...</td>\n",
       "      <td>43.926995</td>\n",
       "      <td>[{\"name\": \"Walt Disney Pictures\", \"id\": 2}]</td>\n",
       "      <td>...</td>\n",
       "      <td>[{\"iso_639_1\": \"en\", \"name\": \"English\"}]</td>\n",
       "      <td>Released</td>\n",
       "      <td>Lost in our world, found in another.</td>\n",
       "      <td>John Carter</td>\n",
       "      <td>6.1</td>\n",
       "      <td>2124</td>\n",
       "      <td>49529</td>\n",
       "      <td>John Carter</td>\n",
       "      <td>[{\"cast_id\": 5, \"character\": \"John Carter\", \"c...</td>\n",
       "      <td>[{\"credit_id\": \"52fe479ac3a36847f813eaa3\", \"de...</td>\n",
       "    </tr>\n",
       "  </tbody>\n",
       "</table>\n",
       "<p>5 rows × 24 columns</p>\n",
       "</div>"
      ],
      "text/plain": [
       "      budget                                             genres  \\\n",
       "0  237000000  [{\"id\": 28, \"name\": \"Action\"}, {\"id\": 12, \"nam...   \n",
       "1  300000000  [{\"id\": 12, \"name\": \"Adventure\"}, {\"id\": 14, \"...   \n",
       "2  245000000  [{\"id\": 28, \"name\": \"Action\"}, {\"id\": 12, \"nam...   \n",
       "3  250000000  [{\"id\": 28, \"name\": \"Action\"}, {\"id\": 80, \"nam...   \n",
       "4  260000000  [{\"id\": 28, \"name\": \"Action\"}, {\"id\": 12, \"nam...   \n",
       "\n",
       "                                       homepage      id  \\\n",
       "0                   http://www.avatarmovie.com/   19995   \n",
       "1  http://disney.go.com/disneypictures/pirates/     285   \n",
       "2   http://www.sonypictures.com/movies/spectre/  206647   \n",
       "3            http://www.thedarkknightrises.com/   49026   \n",
       "4          http://movies.disney.com/john-carter   49529   \n",
       "\n",
       "                                            keywords original_language  \\\n",
       "0  [{\"id\": 1463, \"name\": \"culture clash\"}, {\"id\":...                en   \n",
       "1  [{\"id\": 270, \"name\": \"ocean\"}, {\"id\": 726, \"na...                en   \n",
       "2  [{\"id\": 470, \"name\": \"spy\"}, {\"id\": 818, \"name...                en   \n",
       "3  [{\"id\": 849, \"name\": \"dc comics\"}, {\"id\": 853,...                en   \n",
       "4  [{\"id\": 818, \"name\": \"based on novel\"}, {\"id\":...                en   \n",
       "\n",
       "                             original_title  \\\n",
       "0                                    Avatar   \n",
       "1  Pirates of the Caribbean: At World's End   \n",
       "2                                   Spectre   \n",
       "3                     The Dark Knight Rises   \n",
       "4                               John Carter   \n",
       "\n",
       "                                            overview  popularity  \\\n",
       "0  In the 22nd century, a paraplegic Marine is di...  150.437577   \n",
       "1  Captain Barbossa, long believed to be dead, ha...  139.082615   \n",
       "2  A cryptic message from Bond’s past sends him o...  107.376788   \n",
       "3  Following the death of District Attorney Harve...  112.312950   \n",
       "4  John Carter is a war-weary, former military ca...   43.926995   \n",
       "\n",
       "                                production_companies  ...  \\\n",
       "0  [{\"name\": \"Ingenious Film Partners\", \"id\": 289...  ...   \n",
       "1  [{\"name\": \"Walt Disney Pictures\", \"id\": 2}, {\"...  ...   \n",
       "2  [{\"name\": \"Columbia Pictures\", \"id\": 5}, {\"nam...  ...   \n",
       "3  [{\"name\": \"Legendary Pictures\", \"id\": 923}, {\"...  ...   \n",
       "4        [{\"name\": \"Walt Disney Pictures\", \"id\": 2}]  ...   \n",
       "\n",
       "                                    spoken_languages    status  \\\n",
       "0  [{\"iso_639_1\": \"en\", \"name\": \"English\"}, {\"iso...  Released   \n",
       "1           [{\"iso_639_1\": \"en\", \"name\": \"English\"}]  Released   \n",
       "2  [{\"iso_639_1\": \"fr\", \"name\": \"Fran\\u00e7ais\"},...  Released   \n",
       "3           [{\"iso_639_1\": \"en\", \"name\": \"English\"}]  Released   \n",
       "4           [{\"iso_639_1\": \"en\", \"name\": \"English\"}]  Released   \n",
       "\n",
       "                                          tagline  \\\n",
       "0                     Enter the World of Pandora.   \n",
       "1  At the end of the world, the adventure begins.   \n",
       "2                           A Plan No One Escapes   \n",
       "3                                 The Legend Ends   \n",
       "4            Lost in our world, found in another.   \n",
       "\n",
       "                                    title_x vote_average vote_count movie_id  \\\n",
       "0                                    Avatar          7.2      11800    19995   \n",
       "1  Pirates of the Caribbean: At World's End          6.9       4500      285   \n",
       "2                                   Spectre          6.3       4466   206647   \n",
       "3                     The Dark Knight Rises          7.6       9106    49026   \n",
       "4                               John Carter          6.1       2124    49529   \n",
       "\n",
       "                                    title_y  \\\n",
       "0                                    Avatar   \n",
       "1  Pirates of the Caribbean: At World's End   \n",
       "2                                   Spectre   \n",
       "3                     The Dark Knight Rises   \n",
       "4                               John Carter   \n",
       "\n",
       "                                                cast  \\\n",
       "0  [{\"cast_id\": 242, \"character\": \"Jake Sully\", \"...   \n",
       "1  [{\"cast_id\": 4, \"character\": \"Captain Jack Spa...   \n",
       "2  [{\"cast_id\": 1, \"character\": \"James Bond\", \"cr...   \n",
       "3  [{\"cast_id\": 2, \"character\": \"Bruce Wayne / Ba...   \n",
       "4  [{\"cast_id\": 5, \"character\": \"John Carter\", \"c...   \n",
       "\n",
       "                                                crew  \n",
       "0  [{\"credit_id\": \"52fe48009251416c750aca23\", \"de...  \n",
       "1  [{\"credit_id\": \"52fe4232c3a36847f800b579\", \"de...  \n",
       "2  [{\"credit_id\": \"54805967c3a36829b5002c41\", \"de...  \n",
       "3  [{\"credit_id\": \"52fe4781c3a36847f81398c3\", \"de...  \n",
       "4  [{\"credit_id\": \"52fe479ac3a36847f813eaa3\", \"de...  \n",
       "\n",
       "[5 rows x 24 columns]"
      ]
     },
     "execution_count": 33,
     "metadata": {},
     "output_type": "execute_result"
    }
   ],
   "source": [
    "df_movies_combined.head()"
   ]
  },
  {
   "cell_type": "code",
   "execution_count": 34,
   "id": "ba00d7d9",
   "metadata": {},
   "outputs": [
    {
     "name": "stdout",
     "output_type": "stream",
     "text": [
      "<class 'pandas.core.frame.DataFrame'>\n",
      "RangeIndex: 4803 entries, 0 to 4802\n",
      "Data columns (total 24 columns):\n",
      " #   Column                Non-Null Count  Dtype  \n",
      "---  ------                --------------  -----  \n",
      " 0   budget                4803 non-null   int64  \n",
      " 1   genres                4803 non-null   object \n",
      " 2   homepage              1712 non-null   object \n",
      " 3   id                    4803 non-null   int64  \n",
      " 4   keywords              4803 non-null   object \n",
      " 5   original_language     4803 non-null   object \n",
      " 6   original_title        4803 non-null   object \n",
      " 7   overview              4800 non-null   object \n",
      " 8   popularity            4803 non-null   float64\n",
      " 9   production_companies  4803 non-null   object \n",
      " 10  production_countries  4803 non-null   object \n",
      " 11  release_date          4802 non-null   object \n",
      " 12  revenue               4803 non-null   int64  \n",
      " 13  runtime               4801 non-null   float64\n",
      " 14  spoken_languages      4803 non-null   object \n",
      " 15  status                4803 non-null   object \n",
      " 16  tagline               3959 non-null   object \n",
      " 17  title_x               4803 non-null   object \n",
      " 18  vote_average          4803 non-null   float64\n",
      " 19  vote_count            4803 non-null   int64  \n",
      " 20  movie_id              4803 non-null   int64  \n",
      " 21  title_y               4803 non-null   object \n",
      " 22  cast                  4803 non-null   object \n",
      " 23  crew                  4803 non-null   object \n",
      "dtypes: float64(3), int64(5), object(16)\n",
      "memory usage: 900.7+ KB\n"
     ]
    }
   ],
   "source": [
    "df_movies_combined.info()"
   ]
  },
  {
   "cell_type": "code",
   "execution_count": 35,
   "id": "d3bf2075",
   "metadata": {},
   "outputs": [],
   "source": [
    "df_movies_combined = df_movies_combined[['movie_id','title_x','genres','overview','keywords','cast','crew']]\n",
    "df_movies_combined.rename(columns={'title_x': 'title'}, inplace=True)"
   ]
  },
  {
   "cell_type": "code",
   "execution_count": 36,
   "id": "7a0b0406",
   "metadata": {},
   "outputs": [
    {
     "name": "stdout",
     "output_type": "stream",
     "text": [
      "<class 'pandas.core.frame.DataFrame'>\n",
      "RangeIndex: 4803 entries, 0 to 4802\n",
      "Data columns (total 7 columns):\n",
      " #   Column    Non-Null Count  Dtype \n",
      "---  ------    --------------  ----- \n",
      " 0   movie_id  4803 non-null   int64 \n",
      " 1   title     4803 non-null   object\n",
      " 2   genres    4803 non-null   object\n",
      " 3   overview  4800 non-null   object\n",
      " 4   keywords  4803 non-null   object\n",
      " 5   cast      4803 non-null   object\n",
      " 6   crew      4803 non-null   object\n",
      "dtypes: int64(1), object(6)\n",
      "memory usage: 262.8+ KB\n"
     ]
    }
   ],
   "source": [
    "df_movies_combined.info()"
   ]
  },
  {
   "cell_type": "code",
   "execution_count": 37,
   "id": "5d870176",
   "metadata": {},
   "outputs": [
    {
     "data": {
      "text/html": [
       "<div>\n",
       "<style scoped>\n",
       "    .dataframe tbody tr th:only-of-type {\n",
       "        vertical-align: middle;\n",
       "    }\n",
       "\n",
       "    .dataframe tbody tr th {\n",
       "        vertical-align: top;\n",
       "    }\n",
       "\n",
       "    .dataframe thead th {\n",
       "        text-align: right;\n",
       "    }\n",
       "</style>\n",
       "<table border=\"1\" class=\"dataframe\">\n",
       "  <thead>\n",
       "    <tr style=\"text-align: right;\">\n",
       "      <th></th>\n",
       "      <th>movie_id</th>\n",
       "      <th>title</th>\n",
       "      <th>genres</th>\n",
       "      <th>overview</th>\n",
       "      <th>keywords</th>\n",
       "      <th>cast</th>\n",
       "      <th>crew</th>\n",
       "    </tr>\n",
       "  </thead>\n",
       "  <tbody>\n",
       "    <tr>\n",
       "      <th>0</th>\n",
       "      <td>19995</td>\n",
       "      <td>Avatar</td>\n",
       "      <td>[{\"id\": 28, \"name\": \"Action\"}, {\"id\": 12, \"nam...</td>\n",
       "      <td>In the 22nd century, a paraplegic Marine is di...</td>\n",
       "      <td>[{\"id\": 1463, \"name\": \"culture clash\"}, {\"id\":...</td>\n",
       "      <td>[{\"cast_id\": 242, \"character\": \"Jake Sully\", \"...</td>\n",
       "      <td>[{\"credit_id\": \"52fe48009251416c750aca23\", \"de...</td>\n",
       "    </tr>\n",
       "    <tr>\n",
       "      <th>1</th>\n",
       "      <td>285</td>\n",
       "      <td>Pirates of the Caribbean: At World's End</td>\n",
       "      <td>[{\"id\": 12, \"name\": \"Adventure\"}, {\"id\": 14, \"...</td>\n",
       "      <td>Captain Barbossa, long believed to be dead, ha...</td>\n",
       "      <td>[{\"id\": 270, \"name\": \"ocean\"}, {\"id\": 726, \"na...</td>\n",
       "      <td>[{\"cast_id\": 4, \"character\": \"Captain Jack Spa...</td>\n",
       "      <td>[{\"credit_id\": \"52fe4232c3a36847f800b579\", \"de...</td>\n",
       "    </tr>\n",
       "    <tr>\n",
       "      <th>2</th>\n",
       "      <td>206647</td>\n",
       "      <td>Spectre</td>\n",
       "      <td>[{\"id\": 28, \"name\": \"Action\"}, {\"id\": 12, \"nam...</td>\n",
       "      <td>A cryptic message from Bond’s past sends him o...</td>\n",
       "      <td>[{\"id\": 470, \"name\": \"spy\"}, {\"id\": 818, \"name...</td>\n",
       "      <td>[{\"cast_id\": 1, \"character\": \"James Bond\", \"cr...</td>\n",
       "      <td>[{\"credit_id\": \"54805967c3a36829b5002c41\", \"de...</td>\n",
       "    </tr>\n",
       "    <tr>\n",
       "      <th>3</th>\n",
       "      <td>49026</td>\n",
       "      <td>The Dark Knight Rises</td>\n",
       "      <td>[{\"id\": 28, \"name\": \"Action\"}, {\"id\": 80, \"nam...</td>\n",
       "      <td>Following the death of District Attorney Harve...</td>\n",
       "      <td>[{\"id\": 849, \"name\": \"dc comics\"}, {\"id\": 853,...</td>\n",
       "      <td>[{\"cast_id\": 2, \"character\": \"Bruce Wayne / Ba...</td>\n",
       "      <td>[{\"credit_id\": \"52fe4781c3a36847f81398c3\", \"de...</td>\n",
       "    </tr>\n",
       "    <tr>\n",
       "      <th>4</th>\n",
       "      <td>49529</td>\n",
       "      <td>John Carter</td>\n",
       "      <td>[{\"id\": 28, \"name\": \"Action\"}, {\"id\": 12, \"nam...</td>\n",
       "      <td>John Carter is a war-weary, former military ca...</td>\n",
       "      <td>[{\"id\": 818, \"name\": \"based on novel\"}, {\"id\":...</td>\n",
       "      <td>[{\"cast_id\": 5, \"character\": \"John Carter\", \"c...</td>\n",
       "      <td>[{\"credit_id\": \"52fe479ac3a36847f813eaa3\", \"de...</td>\n",
       "    </tr>\n",
       "  </tbody>\n",
       "</table>\n",
       "</div>"
      ],
      "text/plain": [
       "   movie_id                                     title  \\\n",
       "0     19995                                    Avatar   \n",
       "1       285  Pirates of the Caribbean: At World's End   \n",
       "2    206647                                   Spectre   \n",
       "3     49026                     The Dark Knight Rises   \n",
       "4     49529                               John Carter   \n",
       "\n",
       "                                              genres  \\\n",
       "0  [{\"id\": 28, \"name\": \"Action\"}, {\"id\": 12, \"nam...   \n",
       "1  [{\"id\": 12, \"name\": \"Adventure\"}, {\"id\": 14, \"...   \n",
       "2  [{\"id\": 28, \"name\": \"Action\"}, {\"id\": 12, \"nam...   \n",
       "3  [{\"id\": 28, \"name\": \"Action\"}, {\"id\": 80, \"nam...   \n",
       "4  [{\"id\": 28, \"name\": \"Action\"}, {\"id\": 12, \"nam...   \n",
       "\n",
       "                                            overview  \\\n",
       "0  In the 22nd century, a paraplegic Marine is di...   \n",
       "1  Captain Barbossa, long believed to be dead, ha...   \n",
       "2  A cryptic message from Bond’s past sends him o...   \n",
       "3  Following the death of District Attorney Harve...   \n",
       "4  John Carter is a war-weary, former military ca...   \n",
       "\n",
       "                                            keywords  \\\n",
       "0  [{\"id\": 1463, \"name\": \"culture clash\"}, {\"id\":...   \n",
       "1  [{\"id\": 270, \"name\": \"ocean\"}, {\"id\": 726, \"na...   \n",
       "2  [{\"id\": 470, \"name\": \"spy\"}, {\"id\": 818, \"name...   \n",
       "3  [{\"id\": 849, \"name\": \"dc comics\"}, {\"id\": 853,...   \n",
       "4  [{\"id\": 818, \"name\": \"based on novel\"}, {\"id\":...   \n",
       "\n",
       "                                                cast  \\\n",
       "0  [{\"cast_id\": 242, \"character\": \"Jake Sully\", \"...   \n",
       "1  [{\"cast_id\": 4, \"character\": \"Captain Jack Spa...   \n",
       "2  [{\"cast_id\": 1, \"character\": \"James Bond\", \"cr...   \n",
       "3  [{\"cast_id\": 2, \"character\": \"Bruce Wayne / Ba...   \n",
       "4  [{\"cast_id\": 5, \"character\": \"John Carter\", \"c...   \n",
       "\n",
       "                                                crew  \n",
       "0  [{\"credit_id\": \"52fe48009251416c750aca23\", \"de...  \n",
       "1  [{\"credit_id\": \"52fe4232c3a36847f800b579\", \"de...  \n",
       "2  [{\"credit_id\": \"54805967c3a36829b5002c41\", \"de...  \n",
       "3  [{\"credit_id\": \"52fe4781c3a36847f81398c3\", \"de...  \n",
       "4  [{\"credit_id\": \"52fe479ac3a36847f813eaa3\", \"de...  "
      ]
     },
     "execution_count": 37,
     "metadata": {},
     "output_type": "execute_result"
    }
   ],
   "source": [
    "df_movies_combined.head()"
   ]
  },
  {
   "cell_type": "code",
   "execution_count": 38,
   "id": "504d3828",
   "metadata": {},
   "outputs": [
    {
     "data": {
      "text/plain": [
       "'[{\"id\": 28, \"name\": \"Action\"}, {\"id\": 12, \"name\": \"Adventure\"}, {\"id\": 14, \"name\": \"Fantasy\"}, {\"id\": 878, \"name\": \"Science Fiction\"}]'"
      ]
     },
     "execution_count": 38,
     "metadata": {},
     "output_type": "execute_result"
    }
   ],
   "source": [
    "df_movies_combined['genres'][0]"
   ]
  },
  {
   "cell_type": "code",
   "execution_count": 39,
   "id": "e16b5de7",
   "metadata": {},
   "outputs": [
    {
     "data": {
      "text/plain": [
       "'[{\"id\": 1463, \"name\": \"culture clash\"}, {\"id\": 2964, \"name\": \"future\"}, {\"id\": 3386, \"name\": \"space war\"}, {\"id\": 3388, \"name\": \"space colony\"}, {\"id\": 3679, \"name\": \"society\"}, {\"id\": 3801, \"name\": \"space travel\"}, {\"id\": 9685, \"name\": \"futuristic\"}, {\"id\": 9840, \"name\": \"romance\"}, {\"id\": 9882, \"name\": \"space\"}, {\"id\": 9951, \"name\": \"alien\"}, {\"id\": 10148, \"name\": \"tribe\"}, {\"id\": 10158, \"name\": \"alien planet\"}, {\"id\": 10987, \"name\": \"cgi\"}, {\"id\": 11399, \"name\": \"marine\"}, {\"id\": 13065, \"name\": \"soldier\"}, {\"id\": 14643, \"name\": \"battle\"}, {\"id\": 14720, \"name\": \"love affair\"}, {\"id\": 165431, \"name\": \"anti war\"}, {\"id\": 193554, \"name\": \"power relations\"}, {\"id\": 206690, \"name\": \"mind and soul\"}, {\"id\": 209714, \"name\": \"3d\"}]'"
      ]
     },
     "execution_count": 39,
     "metadata": {},
     "output_type": "execute_result"
    }
   ],
   "source": [
    "df_movies_combined['keywords'][0]"
   ]
  },
  {
   "cell_type": "code",
   "execution_count": 40,
   "id": "7453835e",
   "metadata": {},
   "outputs": [
    {
     "data": {
      "text/plain": [
       "'[{\"cast_id\": 242, \"character\": \"Jake Sully\", \"credit_id\": \"5602a8a7c3a3685532001c9a\", \"gender\": 2, \"id\": 65731, \"name\": \"Sam Worthington\", \"order\": 0}, {\"cast_id\": 3, \"character\": \"Neytiri\", \"credit_id\": \"52fe48009251416c750ac9cb\", \"gender\": 1, \"id\": 8691, \"name\": \"Zoe Saldana\", \"order\": 1}, {\"cast_id\": 25, \"character\": \"Dr. Grace Augustine\", \"credit_id\": \"52fe48009251416c750aca39\", \"gender\": 1, \"id\": 10205, \"name\": \"Sigourney Weaver\", \"order\": 2}, {\"cast_id\": 4, \"character\": \"Col. Quaritch\", \"credit_id\": \"52fe48009251416c750ac9cf\", \"gender\": 2, \"id\": 32747, \"name\": \"Stephen Lang\", \"order\": 3}, {\"cast_id\": 5, \"character\": \"Trudy Chacon\", \"credit_id\": \"52fe48009251416c750ac9d3\", \"gender\": 1, \"id\": 17647, \"name\": \"Michelle Rodriguez\", \"order\": 4}, {\"cast_id\": 8, \"character\": \"Selfridge\", \"credit_id\": \"52fe48009251416c750ac9e1\", \"gender\": 2, \"id\": 1771, \"name\": \"Giovanni Ribisi\", \"order\": 5}, {\"cast_id\": 7, \"character\": \"Norm Spellman\", \"credit_id\": \"52fe48009251416c750ac9dd\", \"gender\": 2, \"id\": 59231, \"name\": \"Joel David Moore\", \"order\": 6}, {\"cast_id\": 9, \"character\": \"Moat\", \"credit_id\": \"52fe48009251416c750ac9e5\", \"gender\": 1, \"id\": 30485, \"name\": \"CCH Pounder\", \"order\": 7}, {\"cast_id\": 11, \"character\": \"Eytukan\", \"credit_id\": \"52fe48009251416c750ac9ed\", \"gender\": 2, \"id\": 15853, \"name\": \"Wes Studi\", \"order\": 8}, {\"cast_id\": 10, \"character\": \"Tsu\\'Tey\", \"credit_id\": \"52fe48009251416c750ac9e9\", \"gender\": 2, \"id\": 10964, \"name\": \"Laz Alonso\", \"order\": 9}, {\"cast_id\": 12, \"character\": \"Dr. Max Patel\", \"credit_id\": \"52fe48009251416c750ac9f1\", \"gender\": 2, \"id\": 95697, \"name\": \"Dileep Rao\", \"order\": 10}, {\"cast_id\": 13, \"character\": \"Lyle Wainfleet\", \"credit_id\": \"52fe48009251416c750ac9f5\", \"gender\": 2, \"id\": 98215, \"name\": \"Matt Gerald\", \"order\": 11}, {\"cast_id\": 32, \"character\": \"Private Fike\", \"credit_id\": \"52fe48009251416c750aca5b\", \"gender\": 2, \"id\": 154153, \"name\": \"Sean Anthony Moran\", \"order\": 12}, {\"cast_id\": 33, \"character\": \"Cryo Vault Med Tech\", \"credit_id\": \"52fe48009251416c750aca5f\", \"gender\": 2, \"id\": 397312, \"name\": \"Jason Whyte\", \"order\": 13}, {\"cast_id\": 34, \"character\": \"Venture Star Crew Chief\", \"credit_id\": \"52fe48009251416c750aca63\", \"gender\": 2, \"id\": 42317, \"name\": \"Scott Lawrence\", \"order\": 14}, {\"cast_id\": 35, \"character\": \"Lock Up Trooper\", \"credit_id\": \"52fe48009251416c750aca67\", \"gender\": 2, \"id\": 986734, \"name\": \"Kelly Kilgour\", \"order\": 15}, {\"cast_id\": 36, \"character\": \"Shuttle Pilot\", \"credit_id\": \"52fe48009251416c750aca6b\", \"gender\": 0, \"id\": 1207227, \"name\": \"James Patrick Pitt\", \"order\": 16}, {\"cast_id\": 37, \"character\": \"Shuttle Co-Pilot\", \"credit_id\": \"52fe48009251416c750aca6f\", \"gender\": 0, \"id\": 1180936, \"name\": \"Sean Patrick Murphy\", \"order\": 17}, {\"cast_id\": 38, \"character\": \"Shuttle Crew Chief\", \"credit_id\": \"52fe48009251416c750aca73\", \"gender\": 2, \"id\": 1019578, \"name\": \"Peter Dillon\", \"order\": 18}, {\"cast_id\": 39, \"character\": \"Tractor Operator / Troupe\", \"credit_id\": \"52fe48009251416c750aca77\", \"gender\": 0, \"id\": 91443, \"name\": \"Kevin Dorman\", \"order\": 19}, {\"cast_id\": 40, \"character\": \"Dragon Gunship Pilot\", \"credit_id\": \"52fe48009251416c750aca7b\", \"gender\": 2, \"id\": 173391, \"name\": \"Kelson Henderson\", \"order\": 20}, {\"cast_id\": 41, \"character\": \"Dragon Gunship Gunner\", \"credit_id\": \"52fe48009251416c750aca7f\", \"gender\": 0, \"id\": 1207236, \"name\": \"David Van Horn\", \"order\": 21}, {\"cast_id\": 42, \"character\": \"Dragon Gunship Navigator\", \"credit_id\": \"52fe48009251416c750aca83\", \"gender\": 0, \"id\": 215913, \"name\": \"Jacob Tomuri\", \"order\": 22}, {\"cast_id\": 43, \"character\": \"Suit #1\", \"credit_id\": \"52fe48009251416c750aca87\", \"gender\": 0, \"id\": 143206, \"name\": \"Michael Blain-Rozgay\", \"order\": 23}, {\"cast_id\": 44, \"character\": \"Suit #2\", \"credit_id\": \"52fe48009251416c750aca8b\", \"gender\": 2, \"id\": 169676, \"name\": \"Jon Curry\", \"order\": 24}, {\"cast_id\": 46, \"character\": \"Ambient Room Tech\", \"credit_id\": \"52fe48009251416c750aca8f\", \"gender\": 0, \"id\": 1048610, \"name\": \"Luke Hawker\", \"order\": 25}, {\"cast_id\": 47, \"character\": \"Ambient Room Tech / Troupe\", \"credit_id\": \"52fe48009251416c750aca93\", \"gender\": 0, \"id\": 42288, \"name\": \"Woody Schultz\", \"order\": 26}, {\"cast_id\": 48, \"character\": \"Horse Clan Leader\", \"credit_id\": \"52fe48009251416c750aca97\", \"gender\": 2, \"id\": 68278, \"name\": \"Peter Mensah\", \"order\": 27}, {\"cast_id\": 49, \"character\": \"Link Room Tech\", \"credit_id\": \"52fe48009251416c750aca9b\", \"gender\": 0, \"id\": 1207247, \"name\": \"Sonia Yee\", \"order\": 28}, {\"cast_id\": 50, \"character\": \"Basketball Avatar / Troupe\", \"credit_id\": \"52fe48009251416c750aca9f\", \"gender\": 1, \"id\": 1207248, \"name\": \"Jahnel Curfman\", \"order\": 29}, {\"cast_id\": 51, \"character\": \"Basketball Avatar\", \"credit_id\": \"52fe48009251416c750acaa3\", \"gender\": 0, \"id\": 89714, \"name\": \"Ilram Choi\", \"order\": 30}, {\"cast_id\": 52, \"character\": \"Na\\'vi Child\", \"credit_id\": \"52fe48009251416c750acaa7\", \"gender\": 0, \"id\": 1207249, \"name\": \"Kyla Warren\", \"order\": 31}, {\"cast_id\": 53, \"character\": \"Troupe\", \"credit_id\": \"52fe48009251416c750acaab\", \"gender\": 0, \"id\": 1207250, \"name\": \"Lisa Roumain\", \"order\": 32}, {\"cast_id\": 54, \"character\": \"Troupe\", \"credit_id\": \"52fe48009251416c750acaaf\", \"gender\": 1, \"id\": 83105, \"name\": \"Debra Wilson\", \"order\": 33}, {\"cast_id\": 57, \"character\": \"Troupe\", \"credit_id\": \"52fe48009251416c750acabb\", \"gender\": 0, \"id\": 1207253, \"name\": \"Chris Mala\", \"order\": 34}, {\"cast_id\": 55, \"character\": \"Troupe\", \"credit_id\": \"52fe48009251416c750acab3\", \"gender\": 0, \"id\": 1207251, \"name\": \"Taylor Kibby\", \"order\": 35}, {\"cast_id\": 56, \"character\": \"Troupe\", \"credit_id\": \"52fe48009251416c750acab7\", \"gender\": 0, \"id\": 1207252, \"name\": \"Jodie Landau\", \"order\": 36}, {\"cast_id\": 58, \"character\": \"Troupe\", \"credit_id\": \"52fe48009251416c750acabf\", \"gender\": 0, \"id\": 1207254, \"name\": \"Julie Lamm\", \"order\": 37}, {\"cast_id\": 59, \"character\": \"Troupe\", \"credit_id\": \"52fe48009251416c750acac3\", \"gender\": 0, \"id\": 1207257, \"name\": \"Cullen B. Madden\", \"order\": 38}, {\"cast_id\": 60, \"character\": \"Troupe\", \"credit_id\": \"52fe48009251416c750acac7\", \"gender\": 0, \"id\": 1207259, \"name\": \"Joseph Brady Madden\", \"order\": 39}, {\"cast_id\": 61, \"character\": \"Troupe\", \"credit_id\": \"52fe48009251416c750acacb\", \"gender\": 0, \"id\": 1207262, \"name\": \"Frankie Torres\", \"order\": 40}, {\"cast_id\": 62, \"character\": \"Troupe\", \"credit_id\": \"52fe48009251416c750acacf\", \"gender\": 1, \"id\": 1158600, \"name\": \"Austin Wilson\", \"order\": 41}, {\"cast_id\": 63, \"character\": \"Troupe\", \"credit_id\": \"52fe48019251416c750acad3\", \"gender\": 1, \"id\": 983705, \"name\": \"Sara Wilson\", \"order\": 42}, {\"cast_id\": 64, \"character\": \"Troupe\", \"credit_id\": \"52fe48019251416c750acad7\", \"gender\": 0, \"id\": 1207263, \"name\": \"Tamica Washington-Miller\", \"order\": 43}, {\"cast_id\": 65, \"character\": \"Op Center Staff\", \"credit_id\": \"52fe48019251416c750acadb\", \"gender\": 1, \"id\": 1145098, \"name\": \"Lucy Briant\", \"order\": 44}, {\"cast_id\": 66, \"character\": \"Op Center Staff\", \"credit_id\": \"52fe48019251416c750acadf\", \"gender\": 2, \"id\": 33305, \"name\": \"Nathan Meister\", \"order\": 45}, {\"cast_id\": 67, \"character\": \"Op Center Staff\", \"credit_id\": \"52fe48019251416c750acae3\", \"gender\": 0, \"id\": 1207264, \"name\": \"Gerry Blair\", \"order\": 46}, {\"cast_id\": 68, \"character\": \"Op Center Staff\", \"credit_id\": \"52fe48019251416c750acae7\", \"gender\": 2, \"id\": 33311, \"name\": \"Matthew Chamberlain\", \"order\": 47}, {\"cast_id\": 69, \"character\": \"Op Center Staff\", \"credit_id\": \"52fe48019251416c750acaeb\", \"gender\": 0, \"id\": 1207265, \"name\": \"Paul Yates\", \"order\": 48}, {\"cast_id\": 70, \"character\": \"Op Center Duty Officer\", \"credit_id\": \"52fe48019251416c750acaef\", \"gender\": 0, \"id\": 1207266, \"name\": \"Wray Wilson\", \"order\": 49}, {\"cast_id\": 71, \"character\": \"Op Center Staff\", \"credit_id\": \"52fe48019251416c750acaf3\", \"gender\": 2, \"id\": 54492, \"name\": \"James Gaylyn\", \"order\": 50}, {\"cast_id\": 72, \"character\": \"Dancer\", \"credit_id\": \"52fe48019251416c750acaf7\", \"gender\": 0, \"id\": 1207267, \"name\": \"Melvin Leno Clark III\", \"order\": 51}, {\"cast_id\": 73, \"character\": \"Dancer\", \"credit_id\": \"52fe48019251416c750acafb\", \"gender\": 0, \"id\": 1207268, \"name\": \"Carvon Futrell\", \"order\": 52}, {\"cast_id\": 74, \"character\": \"Dancer\", \"credit_id\": \"52fe48019251416c750acaff\", \"gender\": 0, \"id\": 1207269, \"name\": \"Brandon Jelkes\", \"order\": 53}, {\"cast_id\": 75, \"character\": \"Dancer\", \"credit_id\": \"52fe48019251416c750acb03\", \"gender\": 0, \"id\": 1207270, \"name\": \"Micah Moch\", \"order\": 54}, {\"cast_id\": 76, \"character\": \"Dancer\", \"credit_id\": \"52fe48019251416c750acb07\", \"gender\": 0, \"id\": 1207271, \"name\": \"Hanniyah Muhammad\", \"order\": 55}, {\"cast_id\": 77, \"character\": \"Dancer\", \"credit_id\": \"52fe48019251416c750acb0b\", \"gender\": 0, \"id\": 1207272, \"name\": \"Christopher Nolen\", \"order\": 56}, {\"cast_id\": 78, \"character\": \"Dancer\", \"credit_id\": \"52fe48019251416c750acb0f\", \"gender\": 0, \"id\": 1207273, \"name\": \"Christa Oliver\", \"order\": 57}, {\"cast_id\": 79, \"character\": \"Dancer\", \"credit_id\": \"52fe48019251416c750acb13\", \"gender\": 0, \"id\": 1207274, \"name\": \"April Marie Thomas\", \"order\": 58}, {\"cast_id\": 80, \"character\": \"Dancer\", \"credit_id\": \"52fe48019251416c750acb17\", \"gender\": 0, \"id\": 1207275, \"name\": \"Bravita A. Threatt\", \"order\": 59}, {\"cast_id\": 81, \"character\": \"Mining Chief (uncredited)\", \"credit_id\": \"52fe48019251416c750acb1b\", \"gender\": 0, \"id\": 1207276, \"name\": \"Colin Bleasdale\", \"order\": 60}, {\"cast_id\": 82, \"character\": \"Veteran Miner (uncredited)\", \"credit_id\": \"52fe48019251416c750acb1f\", \"gender\": 0, \"id\": 107969, \"name\": \"Mike Bodnar\", \"order\": 61}, {\"cast_id\": 83, \"character\": \"Richard (uncredited)\", \"credit_id\": \"52fe48019251416c750acb23\", \"gender\": 0, \"id\": 1207278, \"name\": \"Matt Clayton\", \"order\": 62}, {\"cast_id\": 84, \"character\": \"Nav\\'i (uncredited)\", \"credit_id\": \"52fe48019251416c750acb27\", \"gender\": 1, \"id\": 147898, \"name\": \"Nicole Dionne\", \"order\": 63}, {\"cast_id\": 85, \"character\": \"Trooper (uncredited)\", \"credit_id\": \"52fe48019251416c750acb2b\", \"gender\": 0, \"id\": 1207280, \"name\": \"Jamie Harrison\", \"order\": 64}, {\"cast_id\": 86, \"character\": \"Trooper (uncredited)\", \"credit_id\": \"52fe48019251416c750acb2f\", \"gender\": 0, \"id\": 1207281, \"name\": \"Allan Henry\", \"order\": 65}, {\"cast_id\": 87, \"character\": \"Ground Technician (uncredited)\", \"credit_id\": \"52fe48019251416c750acb33\", \"gender\": 2, \"id\": 1207282, \"name\": \"Anthony Ingruber\", \"order\": 66}, {\"cast_id\": 88, \"character\": \"Flight Crew Mechanic (uncredited)\", \"credit_id\": \"52fe48019251416c750acb37\", \"gender\": 0, \"id\": 1207283, \"name\": \"Ashley Jeffery\", \"order\": 67}, {\"cast_id\": 14, \"character\": \"Samson Pilot\", \"credit_id\": \"52fe48009251416c750ac9f9\", \"gender\": 0, \"id\": 98216, \"name\": \"Dean Knowsley\", \"order\": 68}, {\"cast_id\": 89, \"character\": \"Trooper (uncredited)\", \"credit_id\": \"52fe48019251416c750acb3b\", \"gender\": 0, \"id\": 1201399, \"name\": \"Joseph Mika-Hunt\", \"order\": 69}, {\"cast_id\": 90, \"character\": \"Banshee (uncredited)\", \"credit_id\": \"52fe48019251416c750acb3f\", \"gender\": 0, \"id\": 236696, \"name\": \"Terry Notary\", \"order\": 70}, {\"cast_id\": 91, \"character\": \"Soldier (uncredited)\", \"credit_id\": \"52fe48019251416c750acb43\", \"gender\": 0, \"id\": 1207287, \"name\": \"Kai Pantano\", \"order\": 71}, {\"cast_id\": 92, \"character\": \"Blast Technician (uncredited)\", \"credit_id\": \"52fe48019251416c750acb47\", \"gender\": 0, \"id\": 1207288, \"name\": \"Logan Pithyou\", \"order\": 72}, {\"cast_id\": 93, \"character\": \"Vindum Raah (uncredited)\", \"credit_id\": \"52fe48019251416c750acb4b\", \"gender\": 0, \"id\": 1207289, \"name\": \"Stuart Pollock\", \"order\": 73}, {\"cast_id\": 94, \"character\": \"Hero (uncredited)\", \"credit_id\": \"52fe48019251416c750acb4f\", \"gender\": 0, \"id\": 584868, \"name\": \"Raja\", \"order\": 74}, {\"cast_id\": 95, \"character\": \"Ops Centreworker (uncredited)\", \"credit_id\": \"52fe48019251416c750acb53\", \"gender\": 0, \"id\": 1207290, \"name\": \"Gareth Ruck\", \"order\": 75}, {\"cast_id\": 96, \"character\": \"Engineer (uncredited)\", \"credit_id\": \"52fe48019251416c750acb57\", \"gender\": 0, \"id\": 1062463, \"name\": \"Rhian Sheehan\", \"order\": 76}, {\"cast_id\": 97, \"character\": \"Col. Quaritch\\'s Mech Suit (uncredited)\", \"credit_id\": \"52fe48019251416c750acb5b\", \"gender\": 0, \"id\": 60656, \"name\": \"T. J. Storm\", \"order\": 77}, {\"cast_id\": 98, \"character\": \"Female Marine (uncredited)\", \"credit_id\": \"52fe48019251416c750acb5f\", \"gender\": 0, \"id\": 1207291, \"name\": \"Jodie Taylor\", \"order\": 78}, {\"cast_id\": 99, \"character\": \"Ikran Clan Leader (uncredited)\", \"credit_id\": \"52fe48019251416c750acb63\", \"gender\": 1, \"id\": 1186027, \"name\": \"Alicia Vela-Bailey\", \"order\": 79}, {\"cast_id\": 100, \"character\": \"Geologist (uncredited)\", \"credit_id\": \"52fe48019251416c750acb67\", \"gender\": 0, \"id\": 1207292, \"name\": \"Richard Whiteside\", \"order\": 80}, {\"cast_id\": 101, \"character\": \"Na\\'vi (uncredited)\", \"credit_id\": \"52fe48019251416c750acb6b\", \"gender\": 0, \"id\": 103259, \"name\": \"Nikie Zambo\", \"order\": 81}, {\"cast_id\": 102, \"character\": \"Ambient Room Tech / Troupe\", \"credit_id\": \"52fe48019251416c750acb6f\", \"gender\": 1, \"id\": 42286, \"name\": \"Julene Renee\", \"order\": 82}]'"
      ]
     },
     "execution_count": 40,
     "metadata": {},
     "output_type": "execute_result"
    }
   ],
   "source": [
    "df_movies_combined['cast'][0]"
   ]
  },
  {
   "cell_type": "code",
   "execution_count": 41,
   "id": "5403d310",
   "metadata": {},
   "outputs": [
    {
     "data": {
      "text/plain": [
       "'[{\"credit_id\": \"52fe48009251416c750aca23\", \"department\": \"Editing\", \"gender\": 0, \"id\": 1721, \"job\": \"Editor\", \"name\": \"Stephen E. Rivkin\"}, {\"credit_id\": \"539c47ecc3a36810e3001f87\", \"department\": \"Art\", \"gender\": 2, \"id\": 496, \"job\": \"Production Design\", \"name\": \"Rick Carter\"}, {\"credit_id\": \"54491c89c3a3680fb4001cf7\", \"department\": \"Sound\", \"gender\": 0, \"id\": 900, \"job\": \"Sound Designer\", \"name\": \"Christopher Boyes\"}, {\"credit_id\": \"54491cb70e0a267480001bd0\", \"department\": \"Sound\", \"gender\": 0, \"id\": 900, \"job\": \"Supervising Sound Editor\", \"name\": \"Christopher Boyes\"}, {\"credit_id\": \"539c4a4cc3a36810c9002101\", \"department\": \"Production\", \"gender\": 1, \"id\": 1262, \"job\": \"Casting\", \"name\": \"Mali Finn\"}, {\"credit_id\": \"5544ee3b925141499f0008fc\", \"department\": \"Sound\", \"gender\": 2, \"id\": 1729, \"job\": \"Original Music Composer\", \"name\": \"James Horner\"}, {\"credit_id\": \"52fe48009251416c750ac9c3\", \"department\": \"Directing\", \"gender\": 2, \"id\": 2710, \"job\": \"Director\", \"name\": \"James Cameron\"}, {\"credit_id\": \"52fe48009251416c750ac9d9\", \"department\": \"Writing\", \"gender\": 2, \"id\": 2710, \"job\": \"Writer\", \"name\": \"James Cameron\"}, {\"credit_id\": \"52fe48009251416c750aca17\", \"department\": \"Editing\", \"gender\": 2, \"id\": 2710, \"job\": \"Editor\", \"name\": \"James Cameron\"}, {\"credit_id\": \"52fe48009251416c750aca29\", \"department\": \"Production\", \"gender\": 2, \"id\": 2710, \"job\": \"Producer\", \"name\": \"James Cameron\"}, {\"credit_id\": \"52fe48009251416c750aca3f\", \"department\": \"Writing\", \"gender\": 2, \"id\": 2710, \"job\": \"Screenplay\", \"name\": \"James Cameron\"}, {\"credit_id\": \"539c4987c3a36810ba0021a4\", \"department\": \"Art\", \"gender\": 2, \"id\": 7236, \"job\": \"Art Direction\", \"name\": \"Andrew Menzies\"}, {\"credit_id\": \"549598c3c3a3686ae9004383\", \"department\": \"Visual Effects\", \"gender\": 0, \"id\": 6690, \"job\": \"Visual Effects Producer\", \"name\": \"Jill Brooks\"}, {\"credit_id\": \"52fe48009251416c750aca4b\", \"department\": \"Production\", \"gender\": 1, \"id\": 6347, \"job\": \"Casting\", \"name\": \"Margery Simkin\"}, {\"credit_id\": \"570b6f419251417da70032fe\", \"department\": \"Art\", \"gender\": 2, \"id\": 6878, \"job\": \"Supervising Art Director\", \"name\": \"Kevin Ishioka\"}, {\"credit_id\": \"5495a0fac3a3686ae9004468\", \"department\": \"Sound\", \"gender\": 0, \"id\": 6883, \"job\": \"Music Editor\", \"name\": \"Dick Bernstein\"}, {\"credit_id\": \"54959706c3a3686af3003e81\", \"department\": \"Sound\", \"gender\": 0, \"id\": 8159, \"job\": \"Sound Effects Editor\", \"name\": \"Shannon Mills\"}, {\"credit_id\": \"54491d58c3a3680fb1001ccb\", \"department\": \"Sound\", \"gender\": 0, \"id\": 8160, \"job\": \"Foley\", \"name\": \"Dennie Thorpe\"}, {\"credit_id\": \"54491d6cc3a3680fa5001b2c\", \"department\": \"Sound\", \"gender\": 0, \"id\": 8163, \"job\": \"Foley\", \"name\": \"Jana Vance\"}, {\"credit_id\": \"52fe48009251416c750aca57\", \"department\": \"Costume & Make-Up\", \"gender\": 1, \"id\": 8527, \"job\": \"Costume Design\", \"name\": \"Deborah Lynn Scott\"}, {\"credit_id\": \"52fe48009251416c750aca2f\", \"department\": \"Production\", \"gender\": 2, \"id\": 8529, \"job\": \"Producer\", \"name\": \"Jon Landau\"}, {\"credit_id\": \"539c4937c3a36810ba002194\", \"department\": \"Art\", \"gender\": 0, \"id\": 9618, \"job\": \"Art Direction\", \"name\": \"Sean Haworth\"}, {\"credit_id\": \"539c49b6c3a36810c10020e6\", \"department\": \"Art\", \"gender\": 1, \"id\": 12653, \"job\": \"Set Decoration\", \"name\": \"Kim Sinclair\"}, {\"credit_id\": \"570b6f2f9251413a0e00020d\", \"department\": \"Art\", \"gender\": 1, \"id\": 12653, \"job\": \"Supervising Art Director\", \"name\": \"Kim Sinclair\"}, {\"credit_id\": \"54491a6c0e0a26748c001b19\", \"department\": \"Art\", \"gender\": 2, \"id\": 14350, \"job\": \"Set Designer\", \"name\": \"Richard F. Mays\"}, {\"credit_id\": \"56928cf4c3a3684cff0025c4\", \"department\": \"Production\", \"gender\": 1, \"id\": 20294, \"job\": \"Executive Producer\", \"name\": \"Laeta Kalogridis\"}, {\"credit_id\": \"52fe48009251416c750aca51\", \"department\": \"Costume & Make-Up\", \"gender\": 0, \"id\": 17675, \"job\": \"Costume Design\", \"name\": \"Mayes C. Rubeo\"}, {\"credit_id\": \"52fe48009251416c750aca11\", \"department\": \"Camera\", \"gender\": 2, \"id\": 18265, \"job\": \"Director of Photography\", \"name\": \"Mauro Fiore\"}, {\"credit_id\": \"5449194d0e0a26748f001b39\", \"department\": \"Art\", \"gender\": 0, \"id\": 42281, \"job\": \"Set Designer\", \"name\": \"Scott Herbertson\"}, {\"credit_id\": \"52fe48009251416c750aca05\", \"department\": \"Crew\", \"gender\": 0, \"id\": 42288, \"job\": \"Stunts\", \"name\": \"Woody Schultz\"}, {\"credit_id\": \"5592aefb92514152de0010f5\", \"department\": \"Costume & Make-Up\", \"gender\": 0, \"id\": 29067, \"job\": \"Makeup Artist\", \"name\": \"Linda DeVetta\"}, {\"credit_id\": \"5592afa492514152de00112c\", \"department\": \"Costume & Make-Up\", \"gender\": 0, \"id\": 29067, \"job\": \"Hairstylist\", \"name\": \"Linda DeVetta\"}, {\"credit_id\": \"54959ed592514130fc002e5d\", \"department\": \"Camera\", \"gender\": 2, \"id\": 33302, \"job\": \"Camera Operator\", \"name\": \"Richard Bluck\"}, {\"credit_id\": \"539c4891c3a36810ba002147\", \"department\": \"Art\", \"gender\": 2, \"id\": 33303, \"job\": \"Art Direction\", \"name\": \"Simon Bright\"}, {\"credit_id\": \"54959c069251417a81001f3a\", \"department\": \"Visual Effects\", \"gender\": 0, \"id\": 113145, \"job\": \"Visual Effects Supervisor\", \"name\": \"Richard Martin\"}, {\"credit_id\": \"54959a0dc3a3680ff5002c8d\", \"department\": \"Crew\", \"gender\": 2, \"id\": 58188, \"job\": \"Visual Effects Editor\", \"name\": \"Steve R. Moore\"}, {\"credit_id\": \"52fe48009251416c750aca1d\", \"department\": \"Editing\", \"gender\": 2, \"id\": 58871, \"job\": \"Editor\", \"name\": \"John Refoua\"}, {\"credit_id\": \"54491a4dc3a3680fc30018ca\", \"department\": \"Art\", \"gender\": 0, \"id\": 92359, \"job\": \"Set Designer\", \"name\": \"Karl J. Martin\"}, {\"credit_id\": \"52fe48009251416c750aca35\", \"department\": \"Camera\", \"gender\": 1, \"id\": 72201, \"job\": \"Director of Photography\", \"name\": \"Chiling Lin\"}, {\"credit_id\": \"52fe48009251416c750ac9ff\", \"department\": \"Crew\", \"gender\": 0, \"id\": 89714, \"job\": \"Stunts\", \"name\": \"Ilram Choi\"}, {\"credit_id\": \"54959c529251416e2b004394\", \"department\": \"Visual Effects\", \"gender\": 2, \"id\": 93214, \"job\": \"Visual Effects Supervisor\", \"name\": \"Steven Quale\"}, {\"credit_id\": \"54491edf0e0a267489001c37\", \"department\": \"Crew\", \"gender\": 1, \"id\": 122607, \"job\": \"Dialect Coach\", \"name\": \"Carla Meyer\"}, {\"credit_id\": \"539c485bc3a368653d001a3a\", \"department\": \"Art\", \"gender\": 2, \"id\": 132585, \"job\": \"Art Direction\", \"name\": \"Nick Bassett\"}, {\"credit_id\": \"539c4903c3a368653d001a74\", \"department\": \"Art\", \"gender\": 0, \"id\": 132596, \"job\": \"Art Direction\", \"name\": \"Jill Cormack\"}, {\"credit_id\": \"539c4967c3a368653d001a94\", \"department\": \"Art\", \"gender\": 0, \"id\": 132604, \"job\": \"Art Direction\", \"name\": \"Andy McLaren\"}, {\"credit_id\": \"52fe48009251416c750aca45\", \"department\": \"Crew\", \"gender\": 0, \"id\": 236696, \"job\": \"Motion Capture Artist\", \"name\": \"Terry Notary\"}, {\"credit_id\": \"54959e02c3a3680fc60027d2\", \"department\": \"Crew\", \"gender\": 2, \"id\": 956198, \"job\": \"Stunt Coordinator\", \"name\": \"Garrett Warren\"}, {\"credit_id\": \"54959ca3c3a3686ae300438c\", \"department\": \"Visual Effects\", \"gender\": 2, \"id\": 957874, \"job\": \"Visual Effects Supervisor\", \"name\": \"Jonathan Rothbart\"}, {\"credit_id\": \"570b6f519251412c74001b2f\", \"department\": \"Art\", \"gender\": 0, \"id\": 957889, \"job\": \"Supervising Art Director\", \"name\": \"Stefan Dechant\"}, {\"credit_id\": \"570b6f62c3a3680b77007460\", \"department\": \"Art\", \"gender\": 2, \"id\": 959555, \"job\": \"Supervising Art Director\", \"name\": \"Todd Cherniawsky\"}, {\"credit_id\": \"539c4a3ac3a36810da0021cc\", \"department\": \"Production\", \"gender\": 0, \"id\": 1016177, \"job\": \"Casting\", \"name\": \"Miranda Rivers\"}, {\"credit_id\": \"539c482cc3a36810c1002062\", \"department\": \"Art\", \"gender\": 0, \"id\": 1032536, \"job\": \"Production Design\", \"name\": \"Robert Stromberg\"}, {\"credit_id\": \"539c4b65c3a36810c9002125\", \"department\": \"Costume & Make-Up\", \"gender\": 2, \"id\": 1071680, \"job\": \"Costume Design\", \"name\": \"John Harding\"}, {\"credit_id\": \"54959e6692514130fc002e4e\", \"department\": \"Camera\", \"gender\": 0, \"id\": 1177364, \"job\": \"Steadicam Operator\", \"name\": \"Roberto De Angelis\"}, {\"credit_id\": \"539c49f1c3a368653d001aac\", \"department\": \"Costume & Make-Up\", \"gender\": 2, \"id\": 1202850, \"job\": \"Makeup Department Head\", \"name\": \"Mike Smithson\"}, {\"credit_id\": \"5495999ec3a3686ae100460c\", \"department\": \"Visual Effects\", \"gender\": 0, \"id\": 1204668, \"job\": \"Visual Effects Producer\", \"name\": \"Alain Lalanne\"}, {\"credit_id\": \"54959cdfc3a3681153002729\", \"department\": \"Visual Effects\", \"gender\": 0, \"id\": 1206410, \"job\": \"Visual Effects Supervisor\", \"name\": \"Lucas Salton\"}, {\"credit_id\": \"549596239251417a81001eae\", \"department\": \"Crew\", \"gender\": 0, \"id\": 1234266, \"job\": \"Post Production Supervisor\", \"name\": \"Janace Tashjian\"}, {\"credit_id\": \"54959c859251416e1e003efe\", \"department\": \"Visual Effects\", \"gender\": 0, \"id\": 1271932, \"job\": \"Visual Effects Supervisor\", \"name\": \"Stephen Rosenbaum\"}, {\"credit_id\": \"5592af28c3a368775a00105f\", \"department\": \"Costume & Make-Up\", \"gender\": 0, \"id\": 1310064, \"job\": \"Makeup Artist\", \"name\": \"Frankie Karena\"}, {\"credit_id\": \"539c4adfc3a36810e300203b\", \"department\": \"Costume & Make-Up\", \"gender\": 1, \"id\": 1319844, \"job\": \"Costume Supervisor\", \"name\": \"Lisa Lovaas\"}, {\"credit_id\": \"54959b579251416e2b004371\", \"department\": \"Visual Effects\", \"gender\": 0, \"id\": 1327028, \"job\": \"Visual Effects Supervisor\", \"name\": \"Jonathan Fawkner\"}, {\"credit_id\": \"539c48a7c3a36810b5001fa7\", \"department\": \"Art\", \"gender\": 0, \"id\": 1330561, \"job\": \"Art Direction\", \"name\": \"Robert Bavin\"}, {\"credit_id\": \"539c4a71c3a36810da0021e0\", \"department\": \"Costume & Make-Up\", \"gender\": 0, \"id\": 1330567, \"job\": \"Costume Supervisor\", \"name\": \"Anthony Almaraz\"}, {\"credit_id\": \"539c4a8ac3a36810ba0021e4\", \"department\": \"Costume & Make-Up\", \"gender\": 0, \"id\": 1330570, \"job\": \"Costume Supervisor\", \"name\": \"Carolyn M. Fenton\"}, {\"credit_id\": \"539c4ab6c3a36810da0021f0\", \"department\": \"Costume & Make-Up\", \"gender\": 0, \"id\": 1330574, \"job\": \"Costume Supervisor\", \"name\": \"Beth Koenigsberg\"}, {\"credit_id\": \"54491ab70e0a267480001ba2\", \"department\": \"Art\", \"gender\": 0, \"id\": 1336191, \"job\": \"Set Designer\", \"name\": \"Sam Page\"}, {\"credit_id\": \"544919d9c3a3680fc30018bd\", \"department\": \"Art\", \"gender\": 0, \"id\": 1339441, \"job\": \"Set Designer\", \"name\": \"Tex Kadonaga\"}, {\"credit_id\": \"54491cf50e0a267483001b0c\", \"department\": \"Editing\", \"gender\": 0, \"id\": 1352422, \"job\": \"Dialogue Editor\", \"name\": \"Kim Foscato\"}, {\"credit_id\": \"544919f40e0a26748c001b09\", \"department\": \"Art\", \"gender\": 0, \"id\": 1352962, \"job\": \"Set Designer\", \"name\": \"Tammy S. Lee\"}, {\"credit_id\": \"5495a115c3a3680ff5002d71\", \"department\": \"Crew\", \"gender\": 0, \"id\": 1357070, \"job\": \"Transportation Coordinator\", \"name\": \"Denny Caira\"}, {\"credit_id\": \"5495a12f92514130fc002e94\", \"department\": \"Crew\", \"gender\": 0, \"id\": 1357071, \"job\": \"Transportation Coordinator\", \"name\": \"James Waitkus\"}, {\"credit_id\": \"5495976fc3a36811530026b0\", \"department\": \"Sound\", \"gender\": 0, \"id\": 1360103, \"job\": \"Supervising Sound Editor\", \"name\": \"Addison Teague\"}, {\"credit_id\": \"54491837c3a3680fb1001c5a\", \"department\": \"Art\", \"gender\": 2, \"id\": 1376887, \"job\": \"Set Designer\", \"name\": \"C. Scott Baker\"}, {\"credit_id\": \"54491878c3a3680fb4001c9d\", \"department\": \"Art\", \"gender\": 0, \"id\": 1376888, \"job\": \"Set Designer\", \"name\": \"Luke Caska\"}, {\"credit_id\": \"544918dac3a3680fa5001ae0\", \"department\": \"Art\", \"gender\": 0, \"id\": 1376889, \"job\": \"Set Designer\", \"name\": \"David Chow\"}, {\"credit_id\": \"544919110e0a267486001b68\", \"department\": \"Art\", \"gender\": 0, \"id\": 1376890, \"job\": \"Set Designer\", \"name\": \"Jonathan Dyer\"}, {\"credit_id\": \"54491967c3a3680faa001b5e\", \"department\": \"Art\", \"gender\": 0, \"id\": 1376891, \"job\": \"Set Designer\", \"name\": \"Joseph Hiura\"}, {\"credit_id\": \"54491997c3a3680fb1001c8a\", \"department\": \"Art\", \"gender\": 0, \"id\": 1376892, \"job\": \"Art Department Coordinator\", \"name\": \"Rebecca Jellie\"}, {\"credit_id\": \"544919ba0e0a26748f001b42\", \"department\": \"Art\", \"gender\": 0, \"id\": 1376893, \"job\": \"Set Designer\", \"name\": \"Robert Andrew Johnson\"}, {\"credit_id\": \"54491b1dc3a3680faa001b8c\", \"department\": \"Art\", \"gender\": 0, \"id\": 1376895, \"job\": \"Assistant Art Director\", \"name\": \"Mike Stassi\"}, {\"credit_id\": \"54491b79c3a3680fbb001826\", \"department\": \"Art\", \"gender\": 0, \"id\": 1376897, \"job\": \"Construction Coordinator\", \"name\": \"John Villarino\"}, {\"credit_id\": \"54491baec3a3680fb4001ce6\", \"department\": \"Art\", \"gender\": 2, \"id\": 1376898, \"job\": \"Assistant Art Director\", \"name\": \"Jeffrey Wisniewski\"}, {\"credit_id\": \"54491d2fc3a3680fb4001d07\", \"department\": \"Editing\", \"gender\": 0, \"id\": 1376899, \"job\": \"Dialogue Editor\", \"name\": \"Cheryl Nardi\"}, {\"credit_id\": \"54491d86c3a3680fa5001b2f\", \"department\": \"Editing\", \"gender\": 0, \"id\": 1376901, \"job\": \"Dialogue Editor\", \"name\": \"Marshall Winn\"}, {\"credit_id\": \"54491d9dc3a3680faa001bb0\", \"department\": \"Sound\", \"gender\": 0, \"id\": 1376902, \"job\": \"Supervising Sound Editor\", \"name\": \"Gwendolyn Yates Whittle\"}, {\"credit_id\": \"54491dc10e0a267486001bce\", \"department\": \"Sound\", \"gender\": 0, \"id\": 1376903, \"job\": \"Sound Re-Recording Mixer\", \"name\": \"William Stein\"}, {\"credit_id\": \"54491f500e0a26747c001c07\", \"department\": \"Crew\", \"gender\": 0, \"id\": 1376909, \"job\": \"Choreographer\", \"name\": \"Lula Washington\"}, {\"credit_id\": \"549599239251412c4e002a2e\", \"department\": \"Visual Effects\", \"gender\": 0, \"id\": 1391692, \"job\": \"Visual Effects Producer\", \"name\": \"Chris Del Conte\"}, {\"credit_id\": \"54959d54c3a36831b8001d9a\", \"department\": \"Visual Effects\", \"gender\": 2, \"id\": 1391695, \"job\": \"Visual Effects Supervisor\", \"name\": \"R. Christopher White\"}, {\"credit_id\": \"54959bdf9251412c4e002a66\", \"department\": \"Visual Effects\", \"gender\": 0, \"id\": 1394070, \"job\": \"Visual Effects Supervisor\", \"name\": \"Dan Lemmon\"}, {\"credit_id\": \"5495971d92514132ed002922\", \"department\": \"Sound\", \"gender\": 0, \"id\": 1394129, \"job\": \"Sound Effects Editor\", \"name\": \"Tim Nielsen\"}, {\"credit_id\": \"5592b25792514152cc0011aa\", \"department\": \"Crew\", \"gender\": 0, \"id\": 1394286, \"job\": \"CG Supervisor\", \"name\": \"Michael Mulholland\"}, {\"credit_id\": \"54959a329251416e2b004355\", \"department\": \"Crew\", \"gender\": 0, \"id\": 1394750, \"job\": \"Visual Effects Editor\", \"name\": \"Thomas Nittmann\"}, {\"credit_id\": \"54959d6dc3a3686ae9004401\", \"department\": \"Visual Effects\", \"gender\": 0, \"id\": 1394755, \"job\": \"Visual Effects Supervisor\", \"name\": \"Edson Williams\"}, {\"credit_id\": \"5495a08fc3a3686ae300441c\", \"department\": \"Editing\", \"gender\": 0, \"id\": 1394953, \"job\": \"Digital Intermediate\", \"name\": \"Christine Carr\"}, {\"credit_id\": \"55402d659251413d6d000249\", \"department\": \"Visual Effects\", \"gender\": 0, \"id\": 1395269, \"job\": \"Visual Effects Supervisor\", \"name\": \"John Bruno\"}, {\"credit_id\": \"54959e7b9251416e1e003f3e\", \"department\": \"Camera\", \"gender\": 0, \"id\": 1398970, \"job\": \"Steadicam Operator\", \"name\": \"David Emmerichs\"}, {\"credit_id\": \"54959734c3a3686ae10045e0\", \"department\": \"Sound\", \"gender\": 0, \"id\": 1400906, \"job\": \"Sound Effects Editor\", \"name\": \"Christopher Scarabosio\"}, {\"credit_id\": \"549595dd92514130fc002d79\", \"department\": \"Production\", \"gender\": 0, \"id\": 1401784, \"job\": \"Production Supervisor\", \"name\": \"Jennifer Teves\"}, {\"credit_id\": \"549596009251413af70028cc\", \"department\": \"Production\", \"gender\": 0, \"id\": 1401785, \"job\": \"Production Manager\", \"name\": \"Brigitte Yorke\"}, {\"credit_id\": \"549596e892514130fc002d99\", \"department\": \"Sound\", \"gender\": 0, \"id\": 1401786, \"job\": \"Sound Effects Editor\", \"name\": \"Ken Fischer\"}, {\"credit_id\": \"549598229251412c4e002a1c\", \"department\": \"Crew\", \"gender\": 0, \"id\": 1401787, \"job\": \"Special Effects Coordinator\", \"name\": \"Iain Hutton\"}, {\"credit_id\": \"549598349251416e2b00432b\", \"department\": \"Crew\", \"gender\": 0, \"id\": 1401788, \"job\": \"Special Effects Coordinator\", \"name\": \"Steve Ingram\"}, {\"credit_id\": \"54959905c3a3686ae3004324\", \"department\": \"Visual Effects\", \"gender\": 0, \"id\": 1401789, \"job\": \"Visual Effects Producer\", \"name\": \"Joyce Cox\"}, {\"credit_id\": \"5495994b92514132ed002951\", \"department\": \"Visual Effects\", \"gender\": 0, \"id\": 1401790, \"job\": \"Visual Effects Producer\", \"name\": \"Jenny Foster\"}, {\"credit_id\": \"549599cbc3a3686ae1004613\", \"department\": \"Crew\", \"gender\": 0, \"id\": 1401791, \"job\": \"Visual Effects Editor\", \"name\": \"Christopher Marino\"}, {\"credit_id\": \"549599f2c3a3686ae100461e\", \"department\": \"Crew\", \"gender\": 0, \"id\": 1401792, \"job\": \"Visual Effects Editor\", \"name\": \"Jim Milton\"}, {\"credit_id\": \"54959a51c3a3686af3003eb5\", \"department\": \"Visual Effects\", \"gender\": 0, \"id\": 1401793, \"job\": \"Visual Effects Producer\", \"name\": \"Cyndi Ochs\"}, {\"credit_id\": \"54959a7cc3a36811530026f4\", \"department\": \"Crew\", \"gender\": 0, \"id\": 1401794, \"job\": \"Visual Effects Editor\", \"name\": \"Lucas Putnam\"}, {\"credit_id\": \"54959b91c3a3680ff5002cb4\", \"department\": \"Visual Effects\", \"gender\": 0, \"id\": 1401795, \"job\": \"Visual Effects Supervisor\", \"name\": \"Anthony \\'Max\\' Ivins\"}, {\"credit_id\": \"54959bb69251412c4e002a5f\", \"department\": \"Visual Effects\", \"gender\": 0, \"id\": 1401796, \"job\": \"Visual Effects Supervisor\", \"name\": \"John Knoll\"}, {\"credit_id\": \"54959cbbc3a3686ae3004391\", \"department\": \"Visual Effects\", \"gender\": 2, \"id\": 1401799, \"job\": \"Visual Effects Supervisor\", \"name\": \"Eric Saindon\"}, {\"credit_id\": \"54959d06c3a3686ae90043f6\", \"department\": \"Visual Effects\", \"gender\": 0, \"id\": 1401800, \"job\": \"Visual Effects Supervisor\", \"name\": \"Wayne Stables\"}, {\"credit_id\": \"54959d259251416e1e003f11\", \"department\": \"Visual Effects\", \"gender\": 0, \"id\": 1401801, \"job\": \"Visual Effects Supervisor\", \"name\": \"David Stinnett\"}, {\"credit_id\": \"54959db49251413af7002975\", \"department\": \"Visual Effects\", \"gender\": 0, \"id\": 1401803, \"job\": \"Visual Effects Supervisor\", \"name\": \"Guy Williams\"}, {\"credit_id\": \"54959de4c3a3681153002750\", \"department\": \"Crew\", \"gender\": 0, \"id\": 1401804, \"job\": \"Stunt Coordinator\", \"name\": \"Stuart Thorp\"}, {\"credit_id\": \"54959ef2c3a3680fc60027f2\", \"department\": \"Lighting\", \"gender\": 0, \"id\": 1401805, \"job\": \"Best Boy Electric\", \"name\": \"Giles Coburn\"}, {\"credit_id\": \"54959f07c3a3680fc60027f9\", \"department\": \"Camera\", \"gender\": 2, \"id\": 1401806, \"job\": \"Still Photographer\", \"name\": \"Mark Fellman\"}, {\"credit_id\": \"54959f47c3a3681153002774\", \"department\": \"Lighting\", \"gender\": 0, \"id\": 1401807, \"job\": \"Lighting Technician\", \"name\": \"Scott Sprague\"}, {\"credit_id\": \"54959f8cc3a36831b8001df2\", \"department\": \"Visual Effects\", \"gender\": 0, \"id\": 1401808, \"job\": \"Animation Director\", \"name\": \"Jeremy Hollobon\"}, {\"credit_id\": \"54959fa0c3a36831b8001dfb\", \"department\": \"Visual Effects\", \"gender\": 0, \"id\": 1401809, \"job\": \"Animation Director\", \"name\": \"Orlando Meunier\"}, {\"credit_id\": \"54959fb6c3a3686af3003f54\", \"department\": \"Visual Effects\", \"gender\": 0, \"id\": 1401810, \"job\": \"Animation Director\", \"name\": \"Taisuke Tanimura\"}, {\"credit_id\": \"54959fd2c3a36831b8001e02\", \"department\": \"Costume & Make-Up\", \"gender\": 0, \"id\": 1401812, \"job\": \"Set Costumer\", \"name\": \"Lilia Mishel Acevedo\"}, {\"credit_id\": \"54959ff9c3a3686ae300440c\", \"department\": \"Costume & Make-Up\", \"gender\": 0, \"id\": 1401814, \"job\": \"Set Costumer\", \"name\": \"Alejandro M. Hernandez\"}, {\"credit_id\": \"5495a0ddc3a3686ae10046fe\", \"department\": \"Editing\", \"gender\": 0, \"id\": 1401815, \"job\": \"Digital Intermediate\", \"name\": \"Marvin Hall\"}, {\"credit_id\": \"5495a1f7c3a3686ae3004443\", \"department\": \"Production\", \"gender\": 0, \"id\": 1401816, \"job\": \"Publicist\", \"name\": \"Judy Alley\"}, {\"credit_id\": \"5592b29fc3a36869d100002f\", \"department\": \"Crew\", \"gender\": 0, \"id\": 1418381, \"job\": \"CG Supervisor\", \"name\": \"Mike Perry\"}, {\"credit_id\": \"5592b23a9251415df8001081\", \"department\": \"Crew\", \"gender\": 0, \"id\": 1426854, \"job\": \"CG Supervisor\", \"name\": \"Andrew Morley\"}, {\"credit_id\": \"55491e1192514104c40002d8\", \"department\": \"Art\", \"gender\": 0, \"id\": 1438901, \"job\": \"Conceptual Design\", \"name\": \"Seth Engstrom\"}, {\"credit_id\": \"5525d5809251417276002b06\", \"department\": \"Crew\", \"gender\": 0, \"id\": 1447362, \"job\": \"Visual Effects Art Director\", \"name\": \"Eric Oliver\"}, {\"credit_id\": \"554427ca925141586500312a\", \"department\": \"Visual Effects\", \"gender\": 0, \"id\": 1447503, \"job\": \"Modeling\", \"name\": \"Matsune Suzuki\"}, {\"credit_id\": \"551906889251415aab001c88\", \"department\": \"Art\", \"gender\": 0, \"id\": 1447524, \"job\": \"Art Department Manager\", \"name\": \"Paul Tobin\"}, {\"credit_id\": \"5592af8492514152cc0010de\", \"department\": \"Costume & Make-Up\", \"gender\": 0, \"id\": 1452643, \"job\": \"Hairstylist\", \"name\": \"Roxane Griffin\"}, {\"credit_id\": \"553d3c109251415852001318\", \"department\": \"Lighting\", \"gender\": 0, \"id\": 1453938, \"job\": \"Lighting Artist\", \"name\": \"Arun Ram-Mohan\"}, {\"credit_id\": \"5592af4692514152d5001355\", \"department\": \"Costume & Make-Up\", \"gender\": 0, \"id\": 1457305, \"job\": \"Makeup Artist\", \"name\": \"Georgia Lockhart-Adams\"}, {\"credit_id\": \"5592b2eac3a36877470012a5\", \"department\": \"Crew\", \"gender\": 0, \"id\": 1466035, \"job\": \"CG Supervisor\", \"name\": \"Thrain Shadbolt\"}, {\"credit_id\": \"5592b032c3a36877450015f1\", \"department\": \"Crew\", \"gender\": 0, \"id\": 1483220, \"job\": \"CG Supervisor\", \"name\": \"Brad Alexander\"}, {\"credit_id\": \"5592b05592514152d80012f6\", \"department\": \"Crew\", \"gender\": 0, \"id\": 1483221, \"job\": \"CG Supervisor\", \"name\": \"Shadi Almassizadeh\"}, {\"credit_id\": \"5592b090c3a36877570010b5\", \"department\": \"Crew\", \"gender\": 0, \"id\": 1483222, \"job\": \"CG Supervisor\", \"name\": \"Simon Clutterbuck\"}, {\"credit_id\": \"5592b0dbc3a368774b00112c\", \"department\": \"Crew\", \"gender\": 0, \"id\": 1483223, \"job\": \"CG Supervisor\", \"name\": \"Graeme Demmocks\"}, {\"credit_id\": \"5592b0fe92514152db0010c1\", \"department\": \"Crew\", \"gender\": 0, \"id\": 1483224, \"job\": \"CG Supervisor\", \"name\": \"Adrian Fernandes\"}, {\"credit_id\": \"5592b11f9251415df8001059\", \"department\": \"Crew\", \"gender\": 0, \"id\": 1483225, \"job\": \"CG Supervisor\", \"name\": \"Mitch Gates\"}, {\"credit_id\": \"5592b15dc3a3687745001645\", \"department\": \"Crew\", \"gender\": 0, \"id\": 1483226, \"job\": \"CG Supervisor\", \"name\": \"Jerry Kung\"}, {\"credit_id\": \"5592b18e925141645a0004ae\", \"department\": \"Crew\", \"gender\": 0, \"id\": 1483227, \"job\": \"CG Supervisor\", \"name\": \"Andy Lomas\"}, {\"credit_id\": \"5592b1bfc3a368775d0010e7\", \"department\": \"Crew\", \"gender\": 0, \"id\": 1483228, \"job\": \"CG Supervisor\", \"name\": \"Sebastian Marino\"}, {\"credit_id\": \"5592b2049251415df8001078\", \"department\": \"Crew\", \"gender\": 0, \"id\": 1483229, \"job\": \"CG Supervisor\", \"name\": \"Matthias Menz\"}, {\"credit_id\": \"5592b27b92514152d800136a\", \"department\": \"Crew\", \"gender\": 0, \"id\": 1483230, \"job\": \"CG Supervisor\", \"name\": \"Sergei Nevshupov\"}, {\"credit_id\": \"5592b2c3c3a36869e800003c\", \"department\": \"Crew\", \"gender\": 0, \"id\": 1483231, \"job\": \"CG Supervisor\", \"name\": \"Philippe Rebours\"}, {\"credit_id\": \"5592b317c3a36877470012af\", \"department\": \"Crew\", \"gender\": 0, \"id\": 1483232, \"job\": \"CG Supervisor\", \"name\": \"Michael Takarangi\"}, {\"credit_id\": \"5592b345c3a36877470012bb\", \"department\": \"Crew\", \"gender\": 0, \"id\": 1483233, \"job\": \"CG Supervisor\", \"name\": \"David Weitzberg\"}, {\"credit_id\": \"5592b37cc3a368775100113b\", \"department\": \"Crew\", \"gender\": 0, \"id\": 1483234, \"job\": \"CG Supervisor\", \"name\": \"Ben White\"}, {\"credit_id\": \"573c8e2f9251413f5d000094\", \"department\": \"Crew\", \"gender\": 1, \"id\": 1621932, \"job\": \"Stunts\", \"name\": \"Min Windle\"}]'"
      ]
     },
     "execution_count": 41,
     "metadata": {},
     "output_type": "execute_result"
    }
   ],
   "source": [
    "df_movies_combined['crew'][0]"
   ]
  },
  {
   "cell_type": "code",
   "execution_count": 42,
   "id": "415288e9",
   "metadata": {},
   "outputs": [],
   "source": [
    "import ast\n",
    "def clean(obj):\n",
    "    lst =[]\n",
    "    for i in ast.literal_eval(obj):\n",
    "        lst.append(i['name'])\n",
    "    return lst     "
   ]
  },
  {
   "cell_type": "code",
   "execution_count": 43,
   "id": "7a112ff4",
   "metadata": {},
   "outputs": [],
   "source": [
    "df_movies_combined['genres'] = df_movies_combined['genres'].apply(clean)"
   ]
  },
  {
   "cell_type": "code",
   "execution_count": 44,
   "id": "048974eb",
   "metadata": {},
   "outputs": [
    {
     "data": {
      "text/plain": [
       "0       [Action, Adventure, Fantasy, Science Fiction]\n",
       "1                        [Adventure, Fantasy, Action]\n",
       "2                          [Action, Adventure, Crime]\n",
       "3                    [Action, Crime, Drama, Thriller]\n",
       "4                [Action, Adventure, Science Fiction]\n",
       "                            ...                      \n",
       "4798                        [Action, Crime, Thriller]\n",
       "4799                                [Comedy, Romance]\n",
       "4800               [Comedy, Drama, Romance, TV Movie]\n",
       "4801                                               []\n",
       "4802                                    [Documentary]\n",
       "Name: genres, Length: 4803, dtype: object"
      ]
     },
     "execution_count": 44,
     "metadata": {},
     "output_type": "execute_result"
    }
   ],
   "source": [
    "df_movies_combined['genres']"
   ]
  },
  {
   "cell_type": "code",
   "execution_count": 45,
   "id": "894e9472",
   "metadata": {},
   "outputs": [],
   "source": [
    "df_movies_combined['keywords'] = df_movies_combined['keywords'].apply(clean)"
   ]
  },
  {
   "cell_type": "code",
   "execution_count": 46,
   "id": "931a74d1",
   "metadata": {},
   "outputs": [
    {
     "data": {
      "text/plain": [
       "0       [culture clash, future, space war, space colon...\n",
       "1       [ocean, drug abuse, exotic island, east india ...\n",
       "2       [spy, based on novel, secret agent, sequel, mi...\n",
       "3       [dc comics, crime fighter, terrorist, secret i...\n",
       "4       [based on novel, mars, medallion, space travel...\n",
       "                              ...                        \n",
       "4798    [united states–mexico barrier, legs, arms, pap...\n",
       "4799                                                   []\n",
       "4800    [date, love at first sight, narration, investi...\n",
       "4801                                                   []\n",
       "4802            [obsession, camcorder, crush, dream girl]\n",
       "Name: keywords, Length: 4803, dtype: object"
      ]
     },
     "execution_count": 46,
     "metadata": {},
     "output_type": "execute_result"
    }
   ],
   "source": [
    "df_movies_combined['keywords']"
   ]
  },
  {
   "cell_type": "code",
   "execution_count": 47,
   "id": "fe367cb2",
   "metadata": {},
   "outputs": [],
   "source": [
    "df_movies_combined['cast'] = df_movies_combined['cast'].apply(lambda x:[i['name'] for i in ast.literal_eval(x)][:3]) # Top 3 Actors"
   ]
  },
  {
   "cell_type": "code",
   "execution_count": 48,
   "id": "064cb353",
   "metadata": {},
   "outputs": [
    {
     "data": {
      "text/plain": [
       "['Sam Worthington', 'Zoe Saldana', 'Sigourney Weaver']"
      ]
     },
     "execution_count": 48,
     "metadata": {},
     "output_type": "execute_result"
    }
   ],
   "source": [
    "df_movies_combined['cast'][0]"
   ]
  },
  {
   "cell_type": "code",
   "execution_count": 49,
   "id": "d5a9abef",
   "metadata": {},
   "outputs": [],
   "source": [
    "df_movies_combined['crew'] = df_movies_combined['crew'].apply(lambda x:[i[\"name\"] for i in ast.literal_eval(x) if i[\"job\"]==\"Director\"]) # Director of the Movie"
   ]
  },
  {
   "cell_type": "code",
   "execution_count": 50,
   "id": "e6a645f2",
   "metadata": {},
   "outputs": [
    {
     "data": {
      "text/plain": [
       "['James Cameron']"
      ]
     },
     "execution_count": 50,
     "metadata": {},
     "output_type": "execute_result"
    }
   ],
   "source": [
    "df_movies_combined['crew'][0]"
   ]
  },
  {
   "cell_type": "code",
   "execution_count": 51,
   "id": "1c97d491",
   "metadata": {},
   "outputs": [],
   "source": [
    "df_movies_combined['tags'] = df_movies_combined['genres'] + df_movies_combined['keywords'] + df_movies_combined['cast'] + df_movies_combined['crew']"
   ]
  },
  {
   "cell_type": "code",
   "execution_count": 52,
   "id": "ac958f16",
   "metadata": {},
   "outputs": [
    {
     "data": {
      "text/plain": [
       "0       [Action, Adventure, Fantasy, Science Fiction, ...\n",
       "1       [Adventure, Fantasy, Action, ocean, drug abuse...\n",
       "2       [Action, Adventure, Crime, spy, based on novel...\n",
       "3       [Action, Crime, Drama, Thriller, dc comics, cr...\n",
       "4       [Action, Adventure, Science Fiction, based on ...\n",
       "                              ...                        \n",
       "4798    [Action, Crime, Thriller, united states–mexico...\n",
       "4799    [Comedy, Romance, Edward Burns, Kerry Bishé, M...\n",
       "4800    [Comedy, Drama, Romance, TV Movie, date, love ...\n",
       "4801    [Daniel Henney, Eliza Coupe, Bill Paxton, Dani...\n",
       "4802    [Documentary, obsession, camcorder, crush, dre...\n",
       "Name: tags, Length: 4803, dtype: object"
      ]
     },
     "execution_count": 52,
     "metadata": {},
     "output_type": "execute_result"
    }
   ],
   "source": [
    "df_movies_combined['tags']"
   ]
  },
  {
   "cell_type": "code",
   "execution_count": 53,
   "id": "29da7651",
   "metadata": {},
   "outputs": [],
   "source": [
    "df_movies_combined = df_movies_combined[['movie_id','title','overview','tags']]"
   ]
  },
  {
   "cell_type": "code",
   "execution_count": 54,
   "id": "3708ee07",
   "metadata": {},
   "outputs": [
    {
     "data": {
      "text/html": [
       "<div>\n",
       "<style scoped>\n",
       "    .dataframe tbody tr th:only-of-type {\n",
       "        vertical-align: middle;\n",
       "    }\n",
       "\n",
       "    .dataframe tbody tr th {\n",
       "        vertical-align: top;\n",
       "    }\n",
       "\n",
       "    .dataframe thead th {\n",
       "        text-align: right;\n",
       "    }\n",
       "</style>\n",
       "<table border=\"1\" class=\"dataframe\">\n",
       "  <thead>\n",
       "    <tr style=\"text-align: right;\">\n",
       "      <th></th>\n",
       "      <th>movie_id</th>\n",
       "      <th>title</th>\n",
       "      <th>overview</th>\n",
       "      <th>tags</th>\n",
       "    </tr>\n",
       "  </thead>\n",
       "  <tbody>\n",
       "    <tr>\n",
       "      <th>0</th>\n",
       "      <td>19995</td>\n",
       "      <td>Avatar</td>\n",
       "      <td>In the 22nd century, a paraplegic Marine is di...</td>\n",
       "      <td>[Action, Adventure, Fantasy, Science Fiction, ...</td>\n",
       "    </tr>\n",
       "    <tr>\n",
       "      <th>1</th>\n",
       "      <td>285</td>\n",
       "      <td>Pirates of the Caribbean: At World's End</td>\n",
       "      <td>Captain Barbossa, long believed to be dead, ha...</td>\n",
       "      <td>[Adventure, Fantasy, Action, ocean, drug abuse...</td>\n",
       "    </tr>\n",
       "    <tr>\n",
       "      <th>2</th>\n",
       "      <td>206647</td>\n",
       "      <td>Spectre</td>\n",
       "      <td>A cryptic message from Bond’s past sends him o...</td>\n",
       "      <td>[Action, Adventure, Crime, spy, based on novel...</td>\n",
       "    </tr>\n",
       "    <tr>\n",
       "      <th>3</th>\n",
       "      <td>49026</td>\n",
       "      <td>The Dark Knight Rises</td>\n",
       "      <td>Following the death of District Attorney Harve...</td>\n",
       "      <td>[Action, Crime, Drama, Thriller, dc comics, cr...</td>\n",
       "    </tr>\n",
       "    <tr>\n",
       "      <th>4</th>\n",
       "      <td>49529</td>\n",
       "      <td>John Carter</td>\n",
       "      <td>John Carter is a war-weary, former military ca...</td>\n",
       "      <td>[Action, Adventure, Science Fiction, based on ...</td>\n",
       "    </tr>\n",
       "  </tbody>\n",
       "</table>\n",
       "</div>"
      ],
      "text/plain": [
       "   movie_id                                     title  \\\n",
       "0     19995                                    Avatar   \n",
       "1       285  Pirates of the Caribbean: At World's End   \n",
       "2    206647                                   Spectre   \n",
       "3     49026                     The Dark Knight Rises   \n",
       "4     49529                               John Carter   \n",
       "\n",
       "                                            overview  \\\n",
       "0  In the 22nd century, a paraplegic Marine is di...   \n",
       "1  Captain Barbossa, long believed to be dead, ha...   \n",
       "2  A cryptic message from Bond’s past sends him o...   \n",
       "3  Following the death of District Attorney Harve...   \n",
       "4  John Carter is a war-weary, former military ca...   \n",
       "\n",
       "                                                tags  \n",
       "0  [Action, Adventure, Fantasy, Science Fiction, ...  \n",
       "1  [Adventure, Fantasy, Action, ocean, drug abuse...  \n",
       "2  [Action, Adventure, Crime, spy, based on novel...  \n",
       "3  [Action, Crime, Drama, Thriller, dc comics, cr...  \n",
       "4  [Action, Adventure, Science Fiction, based on ...  "
      ]
     },
     "execution_count": 54,
     "metadata": {},
     "output_type": "execute_result"
    }
   ],
   "source": [
    "df_movies_combined.head()"
   ]
  },
  {
   "cell_type": "code",
   "execution_count": 55,
   "id": "b15a7c28",
   "metadata": {},
   "outputs": [],
   "source": [
    "df_movies_combined = df_movies_combined.copy()\n",
    "df_movies_combined['tags'] = df_movies_combined['tags'].apply(lambda x: \" \".join(x))"
   ]
  },
  {
   "cell_type": "code",
   "execution_count": 56,
   "id": "c79cb02e",
   "metadata": {},
   "outputs": [],
   "source": [
    "df_movies_combined['tags'] = df_movies_combined['tags'].apply(lambda x: x.lower())"
   ]
  },
  {
   "cell_type": "code",
   "execution_count": 57,
   "id": "6d79976f",
   "metadata": {},
   "outputs": [
    {
     "data": {
      "text/plain": [
       "0       action adventure fantasy science fiction cultu...\n",
       "1       adventure fantasy action ocean drug abuse exot...\n",
       "2       action adventure crime spy based on novel secr...\n",
       "3       action crime drama thriller dc comics crime fi...\n",
       "4       action adventure science fiction based on nove...\n",
       "                              ...                        \n",
       "4798    action crime thriller united states–mexico bar...\n",
       "4799    comedy romance edward burns kerry bishé marsha...\n",
       "4800    comedy drama romance tv movie date love at fir...\n",
       "4801    daniel henney eliza coupe bill paxton daniel hsia\n",
       "4802    documentary obsession camcorder crush dream gi...\n",
       "Name: tags, Length: 4803, dtype: object"
      ]
     },
     "execution_count": 57,
     "metadata": {},
     "output_type": "execute_result"
    }
   ],
   "source": [
    "df_movies_combined['tags']"
   ]
  },
  {
   "cell_type": "code",
   "execution_count": 58,
   "id": "a34de1de",
   "metadata": {},
   "outputs": [
    {
     "data": {
      "text/html": [
       "<div>\n",
       "<style scoped>\n",
       "    .dataframe tbody tr th:only-of-type {\n",
       "        vertical-align: middle;\n",
       "    }\n",
       "\n",
       "    .dataframe tbody tr th {\n",
       "        vertical-align: top;\n",
       "    }\n",
       "\n",
       "    .dataframe thead th {\n",
       "        text-align: right;\n",
       "    }\n",
       "</style>\n",
       "<table border=\"1\" class=\"dataframe\">\n",
       "  <thead>\n",
       "    <tr style=\"text-align: right;\">\n",
       "      <th></th>\n",
       "      <th>movie_id</th>\n",
       "      <th>title</th>\n",
       "      <th>overview</th>\n",
       "      <th>tags</th>\n",
       "    </tr>\n",
       "  </thead>\n",
       "  <tbody>\n",
       "    <tr>\n",
       "      <th>0</th>\n",
       "      <td>19995</td>\n",
       "      <td>Avatar</td>\n",
       "      <td>In the 22nd century, a paraplegic Marine is di...</td>\n",
       "      <td>action adventure fantasy science fiction cultu...</td>\n",
       "    </tr>\n",
       "    <tr>\n",
       "      <th>1</th>\n",
       "      <td>285</td>\n",
       "      <td>Pirates of the Caribbean: At World's End</td>\n",
       "      <td>Captain Barbossa, long believed to be dead, ha...</td>\n",
       "      <td>adventure fantasy action ocean drug abuse exot...</td>\n",
       "    </tr>\n",
       "    <tr>\n",
       "      <th>2</th>\n",
       "      <td>206647</td>\n",
       "      <td>Spectre</td>\n",
       "      <td>A cryptic message from Bond’s past sends him o...</td>\n",
       "      <td>action adventure crime spy based on novel secr...</td>\n",
       "    </tr>\n",
       "    <tr>\n",
       "      <th>3</th>\n",
       "      <td>49026</td>\n",
       "      <td>The Dark Knight Rises</td>\n",
       "      <td>Following the death of District Attorney Harve...</td>\n",
       "      <td>action crime drama thriller dc comics crime fi...</td>\n",
       "    </tr>\n",
       "    <tr>\n",
       "      <th>4</th>\n",
       "      <td>49529</td>\n",
       "      <td>John Carter</td>\n",
       "      <td>John Carter is a war-weary, former military ca...</td>\n",
       "      <td>action adventure science fiction based on nove...</td>\n",
       "    </tr>\n",
       "    <tr>\n",
       "      <th>...</th>\n",
       "      <td>...</td>\n",
       "      <td>...</td>\n",
       "      <td>...</td>\n",
       "      <td>...</td>\n",
       "    </tr>\n",
       "    <tr>\n",
       "      <th>4798</th>\n",
       "      <td>9367</td>\n",
       "      <td>El Mariachi</td>\n",
       "      <td>El Mariachi just wants to play his guitar and ...</td>\n",
       "      <td>action crime thriller united states–mexico bar...</td>\n",
       "    </tr>\n",
       "    <tr>\n",
       "      <th>4799</th>\n",
       "      <td>72766</td>\n",
       "      <td>Newlyweds</td>\n",
       "      <td>A newlywed couple's honeymoon is upended by th...</td>\n",
       "      <td>comedy romance edward burns kerry bishé marsha...</td>\n",
       "    </tr>\n",
       "    <tr>\n",
       "      <th>4800</th>\n",
       "      <td>231617</td>\n",
       "      <td>Signed, Sealed, Delivered</td>\n",
       "      <td>\"Signed, Sealed, Delivered\" introduces a dedic...</td>\n",
       "      <td>comedy drama romance tv movie date love at fir...</td>\n",
       "    </tr>\n",
       "    <tr>\n",
       "      <th>4801</th>\n",
       "      <td>126186</td>\n",
       "      <td>Shanghai Calling</td>\n",
       "      <td>When ambitious New York attorney Sam is sent t...</td>\n",
       "      <td>daniel henney eliza coupe bill paxton daniel hsia</td>\n",
       "    </tr>\n",
       "    <tr>\n",
       "      <th>4802</th>\n",
       "      <td>25975</td>\n",
       "      <td>My Date with Drew</td>\n",
       "      <td>Ever since the second grade when he first saw ...</td>\n",
       "      <td>documentary obsession camcorder crush dream gi...</td>\n",
       "    </tr>\n",
       "  </tbody>\n",
       "</table>\n",
       "<p>4803 rows × 4 columns</p>\n",
       "</div>"
      ],
      "text/plain": [
       "      movie_id                                     title  \\\n",
       "0        19995                                    Avatar   \n",
       "1          285  Pirates of the Caribbean: At World's End   \n",
       "2       206647                                   Spectre   \n",
       "3        49026                     The Dark Knight Rises   \n",
       "4        49529                               John Carter   \n",
       "...        ...                                       ...   \n",
       "4798      9367                               El Mariachi   \n",
       "4799     72766                                 Newlyweds   \n",
       "4800    231617                 Signed, Sealed, Delivered   \n",
       "4801    126186                          Shanghai Calling   \n",
       "4802     25975                         My Date with Drew   \n",
       "\n",
       "                                               overview  \\\n",
       "0     In the 22nd century, a paraplegic Marine is di...   \n",
       "1     Captain Barbossa, long believed to be dead, ha...   \n",
       "2     A cryptic message from Bond’s past sends him o...   \n",
       "3     Following the death of District Attorney Harve...   \n",
       "4     John Carter is a war-weary, former military ca...   \n",
       "...                                                 ...   \n",
       "4798  El Mariachi just wants to play his guitar and ...   \n",
       "4799  A newlywed couple's honeymoon is upended by th...   \n",
       "4800  \"Signed, Sealed, Delivered\" introduces a dedic...   \n",
       "4801  When ambitious New York attorney Sam is sent t...   \n",
       "4802  Ever since the second grade when he first saw ...   \n",
       "\n",
       "                                                   tags  \n",
       "0     action adventure fantasy science fiction cultu...  \n",
       "1     adventure fantasy action ocean drug abuse exot...  \n",
       "2     action adventure crime spy based on novel secr...  \n",
       "3     action crime drama thriller dc comics crime fi...  \n",
       "4     action adventure science fiction based on nove...  \n",
       "...                                                 ...  \n",
       "4798  action crime thriller united states–mexico bar...  \n",
       "4799  comedy romance edward burns kerry bishé marsha...  \n",
       "4800  comedy drama romance tv movie date love at fir...  \n",
       "4801  daniel henney eliza coupe bill paxton daniel hsia  \n",
       "4802  documentary obsession camcorder crush dream gi...  \n",
       "\n",
       "[4803 rows x 4 columns]"
      ]
     },
     "execution_count": 58,
     "metadata": {},
     "output_type": "execute_result"
    }
   ],
   "source": [
    "df_movies_combined"
   ]
  },
  {
   "cell_type": "code",
   "execution_count": 59,
   "id": "6e453196",
   "metadata": {},
   "outputs": [
    {
     "name": "stdout",
     "output_type": "stream",
     "text": [
      "<class 'pandas.core.frame.DataFrame'>\n",
      "RangeIndex: 4803 entries, 0 to 4802\n",
      "Data columns (total 4 columns):\n",
      " #   Column    Non-Null Count  Dtype \n",
      "---  ------    --------------  ----- \n",
      " 0   movie_id  4803 non-null   int64 \n",
      " 1   title     4803 non-null   object\n",
      " 2   overview  4800 non-null   object\n",
      " 3   tags      4803 non-null   object\n",
      "dtypes: int64(1), object(3)\n",
      "memory usage: 150.2+ KB\n"
     ]
    }
   ],
   "source": [
    "df_movies_combined.info()"
   ]
  },
  {
   "cell_type": "code",
   "execution_count": 60,
   "id": "d56102f6",
   "metadata": {},
   "outputs": [],
   "source": [
    "df_movies_combined.to_csv('movies_cleaned.csv', index=False)"
   ]
  },
  {
   "cell_type": "markdown",
   "id": "2d26d24c",
   "metadata": {},
   "source": [
    "# Movie Recommendation"
   ]
  },
  {
   "cell_type": "code",
   "execution_count": 61,
   "id": "f6d89705",
   "metadata": {},
   "outputs": [],
   "source": [
    "import pandas as pd"
   ]
  },
  {
   "cell_type": "code",
   "execution_count": 66,
   "id": "db79dca6",
   "metadata": {},
   "outputs": [],
   "source": [
    "movies = pd.read_csv(\"movies_cleaned.csv\", keep_default_na=False)"
   ]
  },
  {
   "cell_type": "code",
   "execution_count": 67,
   "id": "4c2df02b",
   "metadata": {},
   "outputs": [
    {
     "data": {
      "text/html": [
       "<div>\n",
       "<style scoped>\n",
       "    .dataframe tbody tr th:only-of-type {\n",
       "        vertical-align: middle;\n",
       "    }\n",
       "\n",
       "    .dataframe tbody tr th {\n",
       "        vertical-align: top;\n",
       "    }\n",
       "\n",
       "    .dataframe thead th {\n",
       "        text-align: right;\n",
       "    }\n",
       "</style>\n",
       "<table border=\"1\" class=\"dataframe\">\n",
       "  <thead>\n",
       "    <tr style=\"text-align: right;\">\n",
       "      <th></th>\n",
       "      <th>movie_id</th>\n",
       "      <th>title</th>\n",
       "      <th>overview</th>\n",
       "      <th>tags</th>\n",
       "    </tr>\n",
       "  </thead>\n",
       "  <tbody>\n",
       "    <tr>\n",
       "      <th>0</th>\n",
       "      <td>19995</td>\n",
       "      <td>Avatar</td>\n",
       "      <td>In the 22nd century, a paraplegic Marine is di...</td>\n",
       "      <td>action adventure fantasy science fiction cultu...</td>\n",
       "    </tr>\n",
       "    <tr>\n",
       "      <th>1</th>\n",
       "      <td>285</td>\n",
       "      <td>Pirates of the Caribbean: At World's End</td>\n",
       "      <td>Captain Barbossa, long believed to be dead, ha...</td>\n",
       "      <td>adventure fantasy action ocean drug abuse exot...</td>\n",
       "    </tr>\n",
       "    <tr>\n",
       "      <th>2</th>\n",
       "      <td>206647</td>\n",
       "      <td>Spectre</td>\n",
       "      <td>A cryptic message from Bond’s past sends him o...</td>\n",
       "      <td>action adventure crime spy based on novel secr...</td>\n",
       "    </tr>\n",
       "    <tr>\n",
       "      <th>3</th>\n",
       "      <td>49026</td>\n",
       "      <td>The Dark Knight Rises</td>\n",
       "      <td>Following the death of District Attorney Harve...</td>\n",
       "      <td>action crime drama thriller dc comics crime fi...</td>\n",
       "    </tr>\n",
       "    <tr>\n",
       "      <th>4</th>\n",
       "      <td>49529</td>\n",
       "      <td>John Carter</td>\n",
       "      <td>John Carter is a war-weary, former military ca...</td>\n",
       "      <td>action adventure science fiction based on nove...</td>\n",
       "    </tr>\n",
       "    <tr>\n",
       "      <th>...</th>\n",
       "      <td>...</td>\n",
       "      <td>...</td>\n",
       "      <td>...</td>\n",
       "      <td>...</td>\n",
       "    </tr>\n",
       "    <tr>\n",
       "      <th>4798</th>\n",
       "      <td>9367</td>\n",
       "      <td>El Mariachi</td>\n",
       "      <td>El Mariachi just wants to play his guitar and ...</td>\n",
       "      <td>action crime thriller united states–mexico bar...</td>\n",
       "    </tr>\n",
       "    <tr>\n",
       "      <th>4799</th>\n",
       "      <td>72766</td>\n",
       "      <td>Newlyweds</td>\n",
       "      <td>A newlywed couple's honeymoon is upended by th...</td>\n",
       "      <td>comedy romance edward burns kerry bishé marsha...</td>\n",
       "    </tr>\n",
       "    <tr>\n",
       "      <th>4800</th>\n",
       "      <td>231617</td>\n",
       "      <td>Signed, Sealed, Delivered</td>\n",
       "      <td>\"Signed, Sealed, Delivered\" introduces a dedic...</td>\n",
       "      <td>comedy drama romance tv movie date love at fir...</td>\n",
       "    </tr>\n",
       "    <tr>\n",
       "      <th>4801</th>\n",
       "      <td>126186</td>\n",
       "      <td>Shanghai Calling</td>\n",
       "      <td>When ambitious New York attorney Sam is sent t...</td>\n",
       "      <td>daniel henney eliza coupe bill paxton daniel hsia</td>\n",
       "    </tr>\n",
       "    <tr>\n",
       "      <th>4802</th>\n",
       "      <td>25975</td>\n",
       "      <td>My Date with Drew</td>\n",
       "      <td>Ever since the second grade when he first saw ...</td>\n",
       "      <td>documentary obsession camcorder crush dream gi...</td>\n",
       "    </tr>\n",
       "  </tbody>\n",
       "</table>\n",
       "<p>4803 rows × 4 columns</p>\n",
       "</div>"
      ],
      "text/plain": [
       "      movie_id                                     title  \\\n",
       "0        19995                                    Avatar   \n",
       "1          285  Pirates of the Caribbean: At World's End   \n",
       "2       206647                                   Spectre   \n",
       "3        49026                     The Dark Knight Rises   \n",
       "4        49529                               John Carter   \n",
       "...        ...                                       ...   \n",
       "4798      9367                               El Mariachi   \n",
       "4799     72766                                 Newlyweds   \n",
       "4800    231617                 Signed, Sealed, Delivered   \n",
       "4801    126186                          Shanghai Calling   \n",
       "4802     25975                         My Date with Drew   \n",
       "\n",
       "                                               overview  \\\n",
       "0     In the 22nd century, a paraplegic Marine is di...   \n",
       "1     Captain Barbossa, long believed to be dead, ha...   \n",
       "2     A cryptic message from Bond’s past sends him o...   \n",
       "3     Following the death of District Attorney Harve...   \n",
       "4     John Carter is a war-weary, former military ca...   \n",
       "...                                                 ...   \n",
       "4798  El Mariachi just wants to play his guitar and ...   \n",
       "4799  A newlywed couple's honeymoon is upended by th...   \n",
       "4800  \"Signed, Sealed, Delivered\" introduces a dedic...   \n",
       "4801  When ambitious New York attorney Sam is sent t...   \n",
       "4802  Ever since the second grade when he first saw ...   \n",
       "\n",
       "                                                   tags  \n",
       "0     action adventure fantasy science fiction cultu...  \n",
       "1     adventure fantasy action ocean drug abuse exot...  \n",
       "2     action adventure crime spy based on novel secr...  \n",
       "3     action crime drama thriller dc comics crime fi...  \n",
       "4     action adventure science fiction based on nove...  \n",
       "...                                                 ...  \n",
       "4798  action crime thriller united states–mexico bar...  \n",
       "4799  comedy romance edward burns kerry bishé marsha...  \n",
       "4800  comedy drama romance tv movie date love at fir...  \n",
       "4801  daniel henney eliza coupe bill paxton daniel hsia  \n",
       "4802  documentary obsession camcorder crush dream gi...  \n",
       "\n",
       "[4803 rows x 4 columns]"
      ]
     },
     "execution_count": 67,
     "metadata": {},
     "output_type": "execute_result"
    }
   ],
   "source": [
    "movies"
   ]
  },
  {
   "cell_type": "code",
   "execution_count": 69,
   "id": "fc94663a",
   "metadata": {},
   "outputs": [],
   "source": [
    "from sklearn.feature_extraction.text import TfidfVectorizer\n",
    "\n",
    "tfidf = TfidfVectorizer(stop_words='english')\n",
    "tfidf_matrix = tfidf.fit_transform(movies['tags'])"
   ]
  },
  {
   "cell_type": "code",
   "execution_count": 71,
   "id": "a14746c6",
   "metadata": {},
   "outputs": [],
   "source": [
    "from sklearn.metrics.pairwise import cosine_similarity\n",
    "cosine_sim = cosine_similarity(tfidf_matrix,tfidf_matrix)"
   ]
  },
  {
   "cell_type": "code",
   "execution_count": null,
   "id": "b065958d",
   "metadata": {},
   "outputs": [
    {
     "data": {
      "text/plain": [
       "(4803, 4803)"
      ]
     },
     "execution_count": 75,
     "metadata": {},
     "output_type": "execute_result"
    }
   ],
   "source": [
    "cosine_sim.shape"
   ]
  },
  {
   "cell_type": "code",
   "execution_count": 80,
   "id": "c813c9f1",
   "metadata": {},
   "outputs": [
    {
     "name": "stdout",
     "output_type": "stream",
     "text": [
      "0\n"
     ]
    }
   ],
   "source": [
    "title = \"Avatar\"\n",
    "idx = movies[movies[\"title\"]==title].index[0]\n",
    "print(idx)"
   ]
  },
  {
   "cell_type": "code",
   "execution_count": 83,
   "id": "4c2a9529",
   "metadata": {},
   "outputs": [
    {
     "name": "stdout",
     "output_type": "stream",
     "text": [
      "[(0, np.float64(1.0000000000000004)), (1, np.float64(0.026875539976931324)), (2, np.float64(0.033453213560318384)), (3, np.float64(0.0035521889011104375)), (4, np.float64(0.19403811416817474)), (5, np.float64(0.056871449309871716)), (6, np.float64(0.0188605123162987)), (7, np.float64(0.04472155268651473)), (8, np.float64(0.016786109221807434)), (9, np.float64(0.018140461419235816)), (10, np.float64(0.03393767187336144)), (11, np.float64(0.01317183141034739)), (12, np.float64(0.01755618194968124)), (13, np.float64(0.008251557152026984)), (14, np.float64(0.06848294195255658)), (15, np.float64(0.0230153530169645)), (16, np.float64(0.059174035726998545)), (17, np.float64(0.07891710993164844)), (18, np.float64(0.10794889593922567)), (19, np.float64(0.06200371178743123)), (20, np.float64(0.016914294552358447)), (21, np.float64(0.010713496800116833)), (22, np.float64(0.018182234579491863)), (23, np.float64(0.01614774917777682)), (24, np.float64(0.010863263263885516)), (25, np.float64(0.06173173927525008)), (26, np.float64(0.08332868751794842)), (27, np.float64(0.04649838304233614)), (28, np.float64(0.035782301083541614)), (29, np.float64(0.026669050479372104)), (30, np.float64(0.06536782952419189)), (31, np.float64(0.06861134429290171)), (32, np.float64(0.059440147079254796)), (33, np.float64(0.029483248764200748)), (34, np.float64(0.0)), (35, np.float64(0.02869088816484642)), (36, np.float64(0.06281881558966543)), (37, np.float64(0.0710998683329433)), (38, np.float64(0.020674841670629114)), (39, np.float64(0.025469282698078896)), (40, np.float64(0.007549291220174525)), (41, np.float64(0.11555604812625081)), (42, np.float64(0.0)), (43, np.float64(0.0811976211066765)), (44, np.float64(0.01795429167731729)), (45, np.float64(0.020303016338090882)), (46, np.float64(0.09045763157539617)), (47, np.float64(0.37205262890868385)), (48, np.float64(0.0183191666954132)), (49, np.float64(0.03138979232531456)), (50, np.float64(0.027969126840420598)), (51, np.float64(0.04715987653328072)), (52, np.float64(0.09168523807607043)), (53, np.float64(0.037339704657222625)), (54, np.float64(0.006544730442823007)), (55, np.float64(0.03032917474432127)), (56, np.float64(0.12992473959168305)), (57, np.float64(0.0)), (58, np.float64(0.006786711032603829)), (59, np.float64(0.022824591481567475)), (60, np.float64(0.0)), (61, np.float64(0.1451859134054741)), (62, np.float64(0.012730304538986287)), (63, np.float64(0.04108725327684519)), (64, np.float64(0.027927253245434873)), (65, np.float64(0.003492858742184959)), (66, np.float64(0.00620136011274259)), (67, np.float64(0.07279425454335747)), (68, np.float64(0.022460534969896986)), (69, np.float64(0.032438876739103034)), (70, np.float64(0.03297776411271624)), (71, np.float64(0.03452739806256144)), (72, np.float64(0.05758682523628393)), (73, np.float64(0.00894689815906425)), (74, np.float64(0.13780688725562087)), (75, np.float64(0.012803892651699456)), (76, np.float64(0.027147476831524638)), (77, np.float64(0.01905178944632964)), (78, np.float64(0.0136651237590318)), (79, np.float64(0.028047633602675662)), (80, np.float64(0.013675227045533544)), (81, np.float64(0.0453214764423128)), (82, np.float64(0.07752585793877412)), (83, np.float64(0.043846826700500705)), (84, np.float64(0.034506365931924715)), (85, np.float64(0.05999988682669691)), (86, np.float64(0.0837679154784319)), (87, np.float64(0.10332969728046092)), (88, np.float64(0.02547674767804181)), (89, np.float64(0.004566913610988365)), (90, np.float64(0.014201151322781009)), (91, np.float64(0.09031540024598565)), (92, np.float64(0.03246721480421185)), (93, np.float64(0.017368532924929264)), (94, np.float64(0.26108953526418893)), (95, np.float64(0.16619621909660914)), (96, np.float64(0.029545279001982172)), (97, np.float64(0.02366177023336534)), (98, np.float64(0.015611452043690782)), (99, np.float64(0.005034824425118494)), (100, np.float64(0.042725449613729)), (101, np.float64(0.08836932039824727)), (102, np.float64(0.055634114948635155)), (103, np.float64(0.028532113945258744)), (104, np.float64(0.009244865773477351)), (105, np.float64(0.05308815162544653)), (106, np.float64(0.02810419851850496)), (107, np.float64(0.03466095068971334)), (108, np.float64(0.09921905126244546)), (109, np.float64(0.023106653488946624)), (110, np.float64(0.08214427740485843)), (111, np.float64(0.07321950362618262)), (112, np.float64(0.03980402233917757)), (113, np.float64(0.013325748316243622)), (114, np.float64(0.01340951501773078)), (115, np.float64(0.03775831698715373)), (116, np.float64(0.0215847195914148)), (117, np.float64(0.014709150791116708)), (118, np.float64(0.006631290097290071)), (119, np.float64(0.042069856864354625)), (120, np.float64(0.0)), (121, np.float64(0.022747081154733464)), (122, np.float64(0.03259443499189771)), (123, np.float64(0.026124429125408445)), (124, np.float64(0.02287731939681446)), (125, np.float64(0.03173798812842756)), (126, np.float64(0.03604811003179757)), (127, np.float64(0.07050174622216426)), (128, np.float64(0.023955773384668907)), (129, np.float64(0.03188366111057903)), (130, np.float64(0.005283465155973139)), (131, np.float64(0.05335878853917687)), (132, np.float64(0.07656362030461479)), (133, np.float64(0.016388916026373133)), (134, np.float64(0.01129395459385064)), (135, np.float64(0.0)), (136, np.float64(0.0055668155738088565)), (137, np.float64(0.0)), (138, np.float64(0.03890976431709979)), (139, np.float64(0.0064810835995597815)), (140, np.float64(0.006081809376306314)), (141, np.float64(0.12001254802800082)), (142, np.float64(0.028989234339891798)), (143, np.float64(0.027843441355338554)), (144, np.float64(0.02519657444066567)), (145, np.float64(0.03100314831590831)), (146, np.float64(0.02265326661864412)), (147, np.float64(0.0972089098880462)), (148, np.float64(0.016668200814054457)), (149, np.float64(0.2303479849456522)), (150, np.float64(0.14625139526999725)), (151, np.float64(0.02656749456362803)), (152, np.float64(0.00935170964657036)), (153, np.float64(0.013129046031285722)), (154, np.float64(0.009337538601847698)), (155, np.float64(0.01680926943063971)), (156, np.float64(0.09658320126388831)), (157, np.float64(0.03814142999200664)), (158, np.float64(0.22799647264436904)), (159, np.float64(0.03265380288838114)), (160, np.float64(0.0365934557778502)), (161, np.float64(0.02554215322947704)), (162, np.float64(0.006924294804234233)), (163, np.float64(0.03466501555707743)), (164, np.float64(0.01519626981522221)), (165, np.float64(0.028889763459685025)), (166, np.float64(0.049816611973748086)), (167, np.float64(0.013873459106456772)), (168, np.float64(0.09114467578635563)), (169, np.float64(0.055966641796405744)), (170, np.float64(0.011695234795019516)), (171, np.float64(0.0474722037064233)), (172, np.float64(0.03493915691484288)), (173, np.float64(0.02929841672418486)), (174, np.float64(0.039665090191167214)), (175, np.float64(0.01647869093993786)), (176, np.float64(0.004531783016197001)), (177, np.float64(0.02730994667883711)), (178, np.float64(0.005327371111729858)), (179, np.float64(0.0337478596170525)), (180, np.float64(0.00344510099743576)), (181, np.float64(0.004480095048059962)), (182, np.float64(0.04917587764923926)), (183, np.float64(0.03798156546644606)), (184, np.float64(0.20850061151703253)), (185, np.float64(0.06096273068137732)), (186, np.float64(0.01033108222772541)), (187, np.float64(0.03593575459100196)), (188, np.float64(0.02578344126269251)), (189, np.float64(0.03536059792148356)), (190, np.float64(0.027955207032049234)), (191, np.float64(0.02913964131766513)), (192, np.float64(0.02022997228352672)), (193, np.float64(0.04031827113174312)), (194, np.float64(0.0038493349862748602)), (195, np.float64(0.017408565807313727)), (196, np.float64(0.051783290787020916)), (197, np.float64(0.024390326337751747)), (198, np.float64(0.016468847263562736)), (199, np.float64(0.013937027912994615)), (200, np.float64(0.0802876857732594)), (201, np.float64(0.020081754147400717)), (202, np.float64(0.007039549291150884)), (203, np.float64(0.03338444230396315)), (204, np.float64(0.0041399467489892545)), (205, np.float64(0.013777149555707406)), (206, np.float64(0.08053388559708244)), (207, np.float64(0.11575351917231799)), (208, np.float64(0.044305719550539954)), (209, np.float64(0.0031679227239765867)), (210, np.float64(0.013656272084243876)), (211, np.float64(0.023998533706566905)), (212, np.float64(0.016101269876769624)), (213, np.float64(0.00897210225626514)), (214, np.float64(0.0)), (215, np.float64(0.08394722364655031)), (216, np.float64(0.009906982302089033)), (217, np.float64(0.014612009585934454)), (218, np.float64(0.006797102321503938)), (219, np.float64(0.049652401185677916)), (220, np.float64(0.04845324306125043)), (221, np.float64(0.00820830298201346)), (222, np.float64(0.12680491065999555)), (223, np.float64(0.13714554466851359)), (224, np.float64(0.05429022004628642)), (225, np.float64(0.022176578002623903)), (226, np.float64(0.0418421764431767)), (227, np.float64(0.03930292400941229)), (228, np.float64(0.16578515601515978)), (229, np.float64(0.11926513946070232)), (230, np.float64(0.11689937799292448)), (231, np.float64(0.0)), (232, np.float64(0.07448033445568132)), (233, np.float64(0.11529763463241569)), (234, np.float64(0.01530811596357353)), (235, np.float64(0.012937226986041831)), (236, np.float64(0.09978544166243863)), (237, np.float64(0.012817219699275538)), (238, np.float64(0.05917557506687954)), (239, np.float64(0.28651448611898866)), (240, np.float64(0.007482331534315073)), (241, np.float64(0.023084081510520348)), (242, np.float64(0.025285735094782193)), (243, np.float64(0.015652974261179793)), (244, np.float64(0.020557120361188605)), (245, np.float64(0.008078846272896172)), (246, np.float64(0.024382662429429144)), (247, np.float64(0.0)), (248, np.float64(0.003966481995080448)), (249, np.float64(0.08648590577623066)), (250, np.float64(0.0)), (251, np.float64(0.03949676857041503)), (252, np.float64(0.004175910821036466)), (253, np.float64(0.06283320707693577)), (254, np.float64(0.013844723395619228)), (255, np.float64(0.0)), (256, np.float64(0.057243156919531656)), (257, np.float64(0.020560040772719952)), (258, np.float64(0.011244610824859932)), (259, np.float64(0.012647663178789962)), (260, np.float64(0.1791436497008233)), (261, np.float64(0.025580204959198712)), (262, np.float64(0.01731585413382765)), (263, np.float64(0.010437286518391879)), (264, np.float64(0.0)), (265, np.float64(0.010309504824894034)), (266, np.float64(0.05967169622200659)), (267, np.float64(0.029277681207461752)), (268, np.float64(0.008534313456411077)), (269, np.float64(0.004693505145042964)), (270, np.float64(0.18593753491333032)), (271, np.float64(0.04174420131809137)), (272, np.float64(0.007032344475798162)), (273, np.float64(0.003161622173678891)), (274, np.float64(0.008332106950665332)), (275, np.float64(0.06354041699502745)), (276, np.float64(0.01448368537973014)), (277, np.float64(0.011103656863799683)), (278, np.float64(0.3347665924698392)), (279, np.float64(0.06719214236451508)), (280, np.float64(0.0)), (281, np.float64(0.02308435236829523)), (282, np.float64(0.030775636144676648)), (283, np.float64(0.0)), (284, np.float64(0.00739686905712117)), (285, np.float64(0.004902983295453063)), (286, np.float64(0.012371864132548262)), (287, np.float64(0.022548505059540057)), (288, np.float64(0.0)), (289, np.float64(0.01573724380560024)), (290, np.float64(0.010021756027181876)), (291, np.float64(0.012513760042901747)), (292, np.float64(0.029688700128808407)), (293, np.float64(0.008109195388713705)), (294, np.float64(0.03326062566378887)), (295, np.float64(0.01853798113847249)), (296, np.float64(0.029889296248206552)), (297, np.float64(0.003989675328500627)), (298, np.float64(0.0)), (299, np.float64(0.010302829117332537)), (300, np.float64(0.21834706978562327)), (301, np.float64(0.03644989361542904)), (302, np.float64(0.020326262825133636)), (303, np.float64(0.004237471567940583)), (304, np.float64(0.03893503124930102)), (305, np.float64(0.25542930493328475)), (306, np.float64(0.07610818222144047)), (307, np.float64(0.038736768619812394)), (308, np.float64(0.025290821710886147)), (309, np.float64(0.019704916142009855)), (310, np.float64(0.007095430176815371)), (311, np.float64(0.04872090828633345)), (312, np.float64(0.04114217792190246)), (313, np.float64(0.021849911098594813)), (314, np.float64(0.0)), (315, np.float64(0.027540060673973445)), (316, np.float64(0.0440414392334285)), (317, np.float64(0.02457703897422934)), (318, np.float64(0.0)), (319, np.float64(0.028285779900731195)), (320, np.float64(0.051697171301309915)), (321, np.float64(0.0)), (322, np.float64(0.18428244267555557)), (323, np.float64(0.008937450246903154)), (324, np.float64(0.007476609070411116)), (325, np.float64(0.004891408008916185)), (326, np.float64(0.026604699476230786)), (327, np.float64(0.020241758863201988)), (328, np.float64(0.0)), (329, np.float64(0.0383249422324773)), (330, np.float64(0.018107964604706442)), (331, np.float64(0.025671251639252518)), (332, np.float64(0.01721834704396326)), (333, np.float64(0.08506529732636398)), (334, np.float64(0.044813791480647416)), (335, np.float64(0.03176804996122667)), (336, np.float64(0.014042482945105319)), (337, np.float64(0.005630104754509786)), (338, np.float64(0.02718227006536186)), (339, np.float64(0.012386970226809743)), (340, np.float64(0.012687372492215125)), (341, np.float64(0.016254263772265496)), (342, np.float64(0.1394917048966271)), (343, np.float64(0.0)), (344, np.float64(0.007319760409470625)), (345, np.float64(0.0073107589692991935)), (346, np.float64(0.0)), (347, np.float64(0.027966185452269088)), (348, np.float64(0.029323423317145728)), (349, np.float64(0.013208556367566397)), (350, np.float64(0.048069861507454466)), (351, np.float64(0.0)), (352, np.float64(0.006469004228504643)), (353, np.float64(0.024556298917232555)), (354, np.float64(0.0)), (355, np.float64(0.007280207522658179)), (356, np.float64(0.010504013952789309)), (357, np.float64(0.0)), (358, np.float64(0.024029274999347768)), (359, np.float64(0.06685681246771163)), (360, np.float64(0.034871813439514385)), (361, np.float64(0.0037683376904232967)), (362, np.float64(0.095772778041618)), (363, np.float64(0.0656546672590257)), (364, np.float64(0.010124238659907562)), (365, np.float64(0.04585356942712214)), (366, np.float64(0.03467378493290789)), (367, np.float64(0.0)), (368, np.float64(0.028255040553669515)), (369, np.float64(0.0171219142954048)), (370, np.float64(0.038659046185370735)), (371, np.float64(0.036241062834524516)), (372, np.float64(0.040001175004680874)), (373, np.float64(0.321611783288889)), (374, np.float64(0.006458731084945134)), (375, np.float64(0.09845820609743434)), (376, np.float64(0.023903992722958796)), (377, np.float64(0.0)), (378, np.float64(0.0)), (379, np.float64(0.03569322343585627)), (380, np.float64(0.00478724371965852)), (381, np.float64(0.020825226597048028)), (382, np.float64(0.0)), (383, np.float64(0.00879008035981973)), (384, np.float64(0.005899339129065828)), (385, np.float64(0.011723835966077529)), (386, np.float64(0.00370448875293882)), (387, np.float64(0.0034342179261607994)), (388, np.float64(0.0)), (389, np.float64(0.04423915749490186)), (390, np.float64(0.008128882572151601)), (391, np.float64(0.03884937853122674)), (392, np.float64(0.005025102910777214)), (393, np.float64(0.024832383771746017)), (394, np.float64(0.0036649481008696927)), (395, np.float64(0.0283192467277866)), (396, np.float64(0.0036564847264735087)), (397, np.float64(0.008308994796147069)), (398, np.float64(0.0)), (399, np.float64(0.0056361041441967425)), (400, np.float64(0.06380600772748424)), (401, np.float64(0.055619482440557845)), (402, np.float64(0.01139570839291788)), (403, np.float64(0.018579344892709022)), (404, np.float64(0.03045756832993133)), (405, np.float64(0.003655484762653042)), (406, np.float64(0.015203634871642493)), (407, np.float64(0.021264459718784136)), (408, np.float64(0.00507182270899106)), (409, np.float64(0.0)), (410, np.float64(0.02027790251171524)), (411, np.float64(0.009655756876940152)), (412, np.float64(0.03143003639452269)), (413, np.float64(0.03593695126892485)), (414, np.float64(0.007073230624928694)), (415, np.float64(0.05535990866142597)), (416, np.float64(0.02936034347878859)), (417, np.float64(0.03758758740368058)), (418, np.float64(0.04590393784187795)), (419, np.float64(0.044589732526796766)), (420, np.float64(0.022182268740786618)), (421, np.float64(0.0)), (422, np.float64(0.05852113049831809)), (423, np.float64(0.020467655350751478)), (424, np.float64(0.010317291597910946)), (425, np.float64(0.008205424378125742)), (426, np.float64(0.02483403275311821)), (427, np.float64(0.0)), (428, np.float64(0.01050606279394687)), (429, np.float64(0.0)), (430, np.float64(0.05975743375404668)), (431, np.float64(0.007639609852958626)), (432, np.float64(0.08044278109470838)), (433, np.float64(0.005218267780796235)), (434, np.float64(0.0)), (435, np.float64(0.011720580851597513)), (436, np.float64(0.023426582603983555)), (437, np.float64(0.005494515499823124)), (438, np.float64(0.00790947839377261)), (439, np.float64(0.0)), (440, np.float64(0.008029879794021698)), (441, np.float64(0.019441733486514255)), (442, np.float64(0.015571055268226809)), (443, np.float64(0.012503879403723071)), (444, np.float64(0.01461298445893552)), (445, np.float64(0.01893080783362355)), (446, np.float64(0.02330223805764413)), (447, np.float64(0.004965045285314881)), (448, np.float64(0.013355063598959414)), (449, np.float64(0.023624477179333133)), (450, np.float64(0.0164899650109174)), (451, np.float64(0.006391139367910119)), (452, np.float64(0.005261709333090981)), (453, np.float64(0.00541088784561804)), (454, np.float64(0.08264221745978598)), (455, np.float64(0.003980564971734321)), (456, np.float64(0.08074390439094827)), (457, np.float64(0.023604112058780824)), (458, np.float64(0.030328714090784473)), (459, np.float64(0.038120334979548004)), (460, np.float64(0.018552472922433214)), (461, np.float64(0.1507265039199598)), (462, np.float64(0.04777399373855951)), (463, np.float64(0.020013845062493728)), (464, np.float64(0.0)), (465, np.float64(0.0092217430216268)), (466, np.float64(0.06877628382605863)), (467, np.float64(0.027510834795473848)), (468, np.float64(0.004702390032770198)), (469, np.float64(0.034998988201576854)), (470, np.float64(0.05361231283375224)), (471, np.float64(0.018193421462819263)), (472, np.float64(0.025506197359102166)), (473, np.float64(0.023634625153647906)), (474, np.float64(0.0)), (475, np.float64(0.010695197452740023)), (476, np.float64(0.02984685398643104)), (477, np.float64(0.0)), (478, np.float64(0.03114800233525964)), (479, np.float64(0.03307813672485931)), (480, np.float64(0.08071465264459358)), (481, np.float64(0.005280359868274748)), (482, np.float64(0.004462121931417576)), (483, np.float64(0.06777770796211653)), (484, np.float64(0.008167360713454764)), (485, np.float64(0.021998019404504944)), (486, np.float64(0.023866331370161673)), (487, np.float64(0.060656247612759805)), (488, np.float64(0.025986203396389573)), (489, np.float64(0.0)), (490, np.float64(0.06484632158033055)), (491, np.float64(0.03547357708870538)), (492, np.float64(0.030136130129734828)), (493, np.float64(0.014250354591419538)), (494, np.float64(0.01114963247464144)), (495, np.float64(0.060185407415124806)), (496, np.float64(0.04628987023313482)), (497, np.float64(0.0)), (498, np.float64(0.007359324822397935)), (499, np.float64(0.0)), (500, np.float64(0.005083534346226626)), (501, np.float64(0.035588135588752845)), (502, np.float64(0.11672087568968588)), (503, np.float64(0.017197951060820577)), (504, np.float64(0.0)), (505, np.float64(0.02835921182780212)), (506, np.float64(0.03259718199787567)), (507, np.float64(0.12151642385371322)), (508, np.float64(0.026454849204533365)), (509, np.float64(0.0)), (510, np.float64(0.042462926770103236)), (511, np.float64(0.0335328551603719)), (512, np.float64(0.05921448802362037)), (513, np.float64(0.012499085122316483)), (514, np.float64(0.010125018082249594)), (515, np.float64(0.007029494846296024)), (516, np.float64(0.004879729270963543)), (517, np.float64(0.010146721898934343)), (518, np.float64(0.015378629146260155)), (519, np.float64(0.0)), (520, np.float64(0.0)), (521, np.float64(0.0)), (522, np.float64(0.0)), (523, np.float64(0.012775226741612177)), (524, np.float64(0.041678644041285656)), (525, np.float64(0.016548227371382902)), (526, np.float64(0.045526831556181396)), (527, np.float64(0.0)), (528, np.float64(0.003386856149615652)), (529, np.float64(0.0359733506919903)), (530, np.float64(0.01574785770753065)), (531, np.float64(0.03232831528942312)), (532, np.float64(0.030664627383565127)), (533, np.float64(0.01094040349970784)), (534, np.float64(0.016271077605202914)), (535, np.float64(0.017878975158684314)), (536, np.float64(0.043361096808616675)), (537, np.float64(0.015409357410260883)), (538, np.float64(0.0)), (539, np.float64(0.16595949029558368)), (540, np.float64(0.015624896461834278)), (541, np.float64(0.2753875450615731)), (542, np.float64(0.019372736243835856)), (543, np.float64(0.02316897438875929)), (544, np.float64(0.011475127210791778)), (545, np.float64(0.018634051612289808)), (546, np.float64(0.028475967196496317)), (547, np.float64(0.022689997435766985)), (548, np.float64(0.0)), (549, np.float64(0.15454207775159182)), (550, np.float64(0.019059205477838844)), (551, np.float64(0.009364079792609559)), (552, np.float64(0.0)), (553, np.float64(0.004385434366753654)), (554, np.float64(0.0)), (555, np.float64(0.017467192457140353)), (556, np.float64(0.03734839540734632)), (557, np.float64(0.12485831957796033)), (558, np.float64(0.01623875144960133)), (559, np.float64(0.03691427357593282)), (560, np.float64(0.005281646577652751)), (561, np.float64(0.005457687071329322)), (562, np.float64(0.0)), (563, np.float64(0.013006732831248893)), (564, np.float64(0.09333752499266951)), (565, np.float64(0.03670616745912544)), (566, np.float64(0.005290111591542434)), (567, np.float64(0.006931491430481927)), (568, np.float64(0.030561316722341688)), (569, np.float64(0.011728713732645585)), (570, np.float64(0.004875314287680069)), (571, np.float64(0.05094519415001232)), (572, np.float64(0.028907359644811267)), (573, np.float64(0.0032056691227902614)), (574, np.float64(0.005714322802538868)), (575, np.float64(0.08913954586736306)), (576, np.float64(0.008909168102705312)), (577, np.float64(0.16656870859395306)), (578, np.float64(0.07050600083682323)), (579, np.float64(0.08207637306746918)), (580, np.float64(0.00617783896112297)), (581, np.float64(0.11102833717896954)), (582, np.float64(0.1843793213347568)), (583, np.float64(0.023103391972694075)), (584, np.float64(0.02907146782119993)), (585, np.float64(0.04559256212806441)), (586, np.float64(0.07488985778814687)), (587, np.float64(0.07679532457409802)), (588, np.float64(0.0)), (589, np.float64(0.056717553978848305)), (590, np.float64(0.006113161483083443)), (591, np.float64(0.040645335153694735)), (592, np.float64(0.04118304717788381)), (593, np.float64(0.025016830031682216)), (594, np.float64(0.00828935571252137)), (595, np.float64(0.055952908861757814)), (596, np.float64(0.012169100922290755)), (597, np.float64(0.012095550009529946)), (598, np.float64(0.02028448170766496)), (599, np.float64(0.10011483658284498)), (600, np.float64(0.018055253414480117)), (601, np.float64(0.04181561826793076)), (602, np.float64(0.013348759764383407)), (603, np.float64(0.0)), (604, np.float64(0.011329632098983921)), (605, np.float64(0.0)), (606, np.float64(0.02722069614887295)), (607, np.float64(0.05400855901606193)), (608, np.float64(0.0)), (609, np.float64(0.02330726520245223)), (610, np.float64(0.010526529132519672)), (611, np.float64(0.045751074036273445)), (612, np.float64(0.025620647265500757)), (613, np.float64(0.0042094167076234465)), (614, np.float64(0.014704412852660368)), (615, np.float64(0.004874836035684759)), (616, np.float64(0.0)), (617, np.float64(0.10146467091226373)), (618, np.float64(0.023804004540543114)), (619, np.float64(0.0)), (620, np.float64(0.0)), (621, np.float64(0.02494189965073388)), (622, np.float64(0.005188454140549583)), (623, np.float64(0.0419431469929113)), (624, np.float64(0.05722073245913545)), (625, np.float64(0.004065092521580549)), (626, np.float64(0.1268399448619147)), (627, np.float64(0.036622323705079646)), (628, np.float64(0.0929065920839436)), (629, np.float64(0.025396507430848342)), (630, np.float64(0.006886293887216934)), (631, np.float64(0.007582388842049799)), (632, np.float64(0.026329477231876765)), (633, np.float64(0.031301970780294945)), (634, np.float64(0.016376283608569096)), (635, np.float64(0.06019825088797372)), (636, np.float64(0.00892082974823085)), (637, np.float64(0.016349901187275022)), (638, np.float64(0.007348806556105515)), (639, np.float64(0.0)), (640, np.float64(0.013712823881657652)), (641, np.float64(0.0)), (642, np.float64(0.0863106986025525)), (643, np.float64(0.12806220485527986)), (644, np.float64(0.010180761493393305)), (645, np.float64(0.008271075529491391)), (646, np.float64(0.029628813987787165)), (647, np.float64(0.04410789711802196)), (648, np.float64(0.005674228695435094)), (649, np.float64(0.0)), (650, np.float64(0.010902595097313169)), (651, np.float64(0.0)), (652, np.float64(0.006310519206190432)), (653, np.float64(0.02026849879190237)), (654, np.float64(0.027505298572006356)), (655, np.float64(0.058931056018328674)), (656, np.float64(0.0315797507455262)), (657, np.float64(0.018289915853985574)), (658, np.float64(0.019286414077947612)), (659, np.float64(0.004041706276065957)), (660, np.float64(0.041123553386435384)), (661, np.float64(0.1775655143884332)), (662, np.float64(0.0)), (663, np.float64(0.0)), (664, np.float64(0.012526223093334775)), (665, np.float64(0.016227748247595927)), (666, np.float64(0.08666877299638596)), (667, np.float64(0.0)), (668, np.float64(0.016982044184223354)), (669, np.float64(0.020042034368636486)), (670, np.float64(0.006140288815905339)), (671, np.float64(0.02222253528095284)), (672, np.float64(0.007293763965008461)), (673, np.float64(0.02056027485448892)), (674, np.float64(0.034589975165108915)), (675, np.float64(0.03336536374776054)), (676, np.float64(0.004422868010709414)), (677, np.float64(0.02054578441791801)), (678, np.float64(0.019717601198005776)), (679, np.float64(0.0)), (680, np.float64(0.06310235700283223)), (681, np.float64(0.02057842499373808)), (682, np.float64(0.004973776446593065)), (683, np.float64(0.010748041271222135)), (684, np.float64(0.023494990854256135)), (685, np.float64(0.0058531202996040576)), (686, np.float64(0.015647112654678746)), (687, np.float64(0.03484238094790623)), (688, np.float64(0.02729209564078088)), (689, np.float64(0.0)), (690, np.float64(0.006903050582156588)), (691, np.float64(0.028514772247217483)), (692, np.float64(0.20576311782888454)), (693, np.float64(0.0)), (694, np.float64(0.0031589697813801366)), (695, np.float64(0.008037558522265365)), (696, np.float64(0.010996034053231601)), (697, np.float64(0.0)), (698, np.float64(0.005425983644876299)), (699, np.float64(0.0)), (700, np.float64(0.004966967893524771)), (701, np.float64(0.02296276225978997)), (702, np.float64(0.003169308850267372)), (703, np.float64(0.0065063482595355)), (704, np.float64(0.05375331694989177)), (705, np.float64(0.005064702328020119)), (706, np.float64(0.008438408700442827)), (707, np.float64(0.0)), (708, np.float64(0.0037728492518137747)), (709, np.float64(0.015174477678637157)), (710, np.float64(0.015309849784600501)), (711, np.float64(0.01255871599602643)), (712, np.float64(0.022853751114385163)), (713, np.float64(0.040187160334949165)), (714, np.float64(0.0)), (715, np.float64(0.0282010264747867)), (716, np.float64(0.006023724613035504)), (717, np.float64(0.0)), (718, np.float64(0.0198017928828417)), (719, np.float64(0.0)), (720, np.float64(0.01569009324331333)), (721, np.float64(0.007302622343196114)), (722, np.float64(0.0)), (723, np.float64(0.019658359726414977)), (724, np.float64(0.004320726733156358)), (725, np.float64(0.0)), (726, np.float64(0.0)), (727, np.float64(0.0)), (728, np.float64(0.02743845949467732)), (729, np.float64(0.0)), (730, np.float64(0.020795551265185758)), (731, np.float64(0.046142292166423945)), (732, np.float64(0.03583676149738445)), (733, np.float64(0.007090538959934295)), (734, np.float64(0.0251215961800942)), (735, np.float64(0.03813654099399506)), (736, np.float64(0.0054399308700609815)), (737, np.float64(0.029825140989739922)), (738, np.float64(0.0)), (739, np.float64(0.00577779742869165)), (740, np.float64(0.11586033874175061)), (741, np.float64(0.004677565794587413)), (742, np.float64(0.009725070129190489)), (743, np.float64(0.023827217838683693)), (744, np.float64(0.028675446067922068)), (745, np.float64(0.005261877802634696)), (746, np.float64(0.018032079561927407)), (747, np.float64(0.0067763099959778535)), (748, np.float64(0.010860239657204994)), (749, np.float64(0.0)), (750, np.float64(0.004537983689142547)), (751, np.float64(0.009238100595159488)), (752, np.float64(0.0647578066051682)), (753, np.float64(0.007080286821333844)), (754, np.float64(0.1677256976485265)), (755, np.float64(0.09333339345893872)), (756, np.float64(0.0060488492772022865)), (757, np.float64(0.00375444090477787)), (758, np.float64(0.0)), (759, np.float64(0.041818645842903075)), (760, np.float64(0.0)), (761, np.float64(0.0056788326993435275)), (762, np.float64(0.004230503526691987)), (763, np.float64(0.0)), (764, np.float64(0.03967644791444235)), (765, np.float64(0.017260274000696654)), (766, np.float64(0.013043468457523473)), (767, np.float64(0.009879033151521503)), (768, np.float64(0.03091471888930098)), (769, np.float64(0.008334834526798103)), (770, np.float64(0.23826637447294904)), (771, np.float64(0.0)), (772, np.float64(0.0)), (773, np.float64(0.10682844536195571)), (774, np.float64(0.025313991958400155)), (775, np.float64(0.054883250108678595)), (776, np.float64(0.020626296132038036)), (777, np.float64(0.024986397629744878)), (778, np.float64(0.18535610207236214)), (779, np.float64(0.0)), (780, np.float64(0.0)), (781, np.float64(0.02507660628016272)), (782, np.float64(0.025252041194484556)), (783, np.float64(0.007329674687546694)), (784, np.float64(0.061640930469297375)), (785, np.float64(0.04754199816510067)), (786, np.float64(0.025697657275912028)), (787, np.float64(0.09670289324460882)), (788, np.float64(0.036642612587481166)), (789, np.float64(0.0)), (790, np.float64(0.06161652975260987)), (791, np.float64(0.03797228579829917)), (792, np.float64(0.014367896735036866)), (793, np.float64(0.025342048808072122)), (794, np.float64(0.04290239784860485)), (795, np.float64(0.005529166724249996)), (796, np.float64(0.0)), (797, np.float64(0.0)), (798, np.float64(0.0)), (799, np.float64(0.045243962412705355)), (800, np.float64(0.06283706179597173)), (801, np.float64(0.0)), (802, np.float64(0.0)), (803, np.float64(0.03233513821490547)), (804, np.float64(0.0057955437849991805)), (805, np.float64(0.012885372638343207)), (806, np.float64(0.024706289430007744)), (807, np.float64(0.030961205504415314)), (808, np.float64(0.03955690925000517)), (809, np.float64(0.046847728636394886)), (810, np.float64(0.02863519878155104)), (811, np.float64(0.005184000389106987)), (812, np.float64(0.07357456750613453)), (813, np.float64(0.028801913517703722)), (814, np.float64(0.0518642425429814)), (815, np.float64(0.025540121731332185)), (816, np.float64(0.03636153327285006)), (817, np.float64(0.006006823191563841)), (818, np.float64(0.0033262332456568907)), (819, np.float64(0.0)), (820, np.float64(0.008599314221569513)), (821, np.float64(0.019243038333780344)), (822, np.float64(0.04155053029724259)), (823, np.float64(0.0583467760524585)), (824, np.float64(0.0)), (825, np.float64(0.0)), (826, np.float64(0.0071697186726205715)), (827, np.float64(0.02134349851509909)), (828, np.float64(0.003941325516802118)), (829, np.float64(0.0)), (830, np.float64(0.004699422803544468)), (831, np.float64(0.039112864963973384)), (832, np.float64(0.011265568783302447)), (833, np.float64(0.033041469455985545)), (834, np.float64(0.007909490691892677)), (835, np.float64(0.0)), (836, np.float64(0.022374694068539765)), (837, np.float64(0.02504376974853314)), (838, np.float64(0.397016329554383)), (839, np.float64(0.023590658840084728)), (840, np.float64(0.008640784245559991)), (841, np.float64(0.0061003502897181375)), (842, np.float64(0.0)), (843, np.float64(0.0674670056981563)), (844, np.float64(0.040125126655818216)), (845, np.float64(0.0)), (846, np.float64(0.009826372513235237)), (847, np.float64(0.0)), (848, np.float64(0.007466665543562647)), (849, np.float64(0.03668592178219984)), (850, np.float64(0.0243626649951002)), (851, np.float64(0.0)), (852, np.float64(0.004300027193404497)), (853, np.float64(0.07795563784790277)), (854, np.float64(0.020251099242204886)), (855, np.float64(0.14184155071352958)), (856, np.float64(0.005574851485724832)), (857, np.float64(0.0)), (858, np.float64(0.023705928369089888)), (859, np.float64(0.030580171927867272)), (860, np.float64(0.0060771660532476296)), (861, np.float64(0.03171619951748546)), (862, np.float64(0.03567877232843189)), (863, np.float64(0.005716592778189264)), (864, np.float64(0.008985995184483283)), (865, np.float64(0.0)), (866, np.float64(0.0073498080926015005)), (867, np.float64(0.0)), (868, np.float64(0.05772588199799653)), (869, np.float64(0.020915128665179146)), (870, np.float64(0.03074152611137732)), (871, np.float64(0.0)), (872, np.float64(0.02480425053180205)), (873, np.float64(0.011886342654674146)), (874, np.float64(0.0)), (875, np.float64(0.0039567772923873295)), (876, np.float64(0.0)), (877, np.float64(0.0)), (878, np.float64(0.05242794371055987)), (879, np.float64(0.0)), (880, np.float64(0.004577375944969889)), (881, np.float64(0.0)), (882, np.float64(0.00787712239830343)), (883, np.float64(0.0)), (884, np.float64(0.0)), (885, np.float64(0.013050655537882257)), (886, np.float64(0.006278520826844741)), (887, np.float64(0.005336152535451919)), (888, np.float64(0.013087651833919805)), (889, np.float64(0.09793164541218907)), (890, np.float64(0.0)), (891, np.float64(0.022474493613660808)), (892, np.float64(0.0)), (893, np.float64(0.028973733221953908)), (894, np.float64(0.01476661290883052)), (895, np.float64(0.0)), (896, np.float64(0.04077348795966015)), (897, np.float64(0.0)), (898, np.float64(0.026784933223578763)), (899, np.float64(0.03709984270786204)), (900, np.float64(0.03649664572667454)), (901, np.float64(0.007613193508714797)), (902, np.float64(0.04034772563269449)), (903, np.float64(0.01987281199336358)), (904, np.float64(0.015932307017706475)), (905, np.float64(0.0)), (906, np.float64(0.0)), (907, np.float64(0.013615111012076858)), (908, np.float64(0.06158756317689918)), (909, np.float64(0.0)), (910, np.float64(0.006947488622394307)), (911, np.float64(0.005857242999467634)), (912, np.float64(0.0065645966534849925)), (913, np.float64(0.0)), (914, np.float64(0.005267469931560594)), (915, np.float64(0.0062609601664872045)), (916, np.float64(0.0)), (917, np.float64(0.019815415028013858)), (918, np.float64(0.0)), (919, np.float64(0.006186902302904101)), (920, np.float64(0.030878921143605617)), (921, np.float64(0.03703975617001146)), (922, np.float64(0.021068817302069963)), (923, np.float64(0.0)), (924, np.float64(0.0)), (925, np.float64(0.006003120508794795)), (926, np.float64(0.013346327539327177)), (927, np.float64(0.0)), (928, np.float64(0.0)), (929, np.float64(0.021529068648487144)), (930, np.float64(0.004834976999361132)), (931, np.float64(0.10302078531350732)), (932, np.float64(0.015152390929467793)), (933, np.float64(0.011800648939660107)), (934, np.float64(0.006466538237139077)), (935, np.float64(0.02573043182389975)), (936, np.float64(0.0)), (937, np.float64(0.022954665242700515)), (938, np.float64(0.0)), (939, np.float64(0.10548206107709619)), (940, np.float64(0.044634692354271144)), (941, np.float64(0.03511785404113419)), (942, np.float64(0.11824903787294612)), (943, np.float64(0.0)), (944, np.float64(0.0)), (945, np.float64(0.0355202629511451)), (946, np.float64(0.0)), (947, np.float64(0.0)), (948, np.float64(0.0)), (949, np.float64(0.0)), (950, np.float64(0.011113459528490141)), (951, np.float64(0.005863381471978006)), (952, np.float64(0.0034482758433876685)), (953, np.float64(0.007324349009542338)), (954, np.float64(0.0)), (955, np.float64(0.00498826804720714)), (956, np.float64(0.022507434961192188)), (957, np.float64(0.005790876062920518)), (958, np.float64(0.0)), (959, np.float64(0.0050197074090544145)), (960, np.float64(0.028009877893535803)), (961, np.float64(0.0330303415948415)), (962, np.float64(0.006292862979026805)), (963, np.float64(0.01838274198144798)), (964, np.float64(0.03478708199490302)), (965, np.float64(0.0)), (966, np.float64(0.0)), (967, np.float64(0.014114400369142813)), (968, np.float64(0.0)), (969, np.float64(0.009180041609124301)), (970, np.float64(0.0)), (971, np.float64(0.0200818497712774)), (972, np.float64(0.11313308961938409)), (973, np.float64(0.003909558722986601)), (974, np.float64(0.0)), (975, np.float64(0.0)), (976, np.float64(0.030607970766867873)), (977, np.float64(0.05547355510442269)), (978, np.float64(0.007499898337124764)), (979, np.float64(0.059248354816219186)), (980, np.float64(0.0)), (981, np.float64(0.0072761068724020266)), (982, np.float64(0.005886100402614328)), (983, np.float64(0.0)), (984, np.float64(0.01367997320624198)), (985, np.float64(0.030143626333362095)), (986, np.float64(0.01263605670841296)), (987, np.float64(0.0)), (988, np.float64(0.006107399741908618)), (989, np.float64(0.01277827459081807)), (990, np.float64(0.03732325483604838)), (991, np.float64(0.0)), (992, np.float64(0.006055867723318799)), (993, np.float64(0.012894150543550323)), (994, np.float64(0.0911673631452623)), (995, np.float64(0.03810094389222961)), (996, np.float64(0.0)), (997, np.float64(0.0)), (998, np.float64(0.0)), (999, np.float64(0.09564645645834723)), (1000, np.float64(0.011679283147433588)), (1001, np.float64(0.031919993216039236)), (1002, np.float64(0.04902103330359767)), (1003, np.float64(0.004671558526258304)), (1004, np.float64(0.0)), (1005, np.float64(0.019239104749420997)), (1006, np.float64(0.008538264653510302)), (1007, np.float64(0.034751885591080535)), (1008, np.float64(0.04583230405646033)), (1009, np.float64(0.0)), (1010, np.float64(0.0)), (1011, np.float64(0.0)), (1012, np.float64(0.06430973596717492)), (1013, np.float64(0.0)), (1014, np.float64(0.007470926226641895)), (1015, np.float64(0.0887636744582901)), (1016, np.float64(0.0970750288661002)), (1017, np.float64(0.06623747202839055)), (1018, np.float64(0.006655506643752256)), (1019, np.float64(0.06121274560364057)), (1020, np.float64(0.005082288854820503)), (1021, np.float64(0.006571594494201987)), (1022, np.float64(0.0)), (1023, np.float64(0.022436380352057188)), (1024, np.float64(0.011231175831672545)), (1025, np.float64(0.004203109469263266)), (1026, np.float64(0.005981833691051263)), (1027, np.float64(0.03501124027261503)), (1028, np.float64(0.10772426513305847)), (1029, np.float64(0.018177141167039924)), (1030, np.float64(0.006485567884730135)), (1031, np.float64(0.06981753927549726)), (1032, np.float64(0.006166149314668483)), (1033, np.float64(0.012375321191454623)), (1034, np.float64(0.09095863197601857)), (1035, np.float64(0.014248932898049106)), (1036, np.float64(0.07104831462350472)), (1037, np.float64(0.0)), (1038, np.float64(0.0)), (1039, np.float64(0.033945393185485104)), (1040, np.float64(0.009410962196184569)), (1041, np.float64(0.003675650091550822)), (1042, np.float64(0.0)), (1043, np.float64(0.006263832451489277)), (1044, np.float64(0.04988902780698778)), (1045, np.float64(0.020819363906825525)), (1046, np.float64(0.025878336709732847)), (1047, np.float64(0.0)), (1048, np.float64(0.0)), (1049, np.float64(0.005790585381792141)), (1050, np.float64(0.021394093188854768)), (1051, np.float64(0.0)), (1052, np.float64(0.027324997314292925)), (1053, np.float64(0.23432027381501602)), (1054, np.float64(0.014180235372770595)), (1055, np.float64(0.013893989876704621)), (1056, np.float64(0.0024697633080280642)), (1057, np.float64(0.0)), (1058, np.float64(0.0448555834686441)), (1059, np.float64(0.005746385626128403)), (1060, np.float64(0.0)), (1061, np.float64(0.028590357108457393)), (1062, np.float64(0.005771347453227036)), (1063, np.float64(0.0)), (1064, np.float64(0.02206254866373584)), (1065, np.float64(0.006704648084074764)), (1066, np.float64(0.0)), (1067, np.float64(0.006307986142134249)), (1068, np.float64(0.17482277380751976)), (1069, np.float64(0.0)), (1070, np.float64(0.022311639494885977)), (1071, np.float64(0.0)), (1072, np.float64(0.009634400294076126)), (1073, np.float64(0.009640192136368287)), (1074, np.float64(0.016897859875838993)), (1075, np.float64(0.0)), (1076, np.float64(0.014227308159455429)), (1077, np.float64(0.010104491522181295)), (1078, np.float64(0.017467613944879567)), (1079, np.float64(0.19552571226847382)), (1080, np.float64(0.06739006653496357)), (1081, np.float64(0.03321197345980512)), (1082, np.float64(0.012053932760043587)), (1083, np.float64(0.0450204774694659)), (1084, np.float64(0.012726405188424092)), (1085, np.float64(0.027341372423339567)), (1086, np.float64(0.09103279014505009)), (1087, np.float64(0.0)), (1088, np.float64(0.0)), (1089, np.float64(0.07421829400359589)), (1090, np.float64(0.005207149847504436)), (1091, np.float64(0.0)), (1092, np.float64(0.027677207468771624)), (1093, np.float64(0.029317023396660064)), (1094, np.float64(0.07760870866848202)), (1095, np.float64(0.09300463178379914)), (1096, np.float64(0.0031022925774594604)), (1097, np.float64(0.006859702455221384)), (1098, np.float64(0.04755187703846958)), (1099, np.float64(0.007823693750750541)), (1100, np.float64(0.04975516895962383)), (1101, np.float64(0.005244684833560194)), (1102, np.float64(0.0)), (1103, np.float64(0.007478660421901338)), (1104, np.float64(0.005684035049247913)), (1105, np.float64(0.0)), (1106, np.float64(0.0872746889417872)), (1107, np.float64(0.0)), (1108, np.float64(0.0)), (1109, np.float64(0.005126231828965463)), (1110, np.float64(0.03285587890815021)), (1111, np.float64(0.03409088759488532)), (1112, np.float64(0.0)), (1113, np.float64(0.0)), (1114, np.float64(0.006439504102232566)), (1115, np.float64(0.043589907632001164)), (1116, np.float64(0.0)), (1117, np.float64(0.0)), (1118, np.float64(0.004756689523917298)), (1119, np.float64(0.0043094864305317)), (1120, np.float64(0.014557594451927646)), (1121, np.float64(0.0)), (1122, np.float64(0.003698006966620448)), (1123, np.float64(0.005837313885206649)), (1124, np.float64(0.006214273444744696)), (1125, np.float64(0.0065784506558361966)), (1126, np.float64(0.012407389403657305)), (1127, np.float64(0.03789872806937835)), (1128, np.float64(0.005710655844911192)), (1129, np.float64(0.02807397473596515)), (1130, np.float64(0.0)), (1131, np.float64(0.008869915134873915)), (1132, np.float64(0.01912253566639446)), (1133, np.float64(0.002736999630326268)), (1134, np.float64(0.015157882892624009)), (1135, np.float64(0.028855957415740756)), (1136, np.float64(0.011795875329088237)), (1137, np.float64(0.011744020600154618)), (1138, np.float64(0.0159204638657485)), (1139, np.float64(0.0209201752321381)), (1140, np.float64(0.005117652351667826)), (1141, np.float64(0.019084316301807375)), (1142, np.float64(0.005694044377738272)), (1143, np.float64(0.016639398303947943)), (1144, np.float64(0.014635835230057286)), (1145, np.float64(0.0)), (1146, np.float64(0.07245277950621427)), (1147, np.float64(0.0)), (1148, np.float64(0.0)), (1149, np.float64(0.0)), (1150, np.float64(0.00518657790714497)), (1151, np.float64(0.0)), (1152, np.float64(0.034136210266780445)), (1153, np.float64(0.045846307124969565)), (1154, np.float64(0.028871445651518723)), (1155, np.float64(0.0338948842761345)), (1156, np.float64(0.0)), (1157, np.float64(0.0)), (1158, np.float64(0.06101860310588502)), (1159, np.float64(0.02510389887022257)), (1160, np.float64(0.011620550329402086)), (1161, np.float64(0.0)), (1162, np.float64(0.00826724971899486)), (1163, np.float64(0.04363604732731885)), (1164, np.float64(0.0)), (1165, np.float64(0.033233294592948)), (1166, np.float64(0.0)), (1167, np.float64(0.004595828102271021)), (1168, np.float64(0.006171604791003831)), (1169, np.float64(0.0)), (1170, np.float64(0.00685819088117797)), (1171, np.float64(0.0)), (1172, np.float64(0.007473503091274477)), (1173, np.float64(0.0)), (1174, np.float64(0.00510047395172252)), (1175, np.float64(0.07810138171423228)), (1176, np.float64(0.026169269787531212)), (1177, np.float64(0.0032496805972416)), (1178, np.float64(0.022046159545337004)), (1179, np.float64(0.0)), (1180, np.float64(0.003700668061652809)), (1181, np.float64(0.021140286491668568)), (1182, np.float64(0.0)), (1183, np.float64(0.0342404872795926)), (1184, np.float64(0.0)), (1185, np.float64(0.025608410921553797)), (1186, np.float64(0.0)), (1187, np.float64(0.028754744526282277)), (1188, np.float64(0.05822180594769132)), (1189, np.float64(0.0)), (1190, np.float64(0.007957516845757753)), (1191, np.float64(0.05204185926402603)), (1192, np.float64(0.07283426193025966)), (1193, np.float64(0.011612515714973522)), (1194, np.float64(0.0)), (1195, np.float64(0.004660739094503269)), (1196, np.float64(0.0302956469684753)), (1197, np.float64(0.0)), (1198, np.float64(0.0974683221736335)), (1199, np.float64(0.040062744717253795)), (1200, np.float64(0.006254361900654281)), (1201, np.float64(0.1683707756392891)), (1202, np.float64(0.006797701619859722)), (1203, np.float64(0.0)), (1204, np.float64(0.04376729706843834)), (1205, np.float64(0.0)), (1206, np.float64(0.011490770669201952)), (1207, np.float64(0.039991056274946944)), (1208, np.float64(0.0)), (1209, np.float64(0.0)), (1210, np.float64(0.0)), (1211, np.float64(0.0)), (1212, np.float64(0.017735833295359937)), (1213, np.float64(0.0864737126591879)), (1214, np.float64(0.0)), (1215, np.float64(0.03807067362990387)), (1216, np.float64(0.00641161360067193)), (1217, np.float64(0.13104369917470637)), (1218, np.float64(0.0)), (1219, np.float64(0.0)), (1220, np.float64(0.011249435039022817)), (1221, np.float64(0.0)), (1222, np.float64(0.03400970981677347)), (1223, np.float64(0.0)), (1224, np.float64(0.023329661926737653)), (1225, np.float64(0.020103271901372052)), (1226, np.float64(0.004546156832216664)), (1227, np.float64(0.005503131543921479)), (1228, np.float64(0.0)), (1229, np.float64(0.0)), (1230, np.float64(0.036642902456208507)), (1231, np.float64(0.0)), (1232, np.float64(0.006773011297150909)), (1233, np.float64(0.0)), (1234, np.float64(0.012330509753715253)), (1235, np.float64(0.004673870753110511)), (1236, np.float64(0.0)), (1237, np.float64(0.05683973144780357)), (1238, np.float64(0.027873310279519014)), (1239, np.float64(0.06476441017852075)), (1240, np.float64(0.0)), (1241, np.float64(0.00796143946928337)), (1242, np.float64(0.0)), (1243, np.float64(0.013920388792660507)), (1244, np.float64(0.0447704702335469)), (1245, np.float64(0.0926985488261671)), (1246, np.float64(0.01884979326100286)), (1247, np.float64(0.017260484236577892)), (1248, np.float64(0.007254377577852179)), (1249, np.float64(0.00567298408809432)), (1250, np.float64(0.023686425350691338)), (1251, np.float64(0.0)), (1252, np.float64(0.0)), (1253, np.float64(0.007189998917620551)), (1254, np.float64(0.005533728380964673)), (1255, np.float64(0.0)), (1256, np.float64(0.012966495877101598)), (1257, np.float64(0.0074958837080319985)), (1258, np.float64(0.009344288613029232)), (1259, np.float64(0.0684176504958179)), (1260, np.float64(0.015807686615636272)), (1261, np.float64(0.0)), (1262, np.float64(0.0)), (1263, np.float64(0.014728574119603757)), (1264, np.float64(0.0)), (1265, np.float64(0.0)), (1266, np.float64(0.022426837557173653)), (1267, np.float64(0.007410241469804923)), (1268, np.float64(0.0)), (1269, np.float64(0.007173920719764441)), (1270, np.float64(0.02219807732843429)), (1271, np.float64(0.028124709000239695)), (1272, np.float64(0.07457540910648047)), (1273, np.float64(0.014764563402806009)), (1274, np.float64(0.04132518119154267)), (1275, np.float64(0.20108540589357815)), (1276, np.float64(0.0)), (1277, np.float64(0.055259485779218055)), (1278, np.float64(0.00638686450849422)), (1279, np.float64(0.012237093300656457)), (1280, np.float64(0.0)), (1281, np.float64(0.01079769544734834)), (1282, np.float64(0.12915118424620672)), (1283, np.float64(0.0)), (1284, np.float64(0.004914078100159675)), (1285, np.float64(0.034285461585505474)), (1286, np.float64(0.01333820923853972)), (1287, np.float64(0.091172942317552)), (1288, np.float64(0.007521433929610841)), (1289, np.float64(0.018240347211449723)), (1290, np.float64(0.057083514949831375)), (1291, np.float64(0.0928583532347852)), (1292, np.float64(0.008773491661959855)), (1293, np.float64(0.0)), (1294, np.float64(0.07109596227934604)), (1295, np.float64(0.008526291955952612)), (1296, np.float64(0.03204466447648324)), (1297, np.float64(0.0)), (1298, np.float64(0.02153705461872299)), (1299, np.float64(0.006629666865667071)), (1300, np.float64(0.014063993305198494)), (1301, np.float64(0.02945087049673663)), (1302, np.float64(0.012654731220504003)), (1303, np.float64(0.0698574407199153)), (1304, np.float64(0.0039179566956298465)), (1305, np.float64(0.007219793403563509)), (1306, np.float64(0.02022761996606752)), (1307, np.float64(0.0)), (1308, np.float64(0.0)), (1309, np.float64(0.11413884456193071)), (1310, np.float64(0.019270205238699097)), (1311, np.float64(0.007876826617814508)), (1312, np.float64(0.0)), (1313, np.float64(0.0)), (1314, np.float64(0.0)), (1315, np.float64(0.0)), (1316, np.float64(0.0)), (1317, np.float64(0.00376380416064588)), (1318, np.float64(0.16948556944911164)), (1319, np.float64(0.11644228618167063)), (1320, np.float64(0.014882176309499472)), (1321, np.float64(0.018959987098467895)), (1322, np.float64(0.021731183074727833)), (1323, np.float64(0.0)), (1324, np.float64(0.0246097512678601)), (1325, np.float64(0.0)), (1326, np.float64(0.09570927194948663)), (1327, np.float64(0.0)), (1328, np.float64(0.0)), (1329, np.float64(0.02669449606886256)), (1330, np.float64(0.0)), (1331, np.float64(0.01303696468146979)), (1332, np.float64(0.004969281138671306)), (1333, np.float64(0.0)), (1334, np.float64(0.004548942916605249)), (1335, np.float64(0.007509831271005984)), (1336, np.float64(0.0)), (1337, np.float64(0.03824506158153898)), (1338, np.float64(0.0)), (1339, np.float64(0.004563261779000216)), (1340, np.float64(0.0)), (1341, np.float64(0.08269380254001932)), (1342, np.float64(0.0038377157106946505)), (1343, np.float64(0.009981295484132327)), (1344, np.float64(0.039155944351635684)), (1345, np.float64(0.0)), (1346, np.float64(0.036275950854595035)), (1347, np.float64(0.005879905579301894)), (1348, np.float64(0.052360666826646)), (1349, np.float64(0.014747185855349112)), (1350, np.float64(0.028242254246025736)), (1351, np.float64(0.0)), (1352, np.float64(0.09485851029107017)), (1353, np.float64(0.0)), (1354, np.float64(0.22052843854616977)), (1355, np.float64(0.0)), (1356, np.float64(0.0)), (1357, np.float64(0.006488397549126374)), (1358, np.float64(0.12333566181072386)), (1359, np.float64(0.014339209295580704)), (1360, np.float64(0.0250276777661963)), (1361, np.float64(0.009433633347125882)), (1362, np.float64(0.0)), (1363, np.float64(0.011897820638502261)), (1364, np.float64(0.0)), (1365, np.float64(0.006861414732879055)), (1366, np.float64(0.0053581509565606466)), (1367, np.float64(0.09579540026913139)), (1368, np.float64(0.0)), (1369, np.float64(0.0)), (1370, np.float64(0.0)), (1371, np.float64(0.0)), (1372, np.float64(0.09048642319996651)), (1373, np.float64(0.07698572188139839)), (1374, np.float64(0.0)), (1375, np.float64(0.00668530120002331)), (1376, np.float64(0.008033760263755551)), (1377, np.float64(0.07417295323271728)), (1378, np.float64(0.0)), (1379, np.float64(0.01818582210153783)), (1380, np.float64(0.013637872772938367)), (1381, np.float64(0.0)), (1382, np.float64(0.015703414015295524)), (1383, np.float64(0.0)), (1384, np.float64(0.007905798165388918)), (1385, np.float64(0.0)), (1386, np.float64(0.0)), (1387, np.float64(0.0)), (1388, np.float64(0.0)), (1389, np.float64(0.0)), (1390, np.float64(0.08293793479130532)), (1391, np.float64(0.011318833184237978)), (1392, np.float64(0.0)), (1393, np.float64(0.00467830696239042)), (1394, np.float64(0.0)), (1395, np.float64(0.027178675653707823)), (1396, np.float64(0.02079431454344369)), (1397, np.float64(0.0)), (1398, np.float64(0.006852422299811468)), (1399, np.float64(0.04052051544029006)), (1400, np.float64(0.005486619481294544)), (1401, np.float64(0.0046496427071845165)), (1402, np.float64(0.0309321790784161)), (1403, np.float64(0.0)), (1404, np.float64(0.009169222316786713)), (1405, np.float64(0.05846391616282823)), (1406, np.float64(0.0)), (1407, np.float64(0.0)), (1408, np.float64(0.03976485349709483)), (1409, np.float64(0.0)), (1410, np.float64(0.0)), (1411, np.float64(0.03524772061777857)), (1412, np.float64(0.0527246201352852)), (1413, np.float64(0.0)), (1414, np.float64(0.007165110218490318)), (1415, np.float64(0.07077706664285198)), (1416, np.float64(0.00795198991698195)), (1417, np.float64(0.007159836458477336)), (1418, np.float64(0.0)), (1419, np.float64(0.0063419309380579655)), (1420, np.float64(0.02372744032487095)), (1421, np.float64(0.027216528813905665)), (1422, np.float64(0.06608396940202851)), (1423, np.float64(0.015374471564117328)), (1424, np.float64(0.0)), (1425, np.float64(0.0047415488691096895)), (1426, np.float64(0.03456215876882787)), (1427, np.float64(0.0)), (1428, np.float64(0.055272591323492895)), (1429, np.float64(0.0)), (1430, np.float64(0.0)), (1431, np.float64(0.0045509396645769225)), (1432, np.float64(0.004633708812351297)), (1433, np.float64(0.07259776989861302)), (1434, np.float64(0.006405379421936802)), (1435, np.float64(0.0409190231372724)), (1436, np.float64(0.0)), (1437, np.float64(0.020910176390659365)), (1438, np.float64(0.01855774992377769)), (1439, np.float64(0.08323239776902547)), (1440, np.float64(0.04045774570858984)), (1441, np.float64(0.020712907964389963)), (1442, np.float64(0.006407244655924397)), (1443, np.float64(0.019582820145458153)), (1444, np.float64(0.005752533676487306)), (1445, np.float64(0.005818071664696852)), (1446, np.float64(0.07294095754393587)), (1447, np.float64(0.011631247580652676)), (1448, np.float64(0.09332094458672976)), (1449, np.float64(0.011309921096207112)), (1450, np.float64(0.004214294561515976)), (1451, np.float64(0.01402130125147567)), (1452, np.float64(0.006516724871527343)), (1453, np.float64(0.01502948197292309)), (1454, np.float64(0.005030017303243992)), (1455, np.float64(0.0)), (1456, np.float64(0.004036007065416126)), (1457, np.float64(0.005429639078231013)), (1458, np.float64(0.006926778609383024)), (1459, np.float64(0.04611886991547886)), (1460, np.float64(0.05160790967848103)), (1461, np.float64(0.05850882987555423)), (1462, np.float64(0.0)), (1463, np.float64(0.003933813721995123)), (1464, np.float64(0.0)), (1465, np.float64(0.03668601642383011)), (1466, np.float64(0.01771881082493176)), (1467, np.float64(0.00668666695327643)), (1468, np.float64(0.03651416432547215)), (1469, np.float64(0.007443961556211161)), (1470, np.float64(0.006315395769102831)), (1471, np.float64(0.0)), (1472, np.float64(0.005972261571807811)), (1473, np.float64(0.22268138811654323)), (1474, np.float64(0.017685890612876773)), (1475, np.float64(0.006219451531726998)), (1476, np.float64(0.0)), (1477, np.float64(0.0)), (1478, np.float64(0.01704422919741994)), (1479, np.float64(0.006085563274103709)), (1480, np.float64(0.0)), (1481, np.float64(0.03947515144229052)), (1482, np.float64(0.060938242505560125)), (1483, np.float64(0.005482559240654256)), (1484, np.float64(0.004541029578615584)), (1485, np.float64(0.010689729413251806)), (1486, np.float64(0.004747105278220752)), (1487, np.float64(0.0)), (1488, np.float64(0.023485257989244987)), (1489, np.float64(0.0)), (1490, np.float64(0.18062420618207017)), (1491, np.float64(0.0694533357080527)), (1492, np.float64(0.05480543287923835)), (1493, np.float64(0.0)), (1494, np.float64(0.029529365975230225)), (1495, np.float64(0.05996242074321215)), (1496, np.float64(0.020464098425715692)), (1497, np.float64(0.010670274425419606)), (1498, np.float64(0.0)), (1499, np.float64(0.004157289816187956)), (1500, np.float64(0.014556572138747462)), (1501, np.float64(0.0)), (1502, np.float64(0.0)), (1503, np.float64(0.007504613655608566)), (1504, np.float64(0.0)), (1505, np.float64(0.005405522871422814)), (1506, np.float64(0.0751518704998759)), (1507, np.float64(0.011717531556351602)), (1508, np.float64(0.0)), (1509, np.float64(0.007745496243128992)), (1510, np.float64(0.053245774741601914)), (1511, np.float64(0.0)), (1512, np.float64(0.0)), (1513, np.float64(0.03170575357274818)), (1514, np.float64(0.03228796506539466)), (1515, np.float64(0.025864469953598677)), (1516, np.float64(0.0)), (1517, np.float64(0.02575359797392294)), (1518, np.float64(0.029489400756433456)), (1519, np.float64(0.010696537963877498)), (1520, np.float64(0.0)), (1521, np.float64(0.0)), (1522, np.float64(0.0)), (1523, np.float64(0.05491733581878715)), (1524, np.float64(0.024793479242997685)), (1525, np.float64(0.06595375620960388)), (1526, np.float64(0.004194092151696471)), (1527, np.float64(0.0)), (1528, np.float64(0.006242324357009962)), (1529, np.float64(0.00448074691437291)), (1530, np.float64(0.0)), (1531, np.float64(0.3030984959371213)), (1532, np.float64(0.0)), (1533, np.float64(0.01336888739721989)), (1534, np.float64(0.0)), (1535, np.float64(0.028406818236641134)), (1536, np.float64(0.0)), (1537, np.float64(0.019947254155862588)), (1538, np.float64(0.004985198497947284)), (1539, np.float64(0.0)), (1540, np.float64(0.005513544042715305)), (1541, np.float64(0.0)), (1542, np.float64(0.011169598015013132)), (1543, np.float64(0.031212475441404926)), (1544, np.float64(0.0)), (1545, np.float64(0.0)), (1546, np.float64(0.04357869561525343)), (1547, np.float64(0.0)), (1548, np.float64(0.00936108097429448)), (1549, np.float64(0.008991321098530585)), (1550, np.float64(0.007709257461990671)), (1551, np.float64(0.00551796933182623)), (1552, np.float64(0.0)), (1553, np.float64(0.0)), (1554, np.float64(0.06588347634660768)), (1555, np.float64(0.0)), (1556, np.float64(0.0)), (1557, np.float64(0.0)), (1558, np.float64(0.0)), (1559, np.float64(0.027667328001064993)), (1560, np.float64(0.02422827812679617)), (1561, np.float64(0.0053976557633082616)), (1562, np.float64(0.008833490370409413)), (1563, np.float64(0.030128239457905902)), (1564, np.float64(0.064455569465908)), (1565, np.float64(0.006672301836043107)), (1566, np.float64(0.0)), (1567, np.float64(0.011665046166065535)), (1568, np.float64(0.055927362543924636)), (1569, np.float64(0.040235607096494756)), (1570, np.float64(0.007748117279680199)), (1571, np.float64(0.007117995508367644)), (1572, np.float64(0.007670628532927681)), (1573, np.float64(0.004932557906567651)), (1574, np.float64(0.0)), (1575, np.float64(0.0055019296462491245)), (1576, np.float64(0.0)), (1577, np.float64(0.015267823757229428)), (1578, np.float64(0.029489231091962283)), (1579, np.float64(0.04543098138796492)), (1580, np.float64(0.03609522571796086)), (1581, np.float64(0.023128965572786823)), (1582, np.float64(0.019215297429619114)), (1583, np.float64(0.08088975501091825)), (1584, np.float64(0.010052356754100636)), (1585, np.float64(0.0)), (1586, np.float64(0.007611733443390548)), (1587, np.float64(0.005143291703640163)), (1588, np.float64(0.0061387532506068255)), (1589, np.float64(0.012431113987654388)), (1590, np.float64(0.04863653805774497)), (1591, np.float64(0.005195963939178993)), (1592, np.float64(0.00652196073396755)), (1593, np.float64(0.0)), (1594, np.float64(0.01760469503789487)), (1595, np.float64(0.014937512497247953)), (1596, np.float64(0.0037469152511121827)), (1597, np.float64(0.007568951879364329)), (1598, np.float64(0.01861487280597142)), (1599, np.float64(0.029659407098988746)), (1600, np.float64(0.0)), (1601, np.float64(0.03523387988811301)), (1602, np.float64(0.007529251544987514)), (1603, np.float64(0.02948397199515047)), (1604, np.float64(0.0)), (1605, np.float64(0.0)), (1606, np.float64(0.0)), (1607, np.float64(0.0055203725325963324)), (1608, np.float64(0.04566746155110738)), (1609, np.float64(0.0)), (1610, np.float64(0.010780133512738425)), (1611, np.float64(0.06314410575029478)), (1612, np.float64(0.005550569489356684)), (1613, np.float64(0.024449254567176018)), (1614, np.float64(0.0)), (1615, np.float64(0.012440878328396101)), (1616, np.float64(0.031246801145214022)), (1617, np.float64(0.04964398771449915)), (1618, np.float64(0.0)), (1619, np.float64(0.017947664471441215)), (1620, np.float64(0.0)), (1621, np.float64(0.0)), (1622, np.float64(0.02880935531814956)), (1623, np.float64(0.015837644525852686)), (1624, np.float64(0.007720700031909944)), (1625, np.float64(0.02096210586076042)), (1626, np.float64(0.03175498975960298)), (1627, np.float64(0.0)), (1628, np.float64(0.013577981452326016)), (1629, np.float64(0.008350174185038998)), (1630, np.float64(0.010245439029551403)), (1631, np.float64(0.0)), (1632, np.float64(0.0059054221972554815)), (1633, np.float64(0.03424540355368168)), (1634, np.float64(0.017761942319207535)), (1635, np.float64(0.003466240284485513)), (1636, np.float64(0.005151330091375223)), (1637, np.float64(0.0036595891570245257)), (1638, np.float64(0.018724767701096597)), (1639, np.float64(0.0)), (1640, np.float64(0.029903668138462104)), (1641, np.float64(0.0)), (1642, np.float64(0.016732008811426245)), (1643, np.float64(0.06716810616267783)), (1644, np.float64(0.0)), (1645, np.float64(0.012376427330354102)), (1646, np.float64(0.018716949843949462)), (1647, np.float64(0.020248238963904257)), (1648, np.float64(0.0)), (1649, np.float64(0.0073262923985989385)), (1650, np.float64(0.25766479046769386)), (1651, np.float64(0.0)), (1652, np.float64(0.05868909421722496)), (1653, np.float64(0.004553567121139475)), (1654, np.float64(0.020434241837547225)), (1655, np.float64(0.024412571783174273)), (1656, np.float64(0.0)), (1657, np.float64(0.0)), (1658, np.float64(0.020223760613050444)), (1659, np.float64(0.0)), (1660, np.float64(0.0)), (1661, np.float64(0.003935996498978437)), (1662, np.float64(0.14703214861536296)), (1663, np.float64(0.012452805977473056)), (1664, np.float64(0.005248641724189395)), (1665, np.float64(0.016827967930532647)), (1666, np.float64(0.0)), (1667, np.float64(0.05966155102321183)), (1668, np.float64(0.007130024604834652)), (1669, np.float64(0.04598416655104941)), (1670, np.float64(0.00903271779501457)), (1671, np.float64(0.035365292539694365)), (1672, np.float64(0.030146469438804512)), (1673, np.float64(0.0)), (1674, np.float64(0.0)), (1675, np.float64(0.03900513727776115)), (1676, np.float64(0.0)), (1677, np.float64(0.0)), (1678, np.float64(0.0301896016967215)), (1679, np.float64(0.007249405643120464)), (1680, np.float64(0.03689973645311917)), (1681, np.float64(0.0)), (1682, np.float64(0.014132019776797212)), (1683, np.float64(0.0)), (1684, np.float64(0.016988357904390548)), (1685, np.float64(0.012871650671774192)), (1686, np.float64(0.02096494470991258)), (1687, np.float64(0.0)), (1688, np.float64(0.03455048587362216)), (1689, np.float64(0.019469799784768912)), (1690, np.float64(0.0)), (1691, np.float64(0.0)), (1692, np.float64(0.009629051026983566)), (1693, np.float64(0.0)), (1694, np.float64(0.06806210627390123)), (1695, np.float64(0.031097985618003393)), (1696, np.float64(0.0)), (1697, np.float64(0.00779005225742916)), (1698, np.float64(0.0)), (1699, np.float64(0.005892968993852949)), (1700, np.float64(0.0)), (1701, np.float64(0.007439731892398965)), (1702, np.float64(0.007407263571590764)), (1703, np.float64(0.0)), (1704, np.float64(0.0)), (1705, np.float64(0.0)), (1706, np.float64(0.0)), (1707, np.float64(0.010490858684404365)), (1708, np.float64(0.009563642703313113)), (1709, np.float64(0.019681885141802618)), (1710, np.float64(0.0)), (1711, np.float64(0.01351805618286251)), (1712, np.float64(0.0)), (1713, np.float64(0.0072094629553453235)), (1714, np.float64(0.021539532327053197)), (1715, np.float64(0.06461158866940364)), (1716, np.float64(0.0)), (1717, np.float64(0.0064542234578424335)), (1718, np.float64(0.00984929598706146)), (1719, np.float64(0.010248910490050611)), (1720, np.float64(0.004406492592569066)), (1721, np.float64(0.017411282990409113)), (1722, np.float64(0.0)), (1723, np.float64(0.0)), (1724, np.float64(0.005581266335269616)), (1725, np.float64(0.014830979977708042)), (1726, np.float64(0.0076294760949583845)), (1727, np.float64(0.0060986745027069465)), (1728, np.float64(0.015740580030773284)), (1729, np.float64(0.03167574611994628)), (1730, np.float64(0.0)), (1731, np.float64(0.013265225555488726)), (1732, np.float64(0.0)), (1733, np.float64(0.006988441425172978)), (1734, np.float64(0.020195274279845077)), (1735, np.float64(0.020519457570427578)), (1736, np.float64(0.0)), (1737, np.float64(0.03648639554508782)), (1738, np.float64(0.0)), (1739, np.float64(0.007173311154141506)), (1740, np.float64(0.011766957885657368)), (1741, np.float64(0.00576933605761139)), (1742, np.float64(0.004675332613473477)), (1743, np.float64(0.009228957788406912)), (1744, np.float64(0.0054920291110459275)), (1745, np.float64(0.023456220530840153)), (1746, np.float64(0.017649421260904564)), (1747, np.float64(0.006787869874531411)), (1748, np.float64(0.035752371388878185)), (1749, np.float64(0.029971169709954507)), (1750, np.float64(0.08364581864846285)), (1751, np.float64(0.036999824563720404)), (1752, np.float64(0.0)), (1753, np.float64(0.010561363655880318)), (1754, np.float64(0.007096758494585094)), (1755, np.float64(0.0)), (1756, np.float64(0.0055823773046037)), (1757, np.float64(0.013264338397165662)), (1758, np.float64(0.0)), (1759, np.float64(0.2001823640911287)), (1760, np.float64(0.0)), (1761, np.float64(0.02028558497140656)), (1762, np.float64(0.06464079952616318)), (1763, np.float64(0.0063653988946421255)), (1764, np.float64(0.019153323314635075)), (1765, np.float64(0.006186914647482189)), (1766, np.float64(0.05576103043245498)), (1767, np.float64(0.0)), (1768, np.float64(0.04006386311080266)), (1769, np.float64(0.006146254384784514)), (1770, np.float64(0.0)), (1771, np.float64(0.006042240311407634)), (1772, np.float64(0.0)), (1773, np.float64(0.0)), (1774, np.float64(0.0)), (1775, np.float64(0.0)), (1776, np.float64(0.0)), (1777, np.float64(0.03125250480585413)), (1778, np.float64(0.00876352716438277)), (1779, np.float64(0.008855560409273513)), (1780, np.float64(0.01395114552313561)), (1781, np.float64(0.0)), (1782, np.float64(0.0)), (1783, np.float64(0.015407702094688855)), (1784, np.float64(0.004164142963096442)), (1785, np.float64(0.0)), (1786, np.float64(0.01905759608883121)), (1787, np.float64(0.09451636893708182)), (1788, np.float64(0.0)), (1789, np.float64(0.0)), (1790, np.float64(0.012157869607714398)), (1791, np.float64(0.0)), (1792, np.float64(0.005631223904274789)), (1793, np.float64(0.00760340688497039)), (1794, np.float64(0.029322681425736817)), (1795, np.float64(0.005706675954977724)), (1796, np.float64(0.04796786051466526)), (1797, np.float64(0.0)), (1798, np.float64(0.005696091206011296)), (1799, np.float64(0.005730869894920296)), (1800, np.float64(0.008687901356920378)), (1801, np.float64(0.0)), (1802, np.float64(0.03269278294132065)), (1803, np.float64(0.013523255875164281)), (1804, np.float64(0.09455985431009431)), (1805, np.float64(0.0077325957387741045)), (1806, np.float64(0.03726297596991009)), (1807, np.float64(0.00739386023661011)), (1808, np.float64(0.06287801245090967)), (1809, np.float64(0.0)), (1810, np.float64(0.0)), (1811, np.float64(0.025529783262353774)), (1812, np.float64(0.01899794431897248)), (1813, np.float64(0.02120659097446628)), (1814, np.float64(0.025355172964693508)), (1815, np.float64(0.005008566226370305)), (1816, np.float64(0.025515733998572862)), (1817, np.float64(0.010131300860257118)), (1818, np.float64(0.0442438696735499)), (1819, np.float64(0.0)), (1820, np.float64(0.0)), (1821, np.float64(0.018088006733198166)), (1822, np.float64(0.05245201367602195)), (1823, np.float64(0.0)), (1824, np.float64(0.0)), (1825, np.float64(0.08385497427783668)), (1826, np.float64(0.04929041281277851)), (1827, np.float64(0.029181926736033346)), (1828, np.float64(0.0)), (1829, np.float64(0.0)), (1830, np.float64(0.0053678056625981)), (1831, np.float64(0.02663875100255064)), (1832, np.float64(0.006687222086263251)), (1833, np.float64(0.0)), (1834, np.float64(0.0)), (1835, np.float64(0.011801076157380182)), (1836, np.float64(0.03582203603142779)), (1837, np.float64(0.004015525380336607)), (1838, np.float64(0.0)), (1839, np.float64(0.014128091836093275)), (1840, np.float64(0.005691283357982148)), (1841, np.float64(0.019251755140298255)), (1842, np.float64(0.010401538755978584)), (1843, np.float64(0.0)), (1844, np.float64(0.0032693803401135594)), (1845, np.float64(0.0)), (1846, np.float64(0.0)), (1847, np.float64(0.0)), (1848, np.float64(0.005084263751239867)), (1849, np.float64(0.011512377081094996)), (1850, np.float64(0.004727821679139474)), (1851, np.float64(0.007725248614494461)), (1852, np.float64(0.04625423716569484)), (1853, np.float64(0.005710302054372169)), (1854, np.float64(0.011754440066833413)), (1855, np.float64(0.0)), (1856, np.float64(0.006037551422235662)), (1857, np.float64(0.0)), (1858, np.float64(0.005376411136920064)), (1859, np.float64(0.0)), (1860, np.float64(0.006260370821172572)), (1861, np.float64(0.005221462839183018)), (1862, np.float64(0.008319917929956264)), (1863, np.float64(0.0)), (1864, np.float64(0.021248766088287598)), (1865, np.float64(0.0)), (1866, np.float64(0.0)), (1867, np.float64(0.017105428616521944)), (1868, np.float64(0.004569218377154018)), (1869, np.float64(0.0)), (1870, np.float64(0.00474741049436532)), (1871, np.float64(0.0)), (1872, np.float64(0.028701679485670185)), (1873, np.float64(0.0)), (1874, np.float64(0.037823496474730024)), (1875, np.float64(0.0)), (1876, np.float64(0.0)), (1877, np.float64(0.06862204402908999)), (1878, np.float64(0.04672138055034425)), (1879, np.float64(0.02983214207679367)), (1880, np.float64(0.004972165102925152)), (1881, np.float64(0.0)), (1882, np.float64(0.007198920705811745)), (1883, np.float64(0.0)), (1884, np.float64(0.0)), (1885, np.float64(0.0)), (1886, np.float64(0.0)), (1887, np.float64(0.02170860661675095)), (1888, np.float64(0.0)), (1889, np.float64(0.0)), (1890, np.float64(0.01884648652352796)), (1891, np.float64(0.08825118790460783)), (1892, np.float64(0.09031911096586043)), (1893, np.float64(0.009279526684011248)), (1894, np.float64(0.00648737025703804)), (1895, np.float64(0.0077120177058514474)), (1896, np.float64(0.026799447565334953)), (1897, np.float64(0.005815938923431267)), (1898, np.float64(0.017371605292499776)), (1899, np.float64(0.01650935225831964)), (1900, np.float64(0.020198466248244805)), (1901, np.float64(0.0)), (1902, np.float64(0.08084099065471703)), (1903, np.float64(0.0)), (1904, np.float64(0.02230602145992155)), (1905, np.float64(0.07101412229234522)), (1906, np.float64(0.0)), (1907, np.float64(0.010919598174123007)), (1908, np.float64(0.006036369516718631)), (1909, np.float64(0.0)), (1910, np.float64(0.005709814462979199)), (1911, np.float64(0.0)), (1912, np.float64(0.0)), (1913, np.float64(0.0)), (1914, np.float64(0.1642320600985511)), (1915, np.float64(0.012210590029989463)), (1916, np.float64(0.0)), (1917, np.float64(0.0)), (1918, np.float64(0.025742830584169662)), (1919, np.float64(0.00786776476999866)), (1920, np.float64(0.004755215305170462)), (1921, np.float64(0.048082419138979676)), (1922, np.float64(0.12843047997654702)), (1923, np.float64(0.07356162351348283)), (1924, np.float64(0.0)), (1925, np.float64(0.0)), (1926, np.float64(0.0)), (1927, np.float64(0.006771334863069404)), (1928, np.float64(0.01294894084980063)), (1929, np.float64(0.0)), (1930, np.float64(0.005842359130102562)), (1931, np.float64(0.007687654668942552)), (1932, np.float64(0.050665929389739364)), (1933, np.float64(0.005886193458853589)), (1934, np.float64(0.0100790025144026)), (1935, np.float64(0.0)), (1936, np.float64(0.03476124213815086)), (1937, np.float64(0.006716704981830877)), (1938, np.float64(0.04365527295202216)), (1939, np.float64(0.022498323802484538)), (1940, np.float64(0.0)), (1941, np.float64(0.02966137340595812)), (1942, np.float64(0.008742848796585403)), (1943, np.float64(0.0)), (1944, np.float64(0.007061872225938147)), (1945, np.float64(0.005613069923941058)), (1946, np.float64(0.0)), (1947, np.float64(0.02130200492783235)), (1948, np.float64(0.007689698126252488)), (1949, np.float64(0.0)), (1950, np.float64(0.005091630332968622)), (1951, np.float64(0.2117012414244919)), (1952, np.float64(0.028769420618475285)), (1953, np.float64(0.03151321194672621)), (1954, np.float64(0.005363713436309169)), (1955, np.float64(0.005457421711498756)), (1956, np.float64(0.013089873917312088)), (1957, np.float64(0.01407711918851165)), (1958, np.float64(0.01948559760041662)), (1959, np.float64(0.12990139156504574)), (1960, np.float64(0.008122838047343707)), (1961, np.float64(0.0)), (1962, np.float64(0.00741253903883902)), (1963, np.float64(0.009778512865093653)), (1964, np.float64(0.0)), (1965, np.float64(0.006542618731120292)), (1966, np.float64(0.0)), (1967, np.float64(0.006811392325777617)), (1968, np.float64(0.010379656611725444)), (1969, np.float64(0.022157259825423083)), (1970, np.float64(0.03316776342606773)), (1971, np.float64(0.0)), (1972, np.float64(0.031723588427545815)), (1973, np.float64(0.021543515332984178)), (1974, np.float64(0.013723648745485137)), (1975, np.float64(0.007337820160271341)), (1976, np.float64(0.034213169882695446)), (1977, np.float64(0.017829261761184656)), (1978, np.float64(0.007335422178532291)), (1979, np.float64(0.0)), (1980, np.float64(0.006179247195052206)), (1981, np.float64(0.018789997761147554)), (1982, np.float64(0.0)), (1983, np.float64(0.0)), (1984, np.float64(0.059371930312516266)), (1985, np.float64(0.006245421851633936)), (1986, np.float64(0.007207692577442207)), (1987, np.float64(0.013863563153264032)), (1988, np.float64(0.0)), (1989, np.float64(0.0)), (1990, np.float64(0.21163109902302465)), (1991, np.float64(0.00643841934040676)), (1992, np.float64(0.0)), (1993, np.float64(0.013170700886791578)), (1994, np.float64(0.0)), (1995, np.float64(0.060280605500436506)), (1996, np.float64(0.0065331059135873195)), (1997, np.float64(0.05496407621895433)), (1998, np.float64(0.0)), (1999, np.float64(0.026232873209150305)), (2000, np.float64(0.008586971605672213)), (2001, np.float64(0.007737012597625819)), (2002, np.float64(0.0058338292349744535)), (2003, np.float64(0.0048430910221942715)), (2004, np.float64(0.0)), (2005, np.float64(0.0)), (2006, np.float64(0.033578616087450865)), (2007, np.float64(0.005367478913555834)), (2008, np.float64(0.0221237813702517)), (2009, np.float64(0.0)), (2010, np.float64(0.0)), (2011, np.float64(0.009543001263821585)), (2012, np.float64(0.019792680900707783)), (2013, np.float64(0.0034143308871631894)), (2014, np.float64(0.0)), (2015, np.float64(0.2662827265164751)), (2016, np.float64(0.04325665907111488)), (2017, np.float64(0.014836523589203487)), (2018, np.float64(0.026369843662157878)), (2019, np.float64(0.009247471051431425)), (2020, np.float64(0.0)), (2021, np.float64(0.0)), (2022, np.float64(0.0386160716128767)), (2023, np.float64(0.004853099128570405)), (2024, np.float64(0.03430556494812683)), (2025, np.float64(0.0)), (2026, np.float64(0.005306781774410793)), (2027, np.float64(0.0)), (2028, np.float64(0.0)), (2029, np.float64(0.025741498635032778)), (2030, np.float64(0.01957785680448313)), (2031, np.float64(0.0)), (2032, np.float64(0.019993809070562536)), (2033, np.float64(0.0)), (2034, np.float64(0.0)), (2035, np.float64(0.0)), (2036, np.float64(0.007199243277412242)), (2037, np.float64(0.0)), (2038, np.float64(0.006144873902128645)), (2039, np.float64(0.0)), (2040, np.float64(0.0)), (2041, np.float64(0.0)), (2042, np.float64(0.023699510495055517)), (2043, np.float64(0.014374509226587819)), (2044, np.float64(0.0)), (2045, np.float64(0.0053540121987911814)), (2046, np.float64(0.030651076343577388)), (2047, np.float64(0.028559836917191855)), (2048, np.float64(0.008001526160935208)), (2049, np.float64(0.007844999477160693)), (2050, np.float64(0.01077351273297879)), (2051, np.float64(0.006160515108451735)), (2052, np.float64(0.06305531262034314)), (2053, np.float64(0.056857915310058176)), (2054, np.float64(0.011049443407003912)), (2055, np.float64(0.006373663578569096)), (2056, np.float64(0.0)), (2057, np.float64(0.008851775273678732)), (2058, np.float64(0.0)), (2059, np.float64(0.006767097839832824)), (2060, np.float64(0.05781305163594695)), (2061, np.float64(0.0)), (2062, np.float64(0.012563965972375605)), (2063, np.float64(0.0)), (2064, np.float64(0.011330290386866672)), (2065, np.float64(0.0069271681161130255)), (2066, np.float64(0.0296999378499957)), (2067, np.float64(0.013503575643163072)), (2068, np.float64(0.0)), (2069, np.float64(0.062121138699486156)), (2070, np.float64(0.00977573963921804)), (2071, np.float64(0.005244240561787999)), (2072, np.float64(0.0)), (2073, np.float64(0.012919574609605336)), (2074, np.float64(0.004822739584986749)), (2075, np.float64(0.004549335697934893)), (2076, np.float64(0.013260221132586954)), (2077, np.float64(0.01819953745109002)), (2078, np.float64(0.0)), (2079, np.float64(0.009590214867477083)), (2080, np.float64(0.02456353252109916)), (2081, np.float64(0.00851325818859604)), (2082, np.float64(0.0)), (2083, np.float64(0.0)), (2084, np.float64(0.02214815212733167)), (2085, np.float64(0.007897526395542207)), (2086, np.float64(0.00779383425219789)), (2087, np.float64(0.039869494895903496)), (2088, np.float64(0.0)), (2089, np.float64(0.0032544339806907826)), (2090, np.float64(0.0)), (2091, np.float64(0.0)), (2092, np.float64(0.0)), (2093, np.float64(0.027094878627105246)), (2094, np.float64(0.0)), (2095, np.float64(0.00685675681841741)), (2096, np.float64(0.033292347660366886)), (2097, np.float64(0.013474792703519495)), (2098, np.float64(0.0)), (2099, np.float64(0.0)), (2100, np.float64(0.01398051285415624)), (2101, np.float64(0.027229287175124888)), (2102, np.float64(0.0)), (2103, np.float64(0.07291619002023828)), (2104, np.float64(0.020389576220410613)), (2105, np.float64(0.0)), (2106, np.float64(0.07145832200726066)), (2107, np.float64(0.007931081461478)), (2108, np.float64(0.028083034949089723)), (2109, np.float64(0.02378893109703365)), (2110, np.float64(0.0)), (2111, np.float64(0.00400463066204336)), (2112, np.float64(0.0)), (2113, np.float64(0.0)), (2114, np.float64(0.06056795320332286)), (2115, np.float64(0.0)), (2116, np.float64(0.005624232460802791)), (2117, np.float64(0.0)), (2118, np.float64(0.02089453186140587)), (2119, np.float64(0.0)), (2120, np.float64(0.0)), (2121, np.float64(0.03281685204937505)), (2122, np.float64(0.01622111232940234)), (2123, np.float64(0.0)), (2124, np.float64(0.0)), (2125, np.float64(0.0)), (2126, np.float64(0.006335214139517279)), (2127, np.float64(0.06463235230798542)), (2128, np.float64(0.007625492213063021)), (2129, np.float64(0.15468851581857038)), (2130, np.float64(0.0)), (2131, np.float64(0.012964656910513917)), (2132, np.float64(0.0)), (2133, np.float64(0.0)), (2134, np.float64(0.0)), (2135, np.float64(0.0)), (2136, np.float64(0.02268531793766267)), (2137, np.float64(0.0)), (2138, np.float64(0.07274006491548243)), (2139, np.float64(0.0)), (2140, np.float64(0.00615764651730988)), (2141, np.float64(0.009841055286427897)), (2142, np.float64(0.0043522498968489726)), (2143, np.float64(0.0)), (2144, np.float64(0.0168975435655792)), (2145, np.float64(0.01723168160241575)), (2146, np.float64(0.0)), (2147, np.float64(0.0)), (2148, np.float64(0.03306537728868722)), (2149, np.float64(0.0)), (2150, np.float64(0.0)), (2151, np.float64(0.0)), (2152, np.float64(0.03927226495424442)), (2153, np.float64(0.10116344956534991)), (2154, np.float64(0.007337712690012663)), (2155, np.float64(0.02629371183890338)), (2156, np.float64(0.011545707512250158)), (2157, np.float64(0.039765639405652364)), (2158, np.float64(0.0062357322760227644)), (2159, np.float64(0.01163295729528423)), (2160, np.float64(0.0)), (2161, np.float64(0.0215839737061814)), (2162, np.float64(0.010658535622901108)), (2163, np.float64(0.04504437666125399)), (2164, np.float64(0.0)), (2165, np.float64(0.0)), (2166, np.float64(0.009938752441712525)), (2167, np.float64(0.005205162346210723)), (2168, np.float64(0.0)), (2169, np.float64(0.021507043566769312)), (2170, np.float64(0.0)), (2171, np.float64(0.005834581209318401)), (2172, np.float64(0.016205346084043983)), (2173, np.float64(0.005335129307369288)), (2174, np.float64(0.0)), (2175, np.float64(0.02142953444048101)), (2176, np.float64(0.0)), (2177, np.float64(0.024110515080092224)), (2178, np.float64(0.00581555317924853)), (2179, np.float64(0.006631473481565402)), (2180, np.float64(0.01739807601882767)), (2181, np.float64(0.00296647809546697)), (2182, np.float64(0.0)), (2183, np.float64(0.006053547751042122)), (2184, np.float64(0.012799961628060227)), (2185, np.float64(0.0067621908284588765)), (2186, np.float64(0.020229527381927445)), (2187, np.float64(0.0)), (2188, np.float64(0.0067805799844269776)), (2189, np.float64(0.016621259694040366)), (2190, np.float64(0.005787557543138734)), (2191, np.float64(0.0)), (2192, np.float64(0.0)), (2193, np.float64(0.0)), (2194, np.float64(0.0051354541218251205)), (2195, np.float64(0.005158246328274527)), (2196, np.float64(0.004768158705550629)), (2197, np.float64(0.006326025565114017)), (2198, np.float64(0.2650577185917504)), (2199, np.float64(0.0)), (2200, np.float64(0.0034284325121642476)), (2201, np.float64(0.006143175417154413)), (2202, np.float64(0.0)), (2203, np.float64(0.010872960366910586)), (2204, np.float64(0.0)), (2205, np.float64(0.016262201176363206)), (2206, np.float64(0.016914952133542514)), (2207, np.float64(0.01376694756758728)), (2208, np.float64(0.0)), (2209, np.float64(0.03971171756571025)), (2210, np.float64(0.02859627501757692)), (2211, np.float64(0.02659795119587256)), (2212, np.float64(0.0062873596362391995)), (2213, np.float64(0.0)), (2214, np.float64(0.030133348254395682)), (2215, np.float64(0.012126456845650817)), (2216, np.float64(0.0)), (2217, np.float64(0.007820274017363592)), (2218, np.float64(0.015843882693654228)), (2219, np.float64(0.0)), (2220, np.float64(0.034085774840202046)), (2221, np.float64(0.005176571355689064)), (2222, np.float64(0.0066278157894930755)), (2223, np.float64(0.0)), (2224, np.float64(0.01656844125414088)), (2225, np.float64(0.006767209983234935)), (2226, np.float64(0.0)), (2227, np.float64(0.02764571228072765)), (2228, np.float64(0.011042372869892547)), (2229, np.float64(0.09890053549427691)), (2230, np.float64(0.0)), (2231, np.float64(0.0)), (2232, np.float64(0.0)), (2233, np.float64(0.05106173950388648)), (2234, np.float64(0.0)), (2235, np.float64(0.031515026140521284)), (2236, np.float64(0.0)), (2237, np.float64(0.04376385477012311)), (2238, np.float64(0.024277520482275144)), (2239, np.float64(0.030215240554643544)), (2240, np.float64(0.0)), (2241, np.float64(0.053960445374872996)), (2242, np.float64(0.0)), (2243, np.float64(0.0)), (2244, np.float64(0.08313168250456743)), (2245, np.float64(0.017035971897485666)), (2246, np.float64(0.0)), (2247, np.float64(0.013331125396247399)), (2248, np.float64(0.0)), (2249, np.float64(0.0)), (2250, np.float64(0.009251421115338006)), (2251, np.float64(0.0)), (2252, np.float64(0.0)), (2253, np.float64(0.020654797140546792)), (2254, np.float64(0.029106444494176275)), (2255, np.float64(0.022620484966304203)), (2256, np.float64(0.0)), (2257, np.float64(0.02672442389711631)), (2258, np.float64(0.02273954548150723)), (2259, np.float64(0.0)), (2260, np.float64(0.006250250960936654)), (2261, np.float64(0.022732676824836325)), (2262, np.float64(0.02635706462445813)), (2263, np.float64(0.02623143504431252)), (2264, np.float64(0.04772548678012539)), (2265, np.float64(0.0)), (2266, np.float64(0.008881187469183616)), (2267, np.float64(0.0)), (2268, np.float64(0.0061035985373207105)), (2269, np.float64(0.0)), (2270, np.float64(0.007820656926857277)), (2271, np.float64(0.0)), (2272, np.float64(0.0)), (2273, np.float64(0.0)), (2274, np.float64(0.010420395633299327)), (2275, np.float64(0.0)), (2276, np.float64(0.006258781117490504)), (2277, np.float64(0.005237614519669722)), (2278, np.float64(0.05752346099047166)), (2279, np.float64(0.03275568699940558)), (2280, np.float64(0.0)), (2281, np.float64(0.004881793741811715)), (2282, np.float64(0.0)), (2283, np.float64(0.0)), (2284, np.float64(0.0)), (2285, np.float64(0.05315324682156865)), (2286, np.float64(0.0)), (2287, np.float64(0.0)), (2288, np.float64(0.0038985297278434547)), (2289, np.float64(0.005722281233375696)), (2290, np.float64(0.0)), (2291, np.float64(0.03186775254050943)), (2292, np.float64(0.024977931324445243)), (2293, np.float64(0.005483242866662423)), (2294, np.float64(0.011993387741943234)), (2295, np.float64(0.055302966677269236)), (2296, np.float64(0.008175204377414539)), (2297, np.float64(0.027889416717534317)), (2298, np.float64(0.015787630476156028)), (2299, np.float64(0.005033745405592991)), (2300, np.float64(0.0)), (2301, np.float64(0.0066544108834523)), (2302, np.float64(0.0)), (2303, np.float64(0.01099906389994124)), (2304, np.float64(0.0)), (2305, np.float64(0.014229655454599617)), (2306, np.float64(0.011072433663599394)), (2307, np.float64(0.0)), (2308, np.float64(0.0)), (2309, np.float64(0.004883610314572355)), (2310, np.float64(0.005189697080517199)), (2311, np.float64(0.01730991271012284)), (2312, np.float64(0.0)), (2313, np.float64(0.042694138699614144)), (2314, np.float64(0.009502740573445544)), (2315, np.float64(0.02290778587465613)), (2316, np.float64(0.02978763641909088)), (2317, np.float64(0.033501624520743484)), (2318, np.float64(0.0)), (2319, np.float64(0.0)), (2320, np.float64(0.025888218881902646)), (2321, np.float64(0.008475854832260763)), (2322, np.float64(0.0)), (2323, np.float64(0.0)), (2324, np.float64(0.03673777897246479)), (2325, np.float64(0.008127261035721086)), (2326, np.float64(0.0)), (2327, np.float64(0.08681421419121473)), (2328, np.float64(0.0)), (2329, np.float64(0.0)), (2330, np.float64(0.0)), (2331, np.float64(0.006604049841443918)), (2332, np.float64(0.0)), (2333, np.float64(0.04684483800240101)), (2334, np.float64(0.0)), (2335, np.float64(0.0)), (2336, np.float64(0.02982477349395214)), (2337, np.float64(0.004875975819465204)), (2338, np.float64(0.01880609626986174)), (2339, np.float64(0.0)), (2340, np.float64(0.005640269685021066)), (2341, np.float64(0.05567982534643331)), (2342, np.float64(0.014384098469964362)), (2343, np.float64(0.019854866535867335)), (2344, np.float64(0.0)), (2345, np.float64(0.006420624793855014)), (2346, np.float64(0.012390652125524575)), (2347, np.float64(0.007359543508272889)), (2348, np.float64(0.01995168865540546)), (2349, np.float64(0.003911256350144874)), (2350, np.float64(0.06073746405180102)), (2351, np.float64(0.0)), (2352, np.float64(0.026236995789983848)), (2353, np.float64(0.0)), (2354, np.float64(0.0)), (2355, np.float64(0.005673165282697334)), (2356, np.float64(0.008066787727466192)), (2357, np.float64(0.015931424935544093)), (2358, np.float64(0.0)), (2359, np.float64(0.0)), (2360, np.float64(0.007140867667212696)), (2361, np.float64(0.0934846889593155)), (2362, np.float64(0.0065112603579973016)), (2363, np.float64(0.008456071769591225)), (2364, np.float64(0.008072437873326408)), (2365, np.float64(0.005691434555980625)), (2366, np.float64(0.006286896766869178)), (2367, np.float64(0.03160108819700102)), (2368, np.float64(0.0)), (2369, np.float64(0.0)), (2370, np.float64(0.0)), (2371, np.float64(0.005732282716231676)), (2372, np.float64(0.053551556076020704)), (2373, np.float64(0.0)), (2374, np.float64(0.006022434976967488)), (2375, np.float64(0.024051644319092732)), (2376, np.float64(0.00644529565871669)), (2377, np.float64(0.021612435113345478)), (2378, np.float64(0.0)), (2379, np.float64(0.0)), (2380, np.float64(0.03893984014795431)), (2381, np.float64(0.025397854209683317)), (2382, np.float64(0.01399319780230048)), (2383, np.float64(0.0)), (2384, np.float64(0.0)), (2385, np.float64(0.0)), (2386, np.float64(0.031332578844190044)), (2387, np.float64(0.015053910715548811)), (2388, np.float64(0.005383278192942798)), (2389, np.float64(0.07757098160968652)), (2390, np.float64(0.020902464714534025)), (2391, np.float64(0.09104412130360483)), (2392, np.float64(0.0)), (2393, np.float64(0.0)), (2394, np.float64(0.006185540125146505)), (2395, np.float64(0.005067407082665006)), (2396, np.float64(0.0)), (2397, np.float64(0.017835142047487512)), (2398, np.float64(0.0659513461290514)), (2399, np.float64(0.0)), (2400, np.float64(0.005984237481014903)), (2401, np.float64(0.01637666837924931)), (2402, np.float64(0.0)), (2403, np.float64(0.43893428741144097)), (2404, np.float64(0.026420961281628266)), (2405, np.float64(0.012051518088711521)), (2406, np.float64(0.0)), (2407, np.float64(0.006243339006989494)), (2408, np.float64(0.0)), (2409, np.float64(0.0)), (2410, np.float64(0.025631681575663767)), (2411, np.float64(0.0)), (2412, np.float64(0.004678683460181481)), (2413, np.float64(0.018993485095352543)), (2414, np.float64(0.007711551782165196)), (2415, np.float64(0.0)), (2416, np.float64(0.0297125673818667)), (2417, np.float64(0.0)), (2418, np.float64(0.02838978654462629)), (2419, np.float64(0.0)), (2420, np.float64(0.0)), (2421, np.float64(0.0)), (2422, np.float64(0.004113878458219901)), (2423, np.float64(0.025794137384674724)), (2424, np.float64(0.021961626648408544)), (2425, np.float64(0.0)), (2426, np.float64(0.0)), (2427, np.float64(0.05786946123761782)), (2428, np.float64(0.0)), (2429, np.float64(0.005423714112282704)), (2430, np.float64(0.0)), (2431, np.float64(0.005737956555896407)), (2432, np.float64(0.0)), (2433, np.float64(0.019316259062712227)), (2434, np.float64(0.0)), (2435, np.float64(0.02203745344210834)), (2436, np.float64(0.0)), (2437, np.float64(0.011585616135032503)), (2438, np.float64(0.04662681903173213)), (2439, np.float64(0.004439433805477462)), (2440, np.float64(0.0)), (2441, np.float64(0.005861366541699668)), (2442, np.float64(0.05218852849606906)), (2443, np.float64(0.02129289402133658)), (2444, np.float64(0.09186519015269569)), (2445, np.float64(0.0)), (2446, np.float64(0.0)), (2447, np.float64(0.006553151455948075)), (2448, np.float64(0.024964312509227062)), (2449, np.float64(0.00540723671915152)), (2450, np.float64(0.05125700918332021)), (2451, np.float64(0.006504845706487274)), (2452, np.float64(0.0)), (2453, np.float64(0.0)), (2454, np.float64(0.0)), (2455, np.float64(0.01945621686409557)), (2456, np.float64(0.0)), (2457, np.float64(0.004001435406968837)), (2458, np.float64(0.016228799455800857)), (2459, np.float64(0.0043182797103452665)), (2460, np.float64(0.0)), (2461, np.float64(0.010805187290664812)), (2462, np.float64(0.0)), (2463, np.float64(0.0)), (2464, np.float64(0.0)), (2465, np.float64(0.05607380820027955)), (2466, np.float64(0.007174568590687118)), (2467, np.float64(0.004248306265130507)), (2468, np.float64(0.010245606019117252)), (2469, np.float64(0.011937381738412613)), (2470, np.float64(0.004818611392948455)), (2471, np.float64(0.004992524086238499)), (2472, np.float64(0.006816520775079756)), (2473, np.float64(0.006951375804027572)), (2474, np.float64(0.0212514394536525)), (2475, np.float64(0.034295916929845224)), (2476, np.float64(0.0)), (2477, np.float64(0.0)), (2478, np.float64(0.0)), (2479, np.float64(0.02001976216441442)), (2480, np.float64(0.006081340985162718)), (2481, np.float64(0.008004127978259626)), (2482, np.float64(0.06512076717815694)), (2483, np.float64(0.0)), (2484, np.float64(0.015696554335444576)), (2485, np.float64(0.0)), (2486, np.float64(0.02170102065203853)), (2487, np.float64(0.0)), (2488, np.float64(0.0)), (2489, np.float64(0.014052038736874758)), (2490, np.float64(0.02309252050292216)), (2491, np.float64(0.0)), (2492, np.float64(0.059501401401457474)), (2493, np.float64(0.027326274785516243)), (2494, np.float64(0.027168653506695468)), (2495, np.float64(0.014385929988092626)), (2496, np.float64(0.006484847159471762)), (2497, np.float64(0.0)), (2498, np.float64(0.0)), (2499, np.float64(0.007518593419144337)), (2500, np.float64(0.11343128995417294)), (2501, np.float64(0.0)), (2502, np.float64(0.0)), (2503, np.float64(0.0)), (2504, np.float64(0.0)), (2505, np.float64(0.029036917223209384)), (2506, np.float64(0.016685778772930725)), (2507, np.float64(0.0)), (2508, np.float64(0.015524474797867609)), (2509, np.float64(0.06253493396938449)), (2510, np.float64(0.003263928295015828)), (2511, np.float64(0.0)), (2512, np.float64(0.0)), (2513, np.float64(0.014396930318334052)), (2514, np.float64(0.051202000866575656)), (2515, np.float64(0.016096464577871096)), (2516, np.float64(0.0366828228416417)), (2517, np.float64(0.0)), (2518, np.float64(0.03442748971966668)), (2519, np.float64(0.008473012225436463)), (2520, np.float64(0.0)), (2521, np.float64(0.007349796364230695)), (2522, np.float64(0.04728886134119324)), (2523, np.float64(0.0)), (2524, np.float64(0.0)), (2525, np.float64(0.004460139419473602)), (2526, np.float64(0.0)), (2527, np.float64(0.01390693819230407)), (2528, np.float64(0.0)), (2529, np.float64(0.008863594999828583)), (2530, np.float64(0.00934352462328125)), (2531, np.float64(0.0)), (2532, np.float64(0.00529769714633261)), (2533, np.float64(0.03692803246958915)), (2534, np.float64(0.0)), (2535, np.float64(0.0)), (2536, np.float64(0.02210408947108)), (2537, np.float64(0.08590335621777449)), (2538, np.float64(0.0)), (2539, np.float64(0.0)), (2540, np.float64(0.027415264815679005)), (2541, np.float64(0.10868922750682078)), (2542, np.float64(0.0)), (2543, np.float64(0.011301945940256315)), (2544, np.float64(0.0)), (2545, np.float64(0.0256214804383991)), (2546, np.float64(0.02557388385877831)), (2547, np.float64(0.016145040323072315)), (2548, np.float64(0.0)), (2549, np.float64(0.004923212353015221)), (2550, np.float64(0.060018589870218)), (2551, np.float64(0.0)), (2552, np.float64(0.007517818167825371)), (2553, np.float64(0.0)), (2554, np.float64(0.006179871648582183)), (2555, np.float64(0.0)), (2556, np.float64(0.020981419775971923)), (2557, np.float64(0.0)), (2558, np.float64(0.0037702283067029894)), (2559, np.float64(0.0)), (2560, np.float64(0.033280951928772035)), (2561, np.float64(0.041058126231397304)), (2562, np.float64(0.0)), (2563, np.float64(0.0)), (2564, np.float64(0.011151157167487392)), (2565, np.float64(0.013673634660073531)), (2566, np.float64(0.0)), (2567, np.float64(0.0)), (2568, np.float64(0.017343492320873323)), (2569, np.float64(0.024470732742610118)), (2570, np.float64(0.0)), (2571, np.float64(0.03129083611062303)), (2572, np.float64(0.0)), (2573, np.float64(0.013139338676899988)), (2574, np.float64(0.0)), (2575, np.float64(0.0)), (2576, np.float64(0.0)), (2577, np.float64(0.04731512600788586)), (2578, np.float64(0.06956621623681587)), (2579, np.float64(0.004302987634434089)), (2580, np.float64(0.016156669073588592)), (2581, np.float64(0.05827408725778852)), (2582, np.float64(0.0)), (2583, np.float64(0.006293787323240083)), (2584, np.float64(0.0)), (2585, np.float64(0.03701774002424318)), (2586, np.float64(0.02050174079154212)), (2587, np.float64(0.0)), (2588, np.float64(0.0)), (2589, np.float64(0.0)), (2590, np.float64(0.021070535825995215)), (2591, np.float64(0.0)), (2592, np.float64(0.03573081917620512)), (2593, np.float64(0.0)), (2594, np.float64(0.02806453505121073)), (2595, np.float64(0.0)), (2596, np.float64(0.0)), (2597, np.float64(0.02089641723257362)), (2598, np.float64(0.01093733029165513)), (2599, np.float64(0.0)), (2600, np.float64(0.004875239202127117)), (2601, np.float64(0.0)), (2602, np.float64(0.004579492849164632)), (2603, np.float64(0.005962771169188294)), (2604, np.float64(0.007463177552387716)), (2605, np.float64(0.017669915156240917)), (2606, np.float64(0.017579154787769124)), (2607, np.float64(0.0)), (2608, np.float64(0.0)), (2609, np.float64(0.024906951588737913)), (2610, np.float64(0.011088483478254852)), (2611, np.float64(0.00730759504168889)), (2612, np.float64(0.0)), (2613, np.float64(0.016765901521605252)), (2614, np.float64(0.025393050688593828)), (2615, np.float64(0.0)), (2616, np.float64(0.0)), (2617, np.float64(0.0)), (2618, np.float64(0.0)), (2619, np.float64(0.0)), (2620, np.float64(0.0)), (2621, np.float64(0.015268539547403318)), (2622, np.float64(0.0)), (2623, np.float64(0.006018038067539153)), (2624, np.float64(0.0)), (2625, np.float64(0.026740282194744697)), (2626, np.float64(0.0)), (2627, np.float64(0.0)), (2628, np.float64(0.018738349120300098)), (2629, np.float64(0.009980651606404854)), (2630, np.float64(0.06388479977331586)), (2631, np.float64(0.0)), (2632, np.float64(0.01779567618873673)), (2633, np.float64(0.0644431809126584)), (2634, np.float64(0.0)), (2635, np.float64(0.0)), (2636, np.float64(0.04757118557533085)), (2637, np.float64(0.0)), (2638, np.float64(0.045013188409957564)), (2639, np.float64(0.023186593177522613)), (2640, np.float64(0.023708672102579185)), (2641, np.float64(0.004373683104894891)), (2642, np.float64(0.026727641746108564)), (2643, np.float64(0.0)), (2644, np.float64(0.011276826894377517)), (2645, np.float64(0.010786786743516722)), (2646, np.float64(0.0066336639290748844)), (2647, np.float64(0.0)), (2648, np.float64(0.015471743726064805)), (2649, np.float64(0.0)), (2650, np.float64(0.04990970675642488)), (2651, np.float64(0.01706600650763908)), (2652, np.float64(0.010869180485334458)), (2653, np.float64(0.0358597086621433)), (2654, np.float64(0.03759116793651481)), (2655, np.float64(0.02405864883831156)), (2656, np.float64(0.0)), (2657, np.float64(0.00446507258415175)), (2658, np.float64(0.0)), (2659, np.float64(0.011593485199781753)), (2660, np.float64(0.0)), (2661, np.float64(0.01786755560911043)), (2662, np.float64(0.027747264040802067)), (2663, np.float64(0.0)), (2664, np.float64(0.0)), (2665, np.float64(0.0)), (2666, np.float64(0.006165494786199261)), (2667, np.float64(0.0342889061516671)), (2668, np.float64(0.006039546426306441)), (2669, np.float64(0.007437419126903982)), (2670, np.float64(0.0)), (2671, np.float64(0.03958963473955709)), (2672, np.float64(0.0)), (2673, np.float64(0.020633689793465172)), (2674, np.float64(0.013598139206846245)), (2675, np.float64(0.007167902871751085)), (2676, np.float64(0.0)), (2677, np.float64(0.0054223596951823985)), (2678, np.float64(0.008868426379766692)), (2679, np.float64(0.0)), (2680, np.float64(0.025482184337639362)), (2681, np.float64(0.02492455245535215)), (2682, np.float64(0.0067103914566248365)), (2683, np.float64(0.0075856644113447315)), (2684, np.float64(0.007595571050844331)), (2685, np.float64(0.008620797093571348)), (2686, np.float64(0.014985170733089023)), (2687, np.float64(0.008899044456243748)), (2688, np.float64(0.008029465628888517)), (2689, np.float64(0.0)), (2690, np.float64(0.0)), (2691, np.float64(0.04418902973745708)), (2692, np.float64(0.0)), (2693, np.float64(0.02046721083321883)), (2694, np.float64(0.0)), (2695, np.float64(0.008588770489499076)), (2696, np.float64(0.21602867362323813)), (2697, np.float64(0.0)), (2698, np.float64(0.0068277813823273735)), (2699, np.float64(0.0)), (2700, np.float64(0.0)), (2701, np.float64(0.02357883892769358)), (2702, np.float64(0.014946049481002406)), (2703, np.float64(0.007534851475984979)), (2704, np.float64(0.0048931896739064775)), (2705, np.float64(0.0)), (2706, np.float64(0.02285139685532988)), (2707, np.float64(0.00887620449839696)), (2708, np.float64(0.04667547496053675)), (2709, np.float64(0.0)), (2710, np.float64(0.005957229339158319)), (2711, np.float64(0.0)), (2712, np.float64(0.0044535815554449226)), (2713, np.float64(0.06302208011628596)), (2714, np.float64(0.0)), (2715, np.float64(0.0)), (2716, np.float64(0.024969708079477758)), (2717, np.float64(0.015231996615434219)), (2718, np.float64(0.0060600235070626144)), (2719, np.float64(0.006800211774141553)), (2720, np.float64(0.025720542378188157)), (2721, np.float64(0.0)), (2722, np.float64(0.019134596787275242)), (2723, np.float64(0.0)), (2724, np.float64(0.028898048832109346)), (2725, np.float64(0.004622030404263683)), (2726, np.float64(0.059272579968069186)), (2727, np.float64(0.04824597340825858)), (2728, np.float64(0.006529636065589666)), (2729, np.float64(0.0)), (2730, np.float64(0.0)), (2731, np.float64(0.0)), (2732, np.float64(0.006669284930470608)), (2733, np.float64(0.0)), (2734, np.float64(0.0)), (2735, np.float64(0.0)), (2736, np.float64(0.010809196135940755)), (2737, np.float64(0.0)), (2738, np.float64(0.009557274068335252)), (2739, np.float64(0.009425168129999134)), (2740, np.float64(0.0)), (2741, np.float64(0.0)), (2742, np.float64(0.0)), (2743, np.float64(0.037018696908993565)), (2744, np.float64(0.0)), (2745, np.float64(0.0)), (2746, np.float64(0.018621922094508626)), (2747, np.float64(0.008926752955246395)), (2748, np.float64(0.029219707362074805)), (2749, np.float64(0.0)), (2750, np.float64(0.017410303552785524)), (2751, np.float64(0.013340616640559837)), (2752, np.float64(0.030969539542646994)), (2753, np.float64(0.037502047268286355)), (2754, np.float64(0.00972848090491497)), (2755, np.float64(0.0759502549659998)), (2756, np.float64(0.02642242720964211)), (2757, np.float64(0.05459290511723635)), (2758, np.float64(0.0903032741039208)), (2759, np.float64(0.01800891415098671)), (2760, np.float64(0.0)), (2761, np.float64(0.0)), (2762, np.float64(0.03542424104629055)), (2763, np.float64(0.0)), (2764, np.float64(0.0)), (2765, np.float64(0.0)), (2766, np.float64(0.013125720210430639)), (2767, np.float64(0.0)), (2768, np.float64(0.0)), (2769, np.float64(0.009291637131097957)), (2770, np.float64(0.0)), (2771, np.float64(0.007501573873399551)), (2772, np.float64(0.017801223595664484)), (2773, np.float64(0.0)), (2774, np.float64(0.0)), (2775, np.float64(0.0054279129627478545)), (2776, np.float64(0.012435517353565267)), (2777, np.float64(0.0174818030251104)), (2778, np.float64(0.08384171931879297)), (2779, np.float64(0.008910725779538742)), (2780, np.float64(0.03258951189756205)), (2781, np.float64(0.04919515160829538)), (2782, np.float64(0.04486751951904328)), (2783, np.float64(0.0)), (2784, np.float64(0.023216948377991646)), (2785, np.float64(0.012985647664140669)), (2786, np.float64(0.0062727664640848035)), (2787, np.float64(0.01141858555993843)), (2788, np.float64(0.00801477249112724)), (2789, np.float64(0.00946289747991057)), (2790, np.float64(0.022423662462111582)), (2791, np.float64(0.03242156011026883)), (2792, np.float64(0.011150839739427737)), (2793, np.float64(0.0)), (2794, np.float64(0.009090532824593387)), (2795, np.float64(0.0)), (2796, np.float64(0.009829986451823453)), (2797, np.float64(0.0066737282612838265)), (2798, np.float64(0.04079649124693238)), (2799, np.float64(0.005863391274001759)), (2800, np.float64(0.006562811759411288)), (2801, np.float64(0.0)), (2802, np.float64(0.007173425150985717)), (2803, np.float64(0.0042610502819302115)), (2804, np.float64(0.0)), (2805, np.float64(0.0063106742443094326)), (2806, np.float64(0.04684341074673524)), (2807, np.float64(0.0)), (2808, np.float64(0.0)), (2809, np.float64(0.005427576062352208)), (2810, np.float64(0.004520643853529417)), (2811, np.float64(0.0)), (2812, np.float64(0.011517947071944491)), (2813, np.float64(0.01766799450542271)), (2814, np.float64(0.0)), (2815, np.float64(0.07932184312223847)), (2816, np.float64(0.0)), (2817, np.float64(0.03784355088653349)), (2818, np.float64(0.005798321925598021)), (2819, np.float64(0.01746133322025246)), (2820, np.float64(0.019028665334784034)), (2821, np.float64(0.0)), (2822, np.float64(0.006796039433521087)), (2823, np.float64(0.008066114687841451)), (2824, np.float64(0.016465357302203366)), (2825, np.float64(0.005290351444814437)), (2826, np.float64(0.04883874998168103)), (2827, np.float64(0.0544382038582205)), (2828, np.float64(0.0)), (2829, np.float64(0.06452609957732733)), (2830, np.float64(0.0)), (2831, np.float64(0.019987859305046707)), (2832, np.float64(0.0)), (2833, np.float64(0.0)), (2834, np.float64(0.0)), (2835, np.float64(0.03187694867465887)), (2836, np.float64(0.020888503985393114)), (2837, np.float64(0.0)), (2838, np.float64(0.005048558575883923)), (2839, np.float64(0.0)), (2840, np.float64(0.0)), (2841, np.float64(0.017938808682270567)), (2842, np.float64(0.0)), (2843, np.float64(0.0)), (2844, np.float64(0.0)), (2845, np.float64(0.0318168223538271)), (2846, np.float64(0.01758043264353769)), (2847, np.float64(0.006537191976604172)), (2848, np.float64(0.0)), (2849, np.float64(0.0052204473002596995)), (2850, np.float64(0.0)), (2851, np.float64(0.035249562045481714)), (2852, np.float64(0.0)), (2853, np.float64(0.00344710321628238)), (2854, np.float64(0.007381997377569947)), (2855, np.float64(0.007502147460035395)), (2856, np.float64(0.008572422737969437)), (2857, np.float64(0.0)), (2858, np.float64(0.006424179953718443)), (2859, np.float64(0.007656192525876853)), (2860, np.float64(0.06614258981843184)), (2861, np.float64(0.0)), (2862, np.float64(0.05034105315693088)), (2863, np.float64(0.01789881030562863)), (2864, np.float64(0.0)), (2865, np.float64(0.04078102391047336)), (2866, np.float64(0.0)), (2867, np.float64(0.006549227886503582)), (2868, np.float64(0.046731599676648555)), (2869, np.float64(0.0)), (2870, np.float64(0.0)), (2871, np.float64(0.0)), (2872, np.float64(0.00829330884793506)), (2873, np.float64(0.0)), (2874, np.float64(0.0)), (2875, np.float64(0.04114853179057323)), (2876, np.float64(0.02016736819911775)), (2877, np.float64(0.013020769960159061)), (2878, np.float64(0.009712758131686108)), (2879, np.float64(0.03671463185200374)), (2880, np.float64(0.009054876711959928)), (2881, np.float64(0.010590458063252841)), (2882, np.float64(0.0)), (2883, np.float64(0.0)), (2884, np.float64(0.060014431863002635)), (2885, np.float64(0.005347497438321942)), (2886, np.float64(0.005943238335844407)), (2887, np.float64(0.005755541791125535)), (2888, np.float64(0.07072003922697326)), (2889, np.float64(0.023313483795224545)), (2890, np.float64(0.014656788601221219)), (2891, np.float64(0.0)), (2892, np.float64(0.044019014005882255)), (2893, np.float64(0.0)), (2894, np.float64(0.044513250828904526)), (2895, np.float64(0.03563514502732858)), (2896, np.float64(0.0)), (2897, np.float64(0.13393982359540155)), (2898, np.float64(0.07316672662342395)), (2899, np.float64(0.01634013640581347)), (2900, np.float64(0.020548355723660365)), (2901, np.float64(0.0544458953569418)), (2902, np.float64(0.0)), (2903, np.float64(0.0)), (2904, np.float64(0.0)), (2905, np.float64(0.0)), (2906, np.float64(0.006348399495857005)), (2907, np.float64(0.0)), (2908, np.float64(0.0)), (2909, np.float64(0.0)), (2910, np.float64(0.006756213146766467)), (2911, np.float64(0.006828265321128713)), (2912, np.float64(0.13604996455696128)), (2913, np.float64(0.0)), (2914, np.float64(0.06800897253228778)), (2915, np.float64(0.00796895119359122)), (2916, np.float64(0.006054286355317365)), (2917, np.float64(0.0)), (2918, np.float64(0.004849518008226821)), (2919, np.float64(0.0)), (2920, np.float64(0.0)), (2921, np.float64(0.06286518304597107)), (2922, np.float64(0.0)), (2923, np.float64(0.01202636630996247)), (2924, np.float64(0.0)), (2925, np.float64(0.015602867382076266)), (2926, np.float64(0.0)), (2927, np.float64(0.0236856453930358)), (2928, np.float64(0.0)), (2929, np.float64(0.0)), (2930, np.float64(0.009300805636750491)), (2931, np.float64(0.0069763361893932195)), (2932, np.float64(0.0)), (2933, np.float64(0.007325117164587814)), (2934, np.float64(0.1582116820004406)), (2935, np.float64(0.014089352800632289)), (2936, np.float64(0.06418720254051448)), (2937, np.float64(0.0)), (2938, np.float64(0.0)), (2939, np.float64(0.008006766298856716)), (2940, np.float64(0.0063948073239595655)), (2941, np.float64(0.0)), (2942, np.float64(0.0)), (2943, np.float64(0.009450114662964616)), (2944, np.float64(0.03653065133294355)), (2945, np.float64(0.005041252296586608)), (2946, np.float64(0.006373520751464492)), (2947, np.float64(0.0)), (2948, np.float64(0.0)), (2949, np.float64(0.0158639998289125)), (2950, np.float64(0.0063545939077675195)), (2951, np.float64(0.02434140370321658)), (2952, np.float64(0.005857914480918905)), (2953, np.float64(0.010805548014831112)), (2954, np.float64(0.0)), (2955, np.float64(0.0230858248500782)), (2956, np.float64(0.0)), (2957, np.float64(0.023909677463603254)), (2958, np.float64(0.0)), (2959, np.float64(0.006156000230617175)), (2960, np.float64(0.00618119335945252)), (2961, np.float64(0.0)), (2962, np.float64(0.03868441258517469)), (2963, np.float64(0.009261391162880793)), (2964, np.float64(0.0393288499636245)), (2965, np.float64(0.0)), (2966, np.float64(0.21529618702783823)), (2967, np.float64(0.11520485625042529)), (2968, np.float64(0.020612020982747354)), (2969, np.float64(0.006681349030421461)), (2970, np.float64(0.0)), (2971, np.float64(0.0072235490576636535)), (2972, np.float64(0.0153908959912968)), (2973, np.float64(0.0)), (2974, np.float64(0.0)), (2975, np.float64(0.010067999473625616)), (2976, np.float64(0.0)), (2977, np.float64(0.0)), (2978, np.float64(0.006021960561716224)), (2979, np.float64(0.0)), (2980, np.float64(0.021546179007491166)), (2981, np.float64(0.011239353577417538)), (2982, np.float64(0.0)), (2983, np.float64(0.0)), (2984, np.float64(0.006781871250792104)), (2985, np.float64(0.0)), (2986, np.float64(0.06725824645084004)), (2987, np.float64(0.0)), (2988, np.float64(0.0)), (2989, np.float64(0.0)), (2990, np.float64(0.0)), (2991, np.float64(0.031092894869550452)), (2992, np.float64(0.0)), (2993, np.float64(0.0)), (2994, np.float64(0.01647767610721223)), (2995, np.float64(0.02793367135093757)), (2996, np.float64(0.012653615385574298)), (2997, np.float64(0.010621584486299422)), (2998, np.float64(0.0)), (2999, np.float64(0.0)), (3000, np.float64(0.0)), (3001, np.float64(0.014172147206088464)), (3002, np.float64(0.0173643296041637)), (3003, np.float64(0.0066592001392889975)), (3004, np.float64(0.019177957918181845)), (3005, np.float64(0.0)), (3006, np.float64(0.026090071225080495)), (3007, np.float64(0.04055441060759425)), (3008, np.float64(0.004230456727673271)), (3009, np.float64(0.0)), (3010, np.float64(0.005811682283218709)), (3011, np.float64(0.01833870590981285)), (3012, np.float64(0.0)), (3013, np.float64(0.021509435495809262)), (3014, np.float64(0.01455871768570717)), (3015, np.float64(0.01437857337355284)), (3016, np.float64(0.0)), (3017, np.float64(0.0)), (3018, np.float64(0.03291752525960055)), (3019, np.float64(0.0)), (3020, np.float64(0.007101752909921501)), (3021, np.float64(0.007046536925860805)), (3022, np.float64(0.0)), (3023, np.float64(0.0)), (3024, np.float64(0.045829827183884425)), (3025, np.float64(0.0)), (3026, np.float64(0.0)), (3027, np.float64(0.005970158523727683)), (3028, np.float64(0.008184535126909044)), (3029, np.float64(0.00447239329110171)), (3030, np.float64(0.003980114707254348)), (3031, np.float64(0.0)), (3032, np.float64(0.011626598721470998)), (3033, np.float64(0.04484274321745767)), (3034, np.float64(0.0)), (3035, np.float64(0.010580664171162409)), (3036, np.float64(0.0)), (3037, np.float64(0.018093174691098904)), (3038, np.float64(0.0)), (3039, np.float64(0.0)), (3040, np.float64(0.005488122568547227)), (3041, np.float64(0.006894974340298227)), (3042, np.float64(0.0)), (3043, np.float64(0.009443696421660219)), (3044, np.float64(0.019073197380355005)), (3045, np.float64(0.0)), (3046, np.float64(0.0)), (3047, np.float64(0.0)), (3048, np.float64(0.024041546371094336)), (3049, np.float64(0.0)), (3050, np.float64(0.0)), (3051, np.float64(0.01597298703679867)), (3052, np.float64(0.0)), (3053, np.float64(0.0177216529719668)), (3054, np.float64(0.0)), (3055, np.float64(0.025585912164418613)), (3056, np.float64(0.07450183317764766)), (3057, np.float64(0.0)), (3058, np.float64(0.0)), (3059, np.float64(0.0)), (3060, np.float64(0.0065923451566329925)), (3061, np.float64(0.0)), (3062, np.float64(0.013014549486229376)), (3063, np.float64(0.0)), (3064, np.float64(0.017748397648892904)), (3065, np.float64(0.03153255119333621)), (3066, np.float64(0.0)), (3067, np.float64(0.00786609262282941)), (3068, np.float64(0.06554050137148659)), (3069, np.float64(0.0)), (3070, np.float64(0.0)), (3071, np.float64(0.032299108945593194)), (3072, np.float64(0.020106375226418498)), (3073, np.float64(0.004934891243407396)), (3074, np.float64(0.0038434477850950322)), (3075, np.float64(0.0)), (3076, np.float64(0.008374352172910908)), (3077, np.float64(0.006227503754048867)), (3078, np.float64(0.009047916079982262)), (3079, np.float64(0.0)), (3080, np.float64(0.0)), (3081, np.float64(0.0)), (3082, np.float64(0.006073477008123441)), (3083, np.float64(0.0)), (3084, np.float64(0.0)), (3085, np.float64(0.0)), (3086, np.float64(0.012626735665403638)), (3087, np.float64(0.017294502230709878)), (3088, np.float64(0.0)), (3089, np.float64(0.024406833149473665)), (3090, np.float64(0.0)), (3091, np.float64(0.0)), (3092, np.float64(0.0)), (3093, np.float64(0.0)), (3094, np.float64(0.0)), (3095, np.float64(0.005402816015578869)), (3096, np.float64(0.0)), (3097, np.float64(0.006800592967903997)), (3098, np.float64(0.015025894546548346)), (3099, np.float64(0.00443724627390688)), (3100, np.float64(0.0)), (3101, np.float64(0.0)), (3102, np.float64(0.0)), (3103, np.float64(0.0)), (3104, np.float64(0.0)), (3105, np.float64(0.09294200268494351)), (3106, np.float64(0.005987682710791997)), (3107, np.float64(0.005436473553462065)), (3108, np.float64(0.0)), (3109, np.float64(0.0)), (3110, np.float64(0.015318048356408915)), (3111, np.float64(0.0)), (3112, np.float64(0.0)), (3113, np.float64(0.02857401367298559)), (3114, np.float64(0.008469371739549371)), (3115, np.float64(0.0)), (3116, np.float64(0.009436385599045255)), (3117, np.float64(0.007647225677567229)), (3118, np.float64(0.0)), (3119, np.float64(0.0)), (3120, np.float64(0.0)), (3121, np.float64(0.0)), (3122, np.float64(0.007888503352800938)), (3123, np.float64(0.0)), (3124, np.float64(0.03354437310333351)), (3125, np.float64(0.0)), (3126, np.float64(0.012535770175190709)), (3127, np.float64(0.0)), (3128, np.float64(0.005557875038932665)), (3129, np.float64(0.00687288723044729)), (3130, np.float64(0.02997854195451876)), (3131, np.float64(0.005597926309776519)), (3132, np.float64(0.005822499930352347)), (3133, np.float64(0.01912049267912242)), (3134, np.float64(0.00732011173305606)), (3135, np.float64(0.0)), (3136, np.float64(0.011892525534242445)), (3137, np.float64(0.0)), (3138, np.float64(0.0049526555548333115)), (3139, np.float64(0.0)), (3140, np.float64(0.005876079459750665)), (3141, np.float64(0.02065376045111531)), (3142, np.float64(0.005727914649140046)), (3143, np.float64(0.08006537310826185)), (3144, np.float64(0.007046493499313013)), (3145, np.float64(0.01569945854857576)), (3146, np.float64(0.0)), (3147, np.float64(0.01828510933959015)), (3148, np.float64(0.009295697065115597)), (3149, np.float64(0.005007191615128666)), (3150, np.float64(0.015289931883694555)), (3151, np.float64(0.029856514160817253)), (3152, np.float64(0.030992632240521577)), (3153, np.float64(0.018932898117709655)), (3154, np.float64(0.01304955948877387)), (3155, np.float64(0.07512474310596018)), (3156, np.float64(0.0)), (3157, np.float64(0.019629840628531806)), (3158, np.float64(0.35456321245192446)), (3159, np.float64(0.0)), (3160, np.float64(0.0)), (3161, np.float64(0.021496773609849876)), (3162, np.float64(0.00889825329232286)), (3163, np.float64(0.019870595872060838)), (3164, np.float64(0.007216121470844548)), (3165, np.float64(0.0055729428163955605)), (3166, np.float64(0.0)), (3167, np.float64(0.0)), (3168, np.float64(0.0)), (3169, np.float64(0.010078924296162516)), (3170, np.float64(0.0421770532034236)), (3171, np.float64(0.004420844552023595)), (3172, np.float64(0.0)), (3173, np.float64(0.0)), (3174, np.float64(0.0)), (3175, np.float64(0.0)), (3176, np.float64(0.007641754569190312)), (3177, np.float64(0.05337546576460606)), (3178, np.float64(0.0)), (3179, np.float64(0.007335783998819769)), (3180, np.float64(0.0039035377379955795)), (3181, np.float64(0.013766950049098526)), (3182, np.float64(0.0)), (3183, np.float64(0.020957595609953077)), (3184, np.float64(0.14675406177714453)), (3185, np.float64(0.0)), (3186, np.float64(0.00878271316381115)), (3187, np.float64(0.0)), (3188, np.float64(0.0)), (3189, np.float64(0.0)), (3190, np.float64(0.0)), (3191, np.float64(0.024551765466204717)), (3192, np.float64(0.0)), (3193, np.float64(0.0)), (3194, np.float64(0.01927039549337751)), (3195, np.float64(0.0)), (3196, np.float64(0.0)), (3197, np.float64(0.0387584035729116)), (3198, np.float64(0.006193485539866744)), (3199, np.float64(0.0)), (3200, np.float64(0.0077462687385647265)), (3201, np.float64(0.006530793167515424)), (3202, np.float64(0.06493460332116645)), (3203, np.float64(0.023389381579258284)), (3204, np.float64(0.015129541192758653)), (3205, np.float64(0.030689008265809337)), (3206, np.float64(0.0)), (3207, np.float64(0.0)), (3208, np.float64(0.16112692332045933)), (3209, np.float64(0.004591200478382007)), (3210, np.float64(0.0)), (3211, np.float64(0.005422414949542867)), (3212, np.float64(0.0069856343377496955)), (3213, np.float64(0.0)), (3214, np.float64(0.12607952373626843)), (3215, np.float64(0.006226698597236501)), (3216, np.float64(0.0)), (3217, np.float64(0.0)), (3218, np.float64(0.005388390639737109)), (3219, np.float64(0.006111938116305582)), (3220, np.float64(0.0)), (3221, np.float64(0.004702167921307353)), (3222, np.float64(0.007564419191516347)), (3223, np.float64(0.007304407773121052)), (3224, np.float64(0.012081765531941607)), (3225, np.float64(0.009687194134486776)), (3226, np.float64(0.006825517671059023)), (3227, np.float64(0.04494517540738001)), (3228, np.float64(0.007235510759621007)), (3229, np.float64(0.006174365575179913)), (3230, np.float64(0.02228695137487085)), (3231, np.float64(0.053777886854609526)), (3232, np.float64(0.006307887545830865)), (3233, np.float64(0.012752485634935883)), (3234, np.float64(0.0)), (3235, np.float64(0.0)), (3236, np.float64(0.03136766136752235)), (3237, np.float64(0.02170888894722263)), (3238, np.float64(0.0)), (3239, np.float64(0.0)), (3240, np.float64(0.01692108145219697)), (3241, np.float64(0.0)), (3242, np.float64(0.0)), (3243, np.float64(0.007868366356447703)), (3244, np.float64(0.007254758509737271)), (3245, np.float64(0.0)), (3246, np.float64(0.0)), (3247, np.float64(0.007159293786660843)), (3248, np.float64(0.0)), (3249, np.float64(0.00609374417153345)), (3250, np.float64(0.017527174009604615)), (3251, np.float64(0.007322167730118184)), (3252, np.float64(0.006700824846634043)), (3253, np.float64(0.007167499203166667)), (3254, np.float64(0.0)), (3255, np.float64(0.0)), (3256, np.float64(0.009854873403217695)), (3257, np.float64(0.0)), (3258, np.float64(0.03590662572647179)), (3259, np.float64(0.005486179360005555)), (3260, np.float64(0.0054281905010312645)), (3261, np.float64(0.01547502469899405)), (3262, np.float64(0.022829466863531944)), (3263, np.float64(0.0)), (3264, np.float64(0.00832062907876871)), (3265, np.float64(0.0)), (3266, np.float64(0.0)), (3267, np.float64(0.008684822175412188)), (3268, np.float64(0.0)), (3269, np.float64(0.007715360301646965)), (3270, np.float64(0.017546596695548332)), (3271, np.float64(0.007420469242972919)), (3272, np.float64(0.0119083253417525)), (3273, np.float64(0.0)), (3274, np.float64(0.005668722338010424)), (3275, np.float64(0.0)), (3276, np.float64(0.0)), (3277, np.float64(0.0)), (3278, np.float64(0.0)), (3279, np.float64(0.022675159841882984)), (3280, np.float64(0.008657621773079695)), (3281, np.float64(0.009523343505368338)), (3282, np.float64(0.009392666349302218)), (3283, np.float64(0.006023681958676809)), (3284, np.float64(0.00693366762736645)), (3285, np.float64(0.03471105917992369)), (3286, np.float64(0.0)), (3287, np.float64(0.04635893924773012)), (3288, np.float64(0.006043936953449883)), (3289, np.float64(0.006360450058037275)), (3290, np.float64(0.005083202446077895)), (3291, np.float64(0.0)), (3292, np.float64(0.0)), (3293, np.float64(0.02147199961018883)), (3294, np.float64(0.04473582213380167)), (3295, np.float64(0.0)), (3296, np.float64(0.012750175787643323)), (3297, np.float64(0.0033813074221530504)), (3298, np.float64(0.0)), (3299, np.float64(0.006751320218445993)), (3300, np.float64(0.006845847381364438)), (3301, np.float64(0.006682780716500278)), (3302, np.float64(0.0)), (3303, np.float64(0.0)), (3304, np.float64(0.024031553033962257)), (3305, np.float64(0.029123503725725183)), (3306, np.float64(0.007159402491662667)), (3307, np.float64(0.02656608308680611)), (3308, np.float64(0.0)), (3309, np.float64(0.026638506216900205)), (3310, np.float64(0.03618208146725337)), (3311, np.float64(0.014939153884410559)), (3312, np.float64(0.0)), (3313, np.float64(0.05551674184129793)), (3314, np.float64(0.008639601403467761)), (3315, np.float64(0.0)), (3316, np.float64(0.0053038874156305016)), (3317, np.float64(0.0)), (3318, np.float64(0.014312031050661263)), (3319, np.float64(0.0422516676656592)), (3320, np.float64(0.0)), (3321, np.float64(0.0)), (3322, np.float64(0.0)), (3323, np.float64(0.050123390088903375)), (3324, np.float64(0.0)), (3325, np.float64(0.0)), (3326, np.float64(0.005999507824300081)), (3327, np.float64(0.005549088624573945)), (3328, np.float64(0.03509323765758134)), (3329, np.float64(0.019704205598439196)), (3330, np.float64(0.0)), (3331, np.float64(0.0)), (3332, np.float64(0.006478406718611577)), (3333, np.float64(0.0)), (3334, np.float64(0.005366292169347943)), (3335, np.float64(0.006355620024833856)), (3336, np.float64(0.007945959527119226)), (3337, np.float64(0.04480912188748239)), (3338, np.float64(0.006587542980083562)), (3339, np.float64(0.015170996919046532)), (3340, np.float64(0.08493576226550385)), (3341, np.float64(0.0)), (3342, np.float64(0.0)), (3343, np.float64(0.008050051433349713)), (3344, np.float64(0.0)), (3345, np.float64(0.015770036566784353)), (3346, np.float64(0.0)), (3347, np.float64(0.02913640348748093)), (3348, np.float64(0.0)), (3349, np.float64(0.024061783236692336)), (3350, np.float64(0.045530418023429595)), (3351, np.float64(0.009224454405598152)), (3352, np.float64(0.012699553637457617)), (3353, np.float64(0.006009030231506333)), (3354, np.float64(0.01717561264889338)), (3355, np.float64(0.0254093315229842)), (3356, np.float64(0.007143934307161083)), (3357, np.float64(0.0)), (3358, np.float64(0.0)), (3359, np.float64(0.007127124353226299)), (3360, np.float64(0.0)), (3361, np.float64(0.02874517230570816)), (3362, np.float64(0.0)), (3363, np.float64(0.0)), (3364, np.float64(0.037651347223580205)), (3365, np.float64(0.006384459185523434)), (3366, np.float64(0.00689226052703896)), (3367, np.float64(0.0)), (3368, np.float64(0.017074057025339026)), (3369, np.float64(0.005536098152117954)), (3370, np.float64(0.007432052848020027)), (3371, np.float64(0.0)), (3372, np.float64(0.07550175027220937)), (3373, np.float64(0.01585700620122337)), (3374, np.float64(0.04539900256848639)), (3375, np.float64(0.0)), (3376, np.float64(0.007274159654609453)), (3377, np.float64(0.03628645098528862)), (3378, np.float64(0.0)), (3379, np.float64(0.010086475991528792)), (3380, np.float64(0.0)), (3381, np.float64(0.0)), (3382, np.float64(0.0049193874547939255)), (3383, np.float64(0.0)), (3384, np.float64(0.007063583445129902)), (3385, np.float64(0.03824583487052367)), (3386, np.float64(0.045085153331319974)), (3387, np.float64(0.0)), (3388, np.float64(0.0)), (3389, np.float64(0.0)), (3390, np.float64(0.0)), (3391, np.float64(0.0)), (3392, np.float64(0.00628058015072407)), (3393, np.float64(0.008474630564750361)), (3394, np.float64(0.007423696573038394)), (3395, np.float64(0.0)), (3396, np.float64(0.02026207516457282)), (3397, np.float64(0.0)), (3398, np.float64(0.0)), (3399, np.float64(0.004482127696677257)), (3400, np.float64(0.0)), (3401, np.float64(0.0)), (3402, np.float64(0.010127645239133265)), (3403, np.float64(0.007601609215222783)), (3404, np.float64(0.004858214193314826)), (3405, np.float64(0.1943440948534223)), (3406, np.float64(0.0)), (3407, np.float64(0.0)), (3408, np.float64(0.006486238857668766)), (3409, np.float64(0.0)), (3410, np.float64(0.0174824242382806)), (3411, np.float64(0.0)), (3412, np.float64(0.006797043511932008)), (3413, np.float64(0.0)), (3414, np.float64(0.01832764059300565)), (3415, np.float64(0.007270446110363564)), (3416, np.float64(0.007176519404155702)), (3417, np.float64(0.022612907060018415)), (3418, np.float64(0.0)), (3419, np.float64(0.007629606939392808)), (3420, np.float64(0.022846832423018992)), (3421, np.float64(0.0)), (3422, np.float64(0.006673635264630945)), (3423, np.float64(0.01929152587754041)), (3424, np.float64(0.008894715637003902)), (3425, np.float64(0.0)), (3426, np.float64(0.006853638522198324)), (3427, np.float64(0.06962742789612836)), (3428, np.float64(0.0)), (3429, np.float64(0.019737097685502247)), (3430, np.float64(0.012722879752556275)), (3431, np.float64(0.0)), (3432, np.float64(0.029721150782030394)), (3433, np.float64(0.0)), (3434, np.float64(0.006774085839879506)), (3435, np.float64(0.0)), (3436, np.float64(0.057050782599761034)), (3437, np.float64(0.01645714162155724)), (3438, np.float64(0.04927446775563386)), (3439, np.float64(0.0975232978349132)), (3440, np.float64(0.004192130815506341)), (3441, np.float64(0.0)), (3442, np.float64(0.00885608997314866)), (3443, np.float64(0.005036846209741547)), (3444, np.float64(0.003925820341701179)), (3445, np.float64(0.09932842685087848)), (3446, np.float64(0.04545480837618388)), (3447, np.float64(0.0)), (3448, np.float64(0.01194646438344503)), (3449, np.float64(0.0)), (3450, np.float64(0.028447972249293865)), (3451, np.float64(0.0)), (3452, np.float64(0.007360184225360128)), (3453, np.float64(0.008862276359597954)), (3454, np.float64(0.0)), (3455, np.float64(0.0)), (3456, np.float64(0.004437110524600529)), (3457, np.float64(0.005178079886995673)), (3458, np.float64(0.0)), (3459, np.float64(0.0)), (3460, np.float64(0.061098566197444144)), (3461, np.float64(0.0)), (3462, np.float64(0.0)), (3463, np.float64(0.005978107702248624)), (3464, np.float64(0.0)), (3465, np.float64(0.006682838395442226)), (3466, np.float64(0.04331905487668283)), (3467, np.float64(0.0)), (3468, np.float64(0.01135464654228437)), (3469, np.float64(0.0)), (3470, np.float64(0.0)), (3471, np.float64(0.019603754282257642)), (3472, np.float64(0.018715029764069538)), (3473, np.float64(0.006042590002164149)), (3474, np.float64(0.07053432592970141)), (3475, np.float64(0.0)), (3476, np.float64(0.02904775661759952)), (3477, np.float64(0.005125001366394085)), (3478, np.float64(0.0)), (3479, np.float64(0.023413090088097083)), (3480, np.float64(0.0)), (3481, np.float64(0.004989587723632556)), (3482, np.float64(0.0)), (3483, np.float64(0.01198929823230786)), (3484, np.float64(0.034919591169575576)), (3485, np.float64(0.006863047624099102)), (3486, np.float64(0.0)), (3487, np.float64(0.0)), (3488, np.float64(0.0)), (3489, np.float64(0.02773993122172957)), (3490, np.float64(0.04668063988347264)), (3491, np.float64(0.0)), (3492, np.float64(0.009248963711700638)), (3493, np.float64(0.017288177131816677)), (3494, np.float64(0.04918711364841377)), (3495, np.float64(0.0)), (3496, np.float64(0.0)), (3497, np.float64(0.0)), (3498, np.float64(0.0)), (3499, np.float64(0.006412256261303135)), (3500, np.float64(0.027435536186213152)), (3501, np.float64(0.0)), (3502, np.float64(0.0)), (3503, np.float64(0.0)), (3504, np.float64(0.0)), (3505, np.float64(0.005673194614972549)), (3506, np.float64(0.0)), (3507, np.float64(0.03431682325053657)), (3508, np.float64(0.0)), (3509, np.float64(0.007141905954579906)), (3510, np.float64(0.008410493926009996)), (3511, np.float64(0.0279315375950348)), (3512, np.float64(0.02391462733105635)), (3513, np.float64(0.0)), (3514, np.float64(0.04962714586571077)), (3515, np.float64(0.0)), (3516, np.float64(0.038393020999451875)), (3517, np.float64(0.0)), (3518, np.float64(0.004597257136249665)), (3519, np.float64(0.0)), (3520, np.float64(0.061315809299439694)), (3521, np.float64(0.0)), (3522, np.float64(0.012703300117405657)), (3523, np.float64(0.005823574627059445)), (3524, np.float64(0.0)), (3525, np.float64(0.0)), (3526, np.float64(0.0)), (3527, np.float64(0.0)), (3528, np.float64(0.0092726304180045)), (3529, np.float64(0.0)), (3530, np.float64(0.004936383078057564)), (3531, np.float64(0.0)), (3532, np.float64(0.0)), (3533, np.float64(0.03532848235593878)), (3534, np.float64(0.1890952062193478)), (3535, np.float64(0.0)), (3536, np.float64(0.01441001672394105)), (3537, np.float64(0.014128854805080597)), (3538, np.float64(0.09086983835224616)), (3539, np.float64(0.014235674583154062)), (3540, np.float64(0.0)), (3541, np.float64(0.008795197226141402)), (3542, np.float64(0.0)), (3543, np.float64(0.020731437491249474)), (3544, np.float64(0.0)), (3545, np.float64(0.005989764470820991)), (3546, np.float64(0.0)), (3547, np.float64(0.0)), (3548, np.float64(0.0)), (3549, np.float64(0.01995433385176698)), (3550, np.float64(0.0)), (3551, np.float64(0.026124706848574097)), (3552, np.float64(0.06236001447788095)), (3553, np.float64(0.004862209393877762)), (3554, np.float64(0.014714774735390204)), (3555, np.float64(0.0)), (3556, np.float64(0.017097350814888487)), (3557, np.float64(0.0)), (3558, np.float64(0.0)), (3559, np.float64(0.0)), (3560, np.float64(0.0)), (3561, np.float64(0.0)), (3562, np.float64(0.0)), (3563, np.float64(0.0)), (3564, np.float64(0.0)), (3565, np.float64(0.0)), (3566, np.float64(0.0)), (3567, np.float64(0.0)), (3568, np.float64(0.053208234698984)), (3569, np.float64(0.0)), (3570, np.float64(0.0)), (3571, np.float64(0.0)), (3572, np.float64(0.0)), (3573, np.float64(0.0)), (3574, np.float64(0.0)), (3575, np.float64(0.0)), (3576, np.float64(0.0)), (3577, np.float64(0.011017921919638834)), (3578, np.float64(0.0)), (3579, np.float64(0.009665560061961754)), (3580, np.float64(0.0)), (3581, np.float64(0.0)), (3582, np.float64(0.0)), (3583, np.float64(0.0)), (3584, np.float64(0.01679757989205212)), (3585, np.float64(0.0)), (3586, np.float64(0.0)), (3587, np.float64(0.021328720567282435)), (3588, np.float64(0.0)), (3589, np.float64(0.0)), (3590, np.float64(0.0)), (3591, np.float64(0.006839220196762635)), (3592, np.float64(0.0)), (3593, np.float64(0.04568319235749514)), (3594, np.float64(0.011093379856369786)), (3595, np.float64(0.0)), (3596, np.float64(0.005283558547451967)), (3597, np.float64(0.0)), (3598, np.float64(0.0)), (3599, np.float64(0.006689922978631195)), (3600, np.float64(0.0)), (3601, np.float64(0.0)), (3602, np.float64(0.0)), (3603, np.float64(0.029776645711328285)), (3604, np.float64(0.07479546389047394)), (3605, np.float64(0.0)), (3606, np.float64(0.004554662351878769)), (3607, np.float64(0.019051553914916964)), (3608, np.float64(0.03259851561254044)), (3609, np.float64(0.007070617625598406)), (3610, np.float64(0.008623440437971074)), (3611, np.float64(0.05185283288232351)), (3612, np.float64(0.006228605242128126)), (3613, np.float64(0.01924884650537034)), (3614, np.float64(0.0)), (3615, np.float64(0.0)), (3616, np.float64(0.020714290521304905)), (3617, np.float64(0.00842610949345764)), (3618, np.float64(0.05205561772914184)), (3619, np.float64(0.0)), (3620, np.float64(0.0)), (3621, np.float64(0.0)), (3622, np.float64(0.022702455862168645)), (3623, np.float64(0.006291082277026844)), (3624, np.float64(0.13986631563368465)), (3625, np.float64(0.0)), (3626, np.float64(0.018162796862485172)), (3627, np.float64(0.0)), (3628, np.float64(0.0)), (3629, np.float64(0.0)), (3630, np.float64(0.018167463551963383)), (3631, np.float64(0.032654616270919756)), (3632, np.float64(0.0)), (3633, np.float64(0.006363598548321932)), (3634, np.float64(0.0)), (3635, np.float64(0.0)), (3636, np.float64(0.0)), (3637, np.float64(0.0)), (3638, np.float64(0.02425967885163396)), (3639, np.float64(0.0)), (3640, np.float64(0.0)), (3641, np.float64(0.01627894440502506)), (3642, np.float64(0.03289644924256567)), (3643, np.float64(0.0)), (3644, np.float64(0.0)), (3645, np.float64(0.0)), (3646, np.float64(0.021128306998330047)), (3647, np.float64(0.0)), (3648, np.float64(0.0)), (3649, np.float64(0.008987114879023058)), (3650, np.float64(0.013075674978429912)), (3651, np.float64(0.0)), (3652, np.float64(0.02100568489114449)), (3653, np.float64(0.0)), (3654, np.float64(0.05614339522112502)), (3655, np.float64(0.024457327479487687)), (3656, np.float64(0.018747281063481294)), (3657, np.float64(0.0)), (3658, np.float64(0.0)), (3659, np.float64(0.011550226482207285)), (3660, np.float64(0.0)), (3661, np.float64(0.0)), (3662, np.float64(0.0)), (3663, np.float64(0.0)), (3664, np.float64(0.029726806538877097)), (3665, np.float64(0.0)), (3666, np.float64(0.0)), (3667, np.float64(0.04405010107666894)), (3668, np.float64(0.02901158601891398)), (3669, np.float64(0.0)), (3670, np.float64(0.0)), (3671, np.float64(0.010768441833173452)), (3672, np.float64(0.004772415037440979)), (3673, np.float64(0.0)), (3674, np.float64(0.0)), (3675, np.float64(0.0)), (3676, np.float64(0.0)), (3677, np.float64(0.0)), (3678, np.float64(0.0)), (3679, np.float64(0.0)), (3680, np.float64(0.0)), (3681, np.float64(0.0)), (3682, np.float64(0.0)), (3683, np.float64(0.0)), (3684, np.float64(0.0475241580496423)), (3685, np.float64(0.0)), (3686, np.float64(0.006530068537987208)), (3687, np.float64(0.007968665029959982)), (3688, np.float64(0.0)), (3689, np.float64(0.004863056953414973)), (3690, np.float64(0.006255577452345699)), (3691, np.float64(0.009702142747446376)), (3692, np.float64(0.01239156273397209)), (3693, np.float64(0.0)), (3694, np.float64(0.0)), (3695, np.float64(0.01025013616002438)), (3696, np.float64(0.03166955966338593)), (3697, np.float64(0.0)), (3698, np.float64(0.006702412623668137)), (3699, np.float64(0.0)), (3700, np.float64(0.005580544560890077)), (3701, np.float64(0.0)), (3702, np.float64(0.006988200598877722)), (3703, np.float64(0.01802171292148847)), (3704, np.float64(0.0493489756206423)), (3705, np.float64(0.0)), (3706, np.float64(0.02991673968922351)), (3707, np.float64(0.005701920086202731)), (3708, np.float64(0.0)), (3709, np.float64(0.0)), (3710, np.float64(0.0)), (3711, np.float64(0.0)), (3712, np.float64(0.0)), (3713, np.float64(0.0)), (3714, np.float64(0.007231017597698901)), (3715, np.float64(0.028908413721471696)), (3716, np.float64(0.0)), (3717, np.float64(0.0)), (3718, np.float64(0.0)), (3719, np.float64(0.0)), (3720, np.float64(0.0368879452342461)), (3721, np.float64(0.0)), (3722, np.float64(0.05410599182060276)), (3723, np.float64(0.01092956814320029)), (3724, np.float64(0.044447387460302745)), (3725, np.float64(0.023035349607220403)), (3726, np.float64(0.0)), (3727, np.float64(0.0)), (3728, np.float64(0.01915801343323849)), (3729, np.float64(0.0)), (3730, np.float64(0.2496791052558042)), (3731, np.float64(0.004748169485379261)), (3732, np.float64(0.03475517198297843)), (3733, np.float64(0.013654943855630663)), (3734, np.float64(0.03858636330386833)), (3735, np.float64(0.0)), (3736, np.float64(0.021813990250577224)), (3737, np.float64(0.0)), (3738, np.float64(0.06255608189597808)), (3739, np.float64(0.015276502729460125)), (3740, np.float64(0.01110742647623313)), (3741, np.float64(0.015524389002426583)), (3742, np.float64(0.0)), (3743, np.float64(0.014348855356938275)), (3744, np.float64(0.028260163794301057)), (3745, np.float64(0.006100075387588043)), (3746, np.float64(0.021761015245730278)), (3747, np.float64(0.0)), (3748, np.float64(0.0)), (3749, np.float64(0.06851247625569587)), (3750, np.float64(0.056584571909890094)), (3751, np.float64(0.007711978204474338)), (3752, np.float64(0.0)), (3753, np.float64(0.0)), (3754, np.float64(0.0)), (3755, np.float64(0.0036630982780518815)), (3756, np.float64(0.030601671445868887)), (3757, np.float64(0.007310096511518055)), (3758, np.float64(0.025338995478555677)), (3759, np.float64(0.0)), (3760, np.float64(0.014700291713957139)), (3761, np.float64(0.0)), (3762, np.float64(0.0)), (3763, np.float64(0.03348094118182148)), (3764, np.float64(0.03289632484457243)), (3765, np.float64(0.0)), (3766, np.float64(0.0)), (3767, np.float64(0.020636818194329314)), (3768, np.float64(0.0)), (3769, np.float64(0.0)), (3770, np.float64(0.03950174230867376)), (3771, np.float64(0.0066344311163758826)), (3772, np.float64(0.007267669269906772)), (3773, np.float64(0.0)), (3774, np.float64(0.004831476336026191)), (3775, np.float64(0.02346718753839354)), (3776, np.float64(0.0)), (3777, np.float64(0.02228892842298131)), (3778, np.float64(0.005996791759076134)), (3779, np.float64(0.0)), (3780, np.float64(0.0)), (3781, np.float64(0.0)), (3782, np.float64(0.007386429092043472)), (3783, np.float64(0.0)), (3784, np.float64(0.015721557324304924)), (3785, np.float64(0.0)), (3786, np.float64(0.0)), (3787, np.float64(0.0)), (3788, np.float64(0.0)), (3789, np.float64(0.0)), (3790, np.float64(0.0)), (3791, np.float64(0.05169128625210116)), (3792, np.float64(0.0)), (3793, np.float64(0.009380096146961461)), (3794, np.float64(0.0)), (3795, np.float64(0.026948243850093798)), (3796, np.float64(0.0)), (3797, np.float64(0.019943920400440032)), (3798, np.float64(0.03318861507284472)), (3799, np.float64(0.011646510362246707)), (3800, np.float64(0.02931236594572005)), (3801, np.float64(0.0)), (3802, np.float64(0.0)), (3803, np.float64(0.007975158309369314)), (3804, np.float64(0.04427763035437682)), (3805, np.float64(0.007673158155683545)), (3806, np.float64(0.0)), (3807, np.float64(0.0)), (3808, np.float64(0.0)), (3809, np.float64(0.00787757345047214)), (3810, np.float64(0.0252164919311929)), (3811, np.float64(0.0)), (3812, np.float64(0.021024959537190833)), (3813, np.float64(0.04599798055537528)), (3814, np.float64(0.0)), (3815, np.float64(0.07535801640459638)), (3816, np.float64(0.011845553202060826)), (3817, np.float64(0.0)), (3818, np.float64(0.0)), (3819, np.float64(0.006094510914229456)), (3820, np.float64(0.007437022008815078)), (3821, np.float64(0.006016811123720656)), (3822, np.float64(0.011234059867884632)), (3823, np.float64(0.0)), (3824, np.float64(0.0)), (3825, np.float64(0.0)), (3826, np.float64(0.014012273667406795)), (3827, np.float64(0.0)), (3828, np.float64(0.004689031429650624)), (3829, np.float64(0.0)), (3830, np.float64(0.027431419314208748)), (3831, np.float64(0.0)), (3832, np.float64(0.0)), (3833, np.float64(0.005783218190969006)), (3834, np.float64(0.0)), (3835, np.float64(0.0)), (3836, np.float64(0.009648653088298606)), (3837, np.float64(0.04231456233576461)), (3838, np.float64(0.0)), (3839, np.float64(0.004876394267344632)), (3840, np.float64(0.0)), (3841, np.float64(0.023242592961235837)), (3842, np.float64(0.0059463618378749325)), (3843, np.float64(0.0)), (3844, np.float64(0.0)), (3845, np.float64(0.012978371202096745)), (3846, np.float64(0.009113607288986527)), (3847, np.float64(0.0)), (3848, np.float64(0.0033051394489527837)), (3849, np.float64(0.005426874944510542)), (3850, np.float64(0.0)), (3851, np.float64(0.00520530110009073)), (3852, np.float64(0.017916025336741196)), (3853, np.float64(0.0)), (3854, np.float64(0.04900513715267549)), (3855, np.float64(0.0)), (3856, np.float64(0.024455465855554637)), (3857, np.float64(0.028509063532090005)), (3858, np.float64(0.03856359176348281)), (3859, np.float64(0.0)), (3860, np.float64(0.0)), (3861, np.float64(0.0)), (3862, np.float64(0.0)), (3863, np.float64(0.00788451819168602)), (3864, np.float64(0.026123667853583207)), (3865, np.float64(0.0)), (3866, np.float64(0.019146637244379826)), (3867, np.float64(0.0)), (3868, np.float64(0.0)), (3869, np.float64(0.0)), (3870, np.float64(0.0)), (3871, np.float64(0.0)), (3872, np.float64(0.005936440999441062)), (3873, np.float64(0.0036156700003045507)), (3874, np.float64(0.024316204150806837)), (3875, np.float64(0.023075477120715285)), (3876, np.float64(0.022334018004505386)), (3877, np.float64(0.022418035357061904)), (3878, np.float64(0.01215591501069888)), (3879, np.float64(0.005680498634285668)), (3880, np.float64(0.0)), (3881, np.float64(0.006607456649073167)), (3882, np.float64(0.005714243354849062)), (3883, np.float64(0.0)), (3884, np.float64(0.008435026014197641)), (3885, np.float64(0.036153917080580786)), (3886, np.float64(0.016836194405128256)), (3887, np.float64(0.03740592382388737)), (3888, np.float64(0.0)), (3889, np.float64(0.0)), (3890, np.float64(0.006349180533125024)), (3891, np.float64(0.0)), (3892, np.float64(0.0)), (3893, np.float64(0.0)), (3894, np.float64(0.02055804615607093)), (3895, np.float64(0.028414882754490747)), (3896, np.float64(0.01881432433715191)), (3897, np.float64(0.0)), (3898, np.float64(0.006152442087322254)), (3899, np.float64(0.04876269981650956)), (3900, np.float64(0.0)), (3901, np.float64(0.017242487779768296)), (3902, np.float64(0.0)), (3903, np.float64(0.05049998927276774)), (3904, np.float64(0.05729503469858925)), (3905, np.float64(0.0)), (3906, np.float64(0.027575786522588415)), (3907, np.float64(0.007569496081068934)), (3908, np.float64(0.02933036630445195)), (3909, np.float64(0.0)), (3910, np.float64(0.011596866406417768)), (3911, np.float64(0.008250339321231561)), (3912, np.float64(0.006825683780942982)), (3913, np.float64(0.0)), (3914, np.float64(0.018789510041434365)), (3915, np.float64(0.007516733007895512)), (3916, np.float64(0.0)), (3917, np.float64(0.007552533561535774)), (3918, np.float64(0.005370169649785471)), (3919, np.float64(0.013547924039298546)), (3920, np.float64(0.0329096235676763)), (3921, np.float64(0.0)), (3922, np.float64(0.0)), (3923, np.float64(0.0055987622594100605)), (3924, np.float64(0.07952254471592912)), (3925, np.float64(0.007437843334016735)), (3926, np.float64(0.006384929844476654)), (3927, np.float64(0.0)), (3928, np.float64(0.008136557319712343)), (3929, np.float64(0.03426099089081999)), (3930, np.float64(0.0)), (3931, np.float64(0.024003273290730594)), (3932, np.float64(0.0)), (3933, np.float64(0.005535992712820922)), (3934, np.float64(0.009660614169594137)), (3935, np.float64(0.0)), (3936, np.float64(0.010927844163258777)), (3937, np.float64(0.03515330528522898)), (3938, np.float64(0.0)), (3939, np.float64(0.0)), (3940, np.float64(0.0036748376221565062)), (3941, np.float64(0.00502566431701483)), (3942, np.float64(0.003067406995259971)), (3943, np.float64(0.006371587201507816)), (3944, np.float64(0.0)), (3945, np.float64(0.006024759247374107)), (3946, np.float64(0.0)), (3947, np.float64(0.0066507594296606)), (3948, np.float64(0.02362277531989163)), (3949, np.float64(0.004780357764534546)), (3950, np.float64(0.0)), (3951, np.float64(0.0)), (3952, np.float64(0.0)), (3953, np.float64(0.02650333946621833)), (3954, np.float64(0.0)), (3955, np.float64(0.006029600272017452)), (3956, np.float64(0.017056165385071292)), (3957, np.float64(0.007593606596510729)), (3958, np.float64(0.024431840454806567)), (3959, np.float64(0.0)), (3960, np.float64(0.0)), (3961, np.float64(0.0)), (3962, np.float64(0.005403522929085625)), (3963, np.float64(0.0)), (3964, np.float64(0.0)), (3965, np.float64(0.0038181863562591636)), (3966, np.float64(0.005736386190086425)), (3967, np.float64(0.0)), (3968, np.float64(0.0)), (3969, np.float64(0.015759221928891228)), (3970, np.float64(0.0)), (3971, np.float64(0.0)), (3972, np.float64(0.006774353639816627)), (3973, np.float64(0.005440399187324179)), (3974, np.float64(0.0)), (3975, np.float64(0.02943445010546904)), (3976, np.float64(0.006555542984093079)), (3977, np.float64(0.00857597236744461)), (3978, np.float64(0.0)), (3979, np.float64(0.026897404112523858)), (3980, np.float64(0.0)), (3981, np.float64(0.022201561825133383)), (3982, np.float64(0.019188480257660134)), (3983, np.float64(0.0)), (3984, np.float64(0.004320999075335544)), (3985, np.float64(0.0)), (3986, np.float64(0.012917406963643893)), (3987, np.float64(0.01403180172265434)), (3988, np.float64(0.03153255404950003)), (3989, np.float64(0.006130448563932539)), (3990, np.float64(0.0)), (3991, np.float64(0.006503460085614799)), (3992, np.float64(0.0)), (3993, np.float64(0.029732737471362094)), (3994, np.float64(0.038111061438900015)), (3995, np.float64(0.0)), (3996, np.float64(0.038618013549973844)), (3997, np.float64(0.0)), (3998, np.float64(0.0)), (3999, np.float64(0.0)), (4000, np.float64(0.04029978898785068)), (4001, np.float64(0.0)), (4002, np.float64(0.0)), (4003, np.float64(0.029637773947451297)), (4004, np.float64(0.013479264855433463)), (4005, np.float64(0.0)), (4006, np.float64(0.0044444961744368235)), (4007, np.float64(0.0)), (4008, np.float64(0.0)), (4009, np.float64(0.0)), (4010, np.float64(0.0)), (4011, np.float64(0.015277164673202618)), (4012, np.float64(0.021616616381614974)), (4013, np.float64(0.005497610920212)), (4014, np.float64(0.0)), (4015, np.float64(0.013341075566248601)), (4016, np.float64(0.026602107253623677)), (4017, np.float64(0.005479127743126309)), (4018, np.float64(0.0)), (4019, np.float64(0.005910247425084248)), (4020, np.float64(0.007064415844591711)), (4021, np.float64(0.0)), (4022, np.float64(0.03313193179479876)), (4023, np.float64(0.017865808526503723)), (4024, np.float64(0.020083672243669623)), (4025, np.float64(0.0)), (4026, np.float64(0.0)), (4027, np.float64(0.0)), (4028, np.float64(0.0)), (4029, np.float64(0.0)), (4030, np.float64(0.021727463420786457)), (4031, np.float64(0.0)), (4032, np.float64(0.0163007517128923)), (4033, np.float64(0.013126145553839506)), (4034, np.float64(0.0)), (4035, np.float64(0.0)), (4036, np.float64(0.033660443932836244)), (4037, np.float64(0.0)), (4038, np.float64(0.0)), (4039, np.float64(0.051319909582021685)), (4040, np.float64(0.0)), (4041, np.float64(0.030775079500452197)), (4042, np.float64(0.07680540399487967)), (4043, np.float64(0.0)), (4044, np.float64(0.0)), (4045, np.float64(0.0)), (4046, np.float64(0.005226643799066514)), (4047, np.float64(0.0)), (4048, np.float64(0.0)), (4049, np.float64(0.014429783349029794)), (4050, np.float64(0.008531458665842796)), (4051, np.float64(0.0)), (4052, np.float64(0.0)), (4053, np.float64(0.0)), (4054, np.float64(0.0)), (4055, np.float64(0.013742247631490158)), (4056, np.float64(0.007566514298924486)), (4057, np.float64(0.0)), (4058, np.float64(0.0)), (4059, np.float64(0.006186401505151034)), (4060, np.float64(0.023291989256342856)), (4061, np.float64(0.016487021991813747)), (4062, np.float64(0.047189557151713774)), (4063, np.float64(0.01263272772769682)), (4064, np.float64(0.0)), (4065, np.float64(0.0)), (4066, np.float64(0.0)), (4067, np.float64(0.0)), (4068, np.float64(0.0)), (4069, np.float64(0.022062755936036724)), (4070, np.float64(0.026590257449436577)), (4071, np.float64(0.008260930805648273)), (4072, np.float64(0.005035029000146668)), (4073, np.float64(0.044114459858249744)), (4074, np.float64(0.0)), (4075, np.float64(0.0)), (4076, np.float64(0.009119733825290431)), (4077, np.float64(0.017391402342138186)), (4078, np.float64(0.004982484179498647)), (4079, np.float64(0.014481027190956137)), (4080, np.float64(0.0)), (4081, np.float64(0.014027558169194751)), (4082, np.float64(0.0)), (4083, np.float64(0.0)), (4084, np.float64(0.010795460667209144)), (4085, np.float64(0.005324188977808651)), (4086, np.float64(0.0)), (4087, np.float64(0.0)), (4088, np.float64(0.01831905094079007)), (4089, np.float64(0.009715375106982147)), (4090, np.float64(0.0)), (4091, np.float64(0.07304913214962384)), (4092, np.float64(0.0)), (4093, np.float64(0.010962671692543224)), (4094, np.float64(0.03826442456136164)), (4095, np.float64(0.0)), (4096, np.float64(0.0)), (4097, np.float64(0.008184975354916026)), (4098, np.float64(0.0)), (4099, np.float64(0.005539596446442205)), (4100, np.float64(0.0)), (4101, np.float64(0.00870287511504483)), (4102, np.float64(0.02517082605551747)), (4103, np.float64(0.031395419087777064)), (4104, np.float64(0.018039184205602733)), (4105, np.float64(0.0)), (4106, np.float64(0.02627292143026578)), (4107, np.float64(0.005553104971701452)), (4108, np.float64(0.16145848157749698)), (4109, np.float64(0.0)), (4110, np.float64(0.0)), (4111, np.float64(0.0070253994683727615)), (4112, np.float64(0.0)), (4113, np.float64(0.0)), (4114, np.float64(0.0726678614655984)), (4115, np.float64(0.0)), (4116, np.float64(0.0)), (4117, np.float64(0.03782757325052526)), (4118, np.float64(0.0)), (4119, np.float64(0.0)), (4120, np.float64(0.0)), (4121, np.float64(0.007628493221198271)), (4122, np.float64(0.0)), (4123, np.float64(0.0)), (4124, np.float64(0.036616121436104196)), (4125, np.float64(0.027987132889800787)), (4126, np.float64(0.007919806372380713)), (4127, np.float64(0.0)), (4128, np.float64(0.027320194643062)), (4129, np.float64(0.015048087884468063)), (4130, np.float64(0.0)), (4131, np.float64(0.018043748114160398)), (4132, np.float64(0.011641162889120952)), (4133, np.float64(0.0)), (4134, np.float64(0.012531331658763824)), (4135, np.float64(0.005204206488521074)), (4136, np.float64(0.0)), (4137, np.float64(0.0)), (4138, np.float64(0.0)), (4139, np.float64(0.0)), (4140, np.float64(0.0)), (4141, np.float64(0.0)), (4142, np.float64(0.0)), (4143, np.float64(0.012750589333886883)), (4144, np.float64(0.0)), (4145, np.float64(0.0)), (4146, np.float64(0.03473493206849877)), (4147, np.float64(0.017968198269869465)), (4148, np.float64(0.0)), (4149, np.float64(0.012740817653517044)), (4150, np.float64(0.0)), (4151, np.float64(0.0)), (4152, np.float64(0.0160223788894018)), (4153, np.float64(0.0)), (4154, np.float64(0.0)), (4155, np.float64(0.013616786420806335)), (4156, np.float64(0.019101836340435545)), (4157, np.float64(0.0)), (4158, np.float64(0.015061830252073898)), (4159, np.float64(0.0)), (4160, np.float64(0.06160269644744411)), (4161, np.float64(0.007076419253708437)), (4162, np.float64(0.05759851561446119)), (4163, np.float64(0.006567964200204925)), (4164, np.float64(0.0)), (4165, np.float64(0.0)), (4166, np.float64(0.0)), (4167, np.float64(0.010647234099397305)), (4168, np.float64(0.0)), (4169, np.float64(0.0)), (4170, np.float64(0.0)), (4171, np.float64(0.01852327233304036)), (4172, np.float64(0.0)), (4173, np.float64(0.054693733122583826)), (4174, np.float64(0.00482718775561341)), (4175, np.float64(0.01818770291261497)), (4176, np.float64(0.026130476128609876)), (4177, np.float64(0.0)), (4178, np.float64(0.0)), (4179, np.float64(0.022745504949151812)), (4180, np.float64(0.0)), (4181, np.float64(0.0)), (4182, np.float64(0.03664348288065724)), (4183, np.float64(0.0)), (4184, np.float64(0.0)), (4185, np.float64(0.0)), (4186, np.float64(0.0)), (4187, np.float64(0.07157146156946437)), (4188, np.float64(0.007889223961791656)), (4189, np.float64(0.004311907192442468)), (4190, np.float64(0.006337035180039318)), (4191, np.float64(0.005420490059028668)), (4192, np.float64(0.0)), (4193, np.float64(0.023690066864277506)), (4194, np.float64(0.0)), (4195, np.float64(0.0)), (4196, np.float64(0.0)), (4197, np.float64(0.005376864141017468)), (4198, np.float64(0.007305047701117295)), (4199, np.float64(0.040831411157392916)), (4200, np.float64(0.02876468301115992)), (4201, np.float64(0.029369398646728)), (4202, np.float64(0.0)), (4203, np.float64(0.01693958290541033)), (4204, np.float64(0.0)), (4205, np.float64(0.0)), (4206, np.float64(0.01174533520652233)), (4207, np.float64(0.0)), (4208, np.float64(0.006978523935400235)), (4209, np.float64(0.0)), (4210, np.float64(0.006940437579122129)), (4211, np.float64(0.017240967674570312)), (4212, np.float64(0.0)), (4213, np.float64(0.0)), (4214, np.float64(0.0)), (4215, np.float64(0.004375968779878553)), (4216, np.float64(0.012436121863343261)), (4217, np.float64(0.0)), (4218, np.float64(0.0)), (4219, np.float64(0.0)), (4220, np.float64(0.004426196241333459)), (4221, np.float64(0.0)), (4222, np.float64(0.0)), (4223, np.float64(0.0058894688919178505)), (4224, np.float64(0.014862647884470686)), (4225, np.float64(0.06223699140778971)), (4226, np.float64(0.0)), (4227, np.float64(0.0)), (4228, np.float64(0.0)), (4229, np.float64(0.01037508625535552)), (4230, np.float64(0.003416325497544391)), (4231, np.float64(0.048479334608977104)), (4232, np.float64(0.04996009379143922)), (4233, np.float64(0.02312518664422531)), (4234, np.float64(0.0)), (4235, np.float64(0.007176424417929488)), (4236, np.float64(0.0)), (4237, np.float64(0.0)), (4238, np.float64(0.0)), (4239, np.float64(0.0)), (4240, np.float64(0.0)), (4241, np.float64(0.0)), (4242, np.float64(0.020391663413993174)), (4243, np.float64(0.007483206464743772)), (4244, np.float64(0.07431833608460119)), (4245, np.float64(0.012533223676265255)), (4246, np.float64(0.010936085618340313)), (4247, np.float64(0.04569623670866755)), (4248, np.float64(0.0)), (4249, np.float64(0.0)), (4250, np.float64(0.0)), (4251, np.float64(0.04646538845788879)), (4252, np.float64(0.0)), (4253, np.float64(0.0)), (4254, np.float64(0.017981180523137144)), (4255, np.float64(0.0)), (4256, np.float64(0.007194432109421802)), (4257, np.float64(0.0)), (4258, np.float64(0.00647587150211741)), (4259, np.float64(0.00841407008798219)), (4260, np.float64(0.0)), (4261, np.float64(0.0)), (4262, np.float64(0.008479188823854048)), (4263, np.float64(0.010901794576947297)), (4264, np.float64(0.007039500945164568)), (4265, np.float64(0.036665910937057476)), (4266, np.float64(0.017016290904554563)), (4267, np.float64(0.019722335685465456)), (4268, np.float64(0.0)), (4269, np.float64(0.03672248872110848)), (4270, np.float64(0.0)), (4271, np.float64(0.0)), (4272, np.float64(0.0)), (4273, np.float64(0.0)), (4274, np.float64(0.0)), (4275, np.float64(0.005027936883445535)), (4276, np.float64(0.01855142500390935)), (4277, np.float64(0.007177426275482746)), (4278, np.float64(0.007068720926998876)), (4279, np.float64(0.0)), (4280, np.float64(0.007639037708511286)), (4281, np.float64(0.00945356593837266)), (4282, np.float64(0.0)), (4283, np.float64(0.0)), (4284, np.float64(0.012365691194966652)), (4285, np.float64(0.0)), (4286, np.float64(0.005819465817014435)), (4287, np.float64(0.0)), (4288, np.float64(0.0)), (4289, np.float64(0.007582843324457961)), (4290, np.float64(0.011432111977518982)), (4291, np.float64(0.012691131640728718)), (4292, np.float64(0.0)), (4293, np.float64(0.0)), (4294, np.float64(0.0)), (4295, np.float64(0.0054140265231154665)), (4296, np.float64(0.008977105379204335)), (4297, np.float64(0.0)), (4298, np.float64(0.0)), (4299, np.float64(0.0)), (4300, np.float64(0.0)), (4301, np.float64(0.012579148823140535)), (4302, np.float64(0.023787895371220547)), (4303, np.float64(0.0)), (4304, np.float64(0.0)), (4305, np.float64(0.0)), (4306, np.float64(0.0)), (4307, np.float64(0.019180059259848715)), (4308, np.float64(0.022142673611963974)), (4309, np.float64(0.0)), (4310, np.float64(0.007941228268199102)), (4311, np.float64(0.0)), (4312, np.float64(0.06608222445464111)), (4313, np.float64(0.0)), (4314, np.float64(0.0)), (4315, np.float64(0.014681720423072819)), (4316, np.float64(0.013518682156948545)), (4317, np.float64(0.0)), (4318, np.float64(0.0)), (4319, np.float64(0.0)), (4320, np.float64(0.0)), (4321, np.float64(0.02340949878712212)), (4322, np.float64(0.0)), (4323, np.float64(0.0)), (4324, np.float64(0.0)), (4325, np.float64(0.027457062244431805)), (4326, np.float64(0.0038557566599961867)), (4327, np.float64(0.021322708749307265)), (4328, np.float64(0.0)), (4329, np.float64(0.034635667539605)), (4330, np.float64(0.0)), (4331, np.float64(0.005661175502074294)), (4332, np.float64(0.31252335809525833)), (4333, np.float64(0.009713833005718615)), (4334, np.float64(0.0)), (4335, np.float64(0.014355696643982145)), (4336, np.float64(0.01996145204839495)), (4337, np.float64(0.0)), (4338, np.float64(0.0)), (4339, np.float64(0.0778672719028335)), (4340, np.float64(0.021651598861014726)), (4341, np.float64(0.0)), (4342, np.float64(0.0)), (4343, np.float64(0.0)), (4344, np.float64(0.026996896669434688)), (4345, np.float64(0.019297038891300546)), (4346, np.float64(0.0)), (4347, np.float64(0.0)), (4348, np.float64(0.0)), (4349, np.float64(0.04423785786523248)), (4350, np.float64(0.006910719924555799)), (4351, np.float64(0.03277394650618312)), (4352, np.float64(0.0)), (4353, np.float64(0.01129097625639209)), (4354, np.float64(0.007479565873528735)), (4355, np.float64(0.014815882617207645)), (4356, np.float64(0.0)), (4357, np.float64(0.0)), (4358, np.float64(0.009024105798247995)), (4359, np.float64(0.0)), (4360, np.float64(0.0)), (4361, np.float64(0.007227862522901463)), (4362, np.float64(0.0)), (4363, np.float64(0.0)), (4364, np.float64(0.03369191056653796)), (4365, np.float64(0.008352547801161592)), (4366, np.float64(0.0)), (4367, np.float64(0.005456866949650745)), (4368, np.float64(0.01134448378600674)), (4369, np.float64(0.0)), (4370, np.float64(0.0)), (4371, np.float64(0.017126663693061765)), (4372, np.float64(0.0)), (4373, np.float64(0.0071560527643337426)), (4374, np.float64(0.0)), (4375, np.float64(0.0)), (4376, np.float64(0.0)), (4377, np.float64(0.0)), (4378, np.float64(0.010504823498028079)), (4379, np.float64(0.01790691276232534)), (4380, np.float64(0.01452167337198485)), (4381, np.float64(0.02319539089768225)), (4382, np.float64(0.0)), (4383, np.float64(0.0)), (4384, np.float64(0.0)), (4385, np.float64(0.0)), (4386, np.float64(0.008136616177801077)), (4387, np.float64(0.06466215673635128)), (4388, np.float64(0.006038804754815667)), (4389, np.float64(0.0)), (4390, np.float64(0.0)), (4391, np.float64(0.0)), (4392, np.float64(0.024091081546302087)), (4393, np.float64(0.006767254425783085)), (4394, np.float64(0.030314800947579764)), (4395, np.float64(0.007022409094109511)), (4396, np.float64(0.007146922416840752)), (4397, np.float64(0.006056388853778319)), (4398, np.float64(0.01718470014229391)), (4399, np.float64(0.03214608505483742)), (4400, np.float64(0.0)), (4401, np.float64(0.11565090077396764)), (4402, np.float64(0.005721694279680122)), (4403, np.float64(0.0)), (4404, np.float64(0.0)), (4405, np.float64(0.0)), (4406, np.float64(0.006064899374871919)), (4407, np.float64(0.01402876335742606)), (4408, np.float64(0.005401117826863457)), (4409, np.float64(0.007972782103347356)), (4410, np.float64(0.0)), (4411, np.float64(0.0)), (4412, np.float64(0.0)), (4413, np.float64(0.0)), (4414, np.float64(0.0)), (4415, np.float64(0.0)), (4416, np.float64(0.007058778851458723)), (4417, np.float64(0.007457401979321781)), (4418, np.float64(0.008795067585831434)), (4419, np.float64(0.0)), (4420, np.float64(0.0)), (4421, np.float64(0.0)), (4422, np.float64(0.0)), (4423, np.float64(0.01635623379080227)), (4424, np.float64(0.0)), (4425, np.float64(0.027022747929224947)), (4426, np.float64(0.0)), (4427, np.float64(0.025888490721250587)), (4428, np.float64(0.02747024217941542)), (4429, np.float64(0.0)), (4430, np.float64(0.009043718318909977)), (4431, np.float64(0.0)), (4432, np.float64(0.0)), (4433, np.float64(0.0)), (4434, np.float64(0.0)), (4435, np.float64(0.0)), (4436, np.float64(0.0)), (4437, np.float64(0.0)), (4438, np.float64(0.0)), (4439, np.float64(0.0)), (4440, np.float64(0.02064949995111786)), (4441, np.float64(0.01044412434128498)), (4442, np.float64(0.0)), (4443, np.float64(0.007196252192612873)), (4444, np.float64(0.0)), (4445, np.float64(0.0)), (4446, np.float64(0.0)), (4447, np.float64(0.019550843872560023)), (4448, np.float64(0.04140757955073236)), (4449, np.float64(0.030074901742635687)), (4450, np.float64(0.05572248219099704)), (4451, np.float64(0.0)), (4452, np.float64(0.0)), (4453, np.float64(0.0)), (4454, np.float64(0.0)), (4455, np.float64(0.008277400017596732)), (4456, np.float64(0.008035856651054494)), (4457, np.float64(0.017682316091289313)), (4458, np.float64(0.0)), (4459, np.float64(0.0)), (4460, np.float64(0.006066989894021533)), (4461, np.float64(0.0)), (4462, np.float64(0.0)), (4463, np.float64(0.01157334837377017)), (4464, np.float64(0.0)), (4465, np.float64(0.07697330185195524)), (4466, np.float64(0.022417101577586494)), (4467, np.float64(0.009228677948019699)), (4468, np.float64(0.0)), (4469, np.float64(0.0)), (4470, np.float64(0.05924101953043575)), (4471, np.float64(0.0)), (4472, np.float64(0.01843705029490234)), (4473, np.float64(0.024171710035831528)), (4474, np.float64(0.0)), (4475, np.float64(0.0)), (4476, np.float64(0.0)), (4477, np.float64(0.0)), (4478, np.float64(0.0)), (4479, np.float64(0.022730503794480075)), (4480, np.float64(0.02127587671295067)), (4481, np.float64(0.0)), (4482, np.float64(0.0)), (4483, np.float64(0.0)), (4484, np.float64(0.0)), (4485, np.float64(0.0)), (4486, np.float64(0.0)), (4487, np.float64(0.02838701689271909)), (4488, np.float64(0.0)), (4489, np.float64(0.01282266580094201)), (4490, np.float64(0.0)), (4491, np.float64(0.0)), (4492, np.float64(0.0)), (4493, np.float64(0.0)), (4494, np.float64(0.0)), (4495, np.float64(0.0049261318032994)), (4496, np.float64(0.0)), (4497, np.float64(0.010326749227217642)), (4498, np.float64(0.0)), (4499, np.float64(0.017458423868066425)), (4500, np.float64(0.0)), (4501, np.float64(0.0)), (4502, np.float64(0.0)), (4503, np.float64(0.0)), (4504, np.float64(0.0)), (4505, np.float64(0.0)), (4506, np.float64(0.0)), (4507, np.float64(0.052641494812419476)), (4508, np.float64(0.0)), (4509, np.float64(0.05147849868678431)), (4510, np.float64(0.011577157132204573)), (4511, np.float64(0.023373868965384972)), (4512, np.float64(0.0)), (4513, np.float64(0.013716308527534499)), (4514, np.float64(0.0)), (4515, np.float64(0.0)), (4516, np.float64(0.016040190573211044)), (4517, np.float64(0.0)), (4518, np.float64(0.0)), (4519, np.float64(0.0)), (4520, np.float64(0.0)), (4521, np.float64(0.0)), (4522, np.float64(0.00827842076236974)), (4523, np.float64(0.0)), (4524, np.float64(0.0)), (4525, np.float64(0.007370486312056241)), (4526, np.float64(0.0)), (4527, np.float64(0.0063669697516939615)), (4528, np.float64(0.01010054768410908)), (4529, np.float64(0.0064230017820065466)), (4530, np.float64(0.00786916925496186)), (4531, np.float64(0.0)), (4532, np.float64(0.03709154907302254)), (4533, np.float64(0.007531049388678846)), (4534, np.float64(0.0)), (4535, np.float64(0.0229818402261788)), (4536, np.float64(0.0)), (4537, np.float64(0.006056181736651628)), (4538, np.float64(0.0)), (4539, np.float64(0.01190430819390728)), (4540, np.float64(0.009356082925998249)), (4541, np.float64(0.0)), (4542, np.float64(0.07404614734062566)), (4543, np.float64(0.0)), (4544, np.float64(0.0)), (4545, np.float64(0.0)), (4546, np.float64(0.005906045115860928)), (4547, np.float64(0.0)), (4548, np.float64(0.0)), (4549, np.float64(0.004569260529569228)), (4550, np.float64(0.0)), (4551, np.float64(0.006276522261769936)), (4552, np.float64(0.0)), (4553, np.float64(0.0)), (4554, np.float64(0.0060132565100642675)), (4555, np.float64(0.05480789012234312)), (4556, np.float64(0.0)), (4557, np.float64(0.013670893429798686)), (4558, np.float64(0.0)), (4559, np.float64(0.0)), (4560, np.float64(0.0)), (4561, np.float64(0.0)), (4562, np.float64(0.0)), (4563, np.float64(0.03556740557969314)), (4564, np.float64(0.0)), (4565, np.float64(0.02724178455255879)), (4566, np.float64(0.0)), (4567, np.float64(0.005308128877364404)), (4568, np.float64(0.0)), (4569, np.float64(0.0)), (4570, np.float64(0.0037386999412704447)), (4571, np.float64(0.0)), (4572, np.float64(0.0)), (4573, np.float64(0.012164778137441774)), (4574, np.float64(0.0)), (4575, np.float64(0.0)), (4576, np.float64(0.0)), (4577, np.float64(0.0)), (4578, np.float64(0.0)), (4579, np.float64(0.009501933256172428)), (4580, np.float64(0.0)), (4581, np.float64(0.0)), (4582, np.float64(0.0)), (4583, np.float64(0.0)), (4584, np.float64(0.0)), (4585, np.float64(0.0)), (4586, np.float64(0.03379069295885061)), (4587, np.float64(0.014881527422785031)), (4588, np.float64(0.03848176944171583)), (4589, np.float64(0.0)), (4590, np.float64(0.0)), (4591, np.float64(0.0)), (4592, np.float64(0.0)), (4593, np.float64(0.13840564365256056)), (4594, np.float64(0.016204552659275975)), (4595, np.float64(0.01426822684332653)), (4596, np.float64(0.0)), (4597, np.float64(0.0)), (4598, np.float64(0.0)), (4599, np.float64(0.09152345270342341)), (4600, np.float64(0.0)), (4601, np.float64(0.020585955982936652)), (4602, np.float64(0.0)), (4603, np.float64(0.0)), (4604, np.float64(0.006580278404627135)), (4605, np.float64(0.005952493696155939)), (4606, np.float64(0.0)), (4607, np.float64(0.0)), (4608, np.float64(0.011110107816774309)), (4609, np.float64(0.0)), (4610, np.float64(0.013349643240865508)), (4611, np.float64(0.0)), (4612, np.float64(0.0)), (4613, np.float64(0.0)), (4614, np.float64(0.0)), (4615, np.float64(0.0)), (4616, np.float64(0.0)), (4617, np.float64(0.0)), (4618, np.float64(0.0)), (4619, np.float64(0.0)), (4620, np.float64(0.018515740601837617)), (4621, np.float64(0.03237369926658062)), (4622, np.float64(0.0)), (4623, np.float64(0.026724011531871136)), (4624, np.float64(0.0)), (4625, np.float64(0.0)), (4626, np.float64(0.007625754286582074)), (4627, np.float64(0.023842410906045327)), (4628, np.float64(0.0)), (4629, np.float64(0.0)), (4630, np.float64(0.0)), (4631, np.float64(0.016898343051635144)), (4632, np.float64(0.008476510897706917)), (4633, np.float64(0.0)), (4634, np.float64(0.0)), (4635, np.float64(0.006515098533353366)), (4636, np.float64(0.0)), (4637, np.float64(0.06649332424062217)), (4638, np.float64(0.03419723412723199)), (4639, np.float64(0.014783085512520397)), (4640, np.float64(0.008152573443520102)), (4641, np.float64(0.0)), (4642, np.float64(0.011221614442953956)), (4643, np.float64(0.006443490775201756)), (4644, np.float64(0.0)), (4645, np.float64(0.0)), (4646, np.float64(0.0)), (4647, np.float64(0.061932864746727864)), (4648, np.float64(0.0)), (4649, np.float64(0.0)), (4650, np.float64(0.0)), (4651, np.float64(0.06734399570127747)), (4652, np.float64(0.0)), (4653, np.float64(0.0)), (4654, np.float64(0.017323410507187033)), (4655, np.float64(0.0)), (4656, np.float64(0.0)), (4657, np.float64(0.0)), (4658, np.float64(0.0)), (4659, np.float64(0.0)), (4660, np.float64(0.0)), (4661, np.float64(0.06600946555408246)), (4662, np.float64(0.0)), (4663, np.float64(0.006995686300269513)), (4664, np.float64(0.02399026181537722)), (4665, np.float64(0.01624912532480049)), (4666, np.float64(0.0)), (4667, np.float64(0.00895279987864177)), (4668, np.float64(0.0)), (4669, np.float64(0.016575975767567714)), (4670, np.float64(0.023573462732553684)), (4671, np.float64(0.005268058533703849)), (4672, np.float64(0.023268539526732107)), (4673, np.float64(0.0)), (4674, np.float64(0.0)), (4675, np.float64(0.01147993357290764)), (4676, np.float64(0.0)), (4677, np.float64(0.017230171296518278)), (4678, np.float64(0.0)), (4679, np.float64(0.0)), (4680, np.float64(0.0)), (4681, np.float64(0.0)), (4682, np.float64(0.0)), (4683, np.float64(0.0)), (4684, np.float64(0.0)), (4685, np.float64(0.0)), (4686, np.float64(0.0)), (4687, np.float64(0.005449116159834893)), (4688, np.float64(0.022932592383314333)), (4689, np.float64(0.0)), (4690, np.float64(0.0)), (4691, np.float64(0.04104748117378168)), (4692, np.float64(0.0)), (4693, np.float64(0.02064178282035984)), (4694, np.float64(0.01685865809069606)), (4695, np.float64(0.0)), (4696, np.float64(0.007068272499012393)), (4697, np.float64(0.006950847678499347)), (4698, np.float64(0.0)), (4699, np.float64(0.0)), (4700, np.float64(0.04911094298602456)), (4701, np.float64(0.02784450721051505)), (4702, np.float64(0.0)), (4703, np.float64(0.00815772697323437)), (4704, np.float64(0.018373724961453217)), (4705, np.float64(0.0)), (4706, np.float64(0.0)), (4707, np.float64(0.0)), (4708, np.float64(0.006192730613216465)), (4709, np.float64(0.0)), (4710, np.float64(0.0)), (4711, np.float64(0.0)), (4712, np.float64(0.0)), (4713, np.float64(0.0)), (4714, np.float64(0.0)), (4715, np.float64(0.017581665678179315)), (4716, np.float64(0.0)), (4717, np.float64(0.006440080879468833)), (4718, np.float64(0.0)), (4719, np.float64(0.0056676379985118)), (4720, np.float64(0.0)), (4721, np.float64(0.0)), (4722, np.float64(0.014266170147791659)), (4723, np.float64(0.0)), (4724, np.float64(0.02431912828932834)), (4725, np.float64(0.0)), (4726, np.float64(0.0)), (4727, np.float64(0.0050676006584835665)), (4728, np.float64(0.06753565673334884)), (4729, np.float64(0.0)), (4730, np.float64(0.0)), (4731, np.float64(0.012640945492398631)), (4732, np.float64(0.0)), (4733, np.float64(0.0)), (4734, np.float64(0.028542003377284103)), (4735, np.float64(0.0)), (4736, np.float64(0.0)), (4737, np.float64(0.0)), (4738, np.float64(0.0)), (4739, np.float64(0.008697890072200211)), (4740, np.float64(0.0052739680538287)), (4741, np.float64(0.020602815897480222)), (4742, np.float64(0.0)), (4743, np.float64(0.0)), (4744, np.float64(0.0)), (4745, np.float64(0.011667226189181056)), (4746, np.float64(0.0)), (4747, np.float64(0.0)), (4748, np.float64(0.0)), (4749, np.float64(0.03091007949354133)), (4750, np.float64(0.0)), (4751, np.float64(0.007433547186620865)), (4752, np.float64(0.004538021524465578)), (4753, np.float64(0.0)), (4754, np.float64(0.0)), (4755, np.float64(0.0)), (4756, np.float64(0.009986740184831968)), (4757, np.float64(0.0)), (4758, np.float64(0.016260210579179604)), (4759, np.float64(0.0)), (4760, np.float64(0.029306018978870776)), (4761, np.float64(0.0)), (4762, np.float64(0.0)), (4763, np.float64(0.0078212037772632)), (4764, np.float64(0.023900825598511796)), (4765, np.float64(0.0)), (4766, np.float64(0.0)), (4767, np.float64(0.0)), (4768, np.float64(0.05305633484178017)), (4769, np.float64(0.00713448870172993)), (4770, np.float64(0.006467265592949091)), (4771, np.float64(0.015219582231367287)), (4772, np.float64(0.006532412533325169)), (4773, np.float64(0.0)), (4774, np.float64(0.02423102502356412)), (4775, np.float64(0.0)), (4776, np.float64(0.013871570019611238)), (4777, np.float64(0.0)), (4778, np.float64(0.00552111139590545)), (4779, np.float64(0.0073583516781111375)), (4780, np.float64(0.0)), (4781, np.float64(0.03542826654407442)), (4782, np.float64(0.0)), (4783, np.float64(0.0)), (4784, np.float64(0.005615295776380342)), (4785, np.float64(0.0)), (4786, np.float64(0.045043058826089624)), (4787, np.float64(0.03531219103511864)), (4788, np.float64(0.024519175959053844)), (4789, np.float64(0.0)), (4790, np.float64(0.0)), (4791, np.float64(0.0)), (4792, np.float64(0.0)), (4793, np.float64(0.0)), (4794, np.float64(0.0)), (4795, np.float64(0.0)), (4796, np.float64(0.030386632305011246)), (4797, np.float64(0.0)), (4798, np.float64(0.004693383182537971)), (4799, np.float64(0.006999392746782925)), (4800, np.float64(0.018900169533050334)), (4801, np.float64(0.0)), (4802, np.float64(0.0))]\n"
     ]
    }
   ],
   "source": [
    "sim_scores = list(enumerate(cosine_sim[idx]))\n",
    "print(sim_scores)"
   ]
  },
  {
   "cell_type": "code",
   "execution_count": 84,
   "id": "5644e607",
   "metadata": {},
   "outputs": [
    {
     "name": "stdout",
     "output_type": "stream",
     "text": [
      "[(2403, np.float64(0.43893428741144097)), (838, np.float64(0.397016329554383)), (47, np.float64(0.37205262890868385)), (3158, np.float64(0.35456321245192446)), (278, np.float64(0.3347665924698392)), (373, np.float64(0.321611783288889)), (4332, np.float64(0.31252335809525833)), (1531, np.float64(0.3030984959371213)), (239, np.float64(0.28651448611898866)), (541, np.float64(0.2753875450615731))]\n"
     ]
    }
   ],
   "source": [
    "sim_scores = sorted(sim_scores, key= lambda x: x[1], reverse=True)\n",
    "sim_scores = sim_scores[1:11]\n",
    "print(sim_scores)"
   ]
  },
  {
   "cell_type": "code",
   "execution_count": 86,
   "id": "a244d226",
   "metadata": {},
   "outputs": [
    {
     "name": "stdout",
     "output_type": "stream",
     "text": [
      "[2403, 838, 47, 3158, 278, 373, 4332, 1531, 239, 541]\n"
     ]
    }
   ],
   "source": [
    "movie_indices = [x[0] for x in sim_scores]\n",
    "print(movie_indices)"
   ]
  },
  {
   "cell_type": "code",
   "execution_count": 89,
   "id": "5c3e0d49",
   "metadata": {},
   "outputs": [],
   "source": [
    "def get_recomendations(title,cosine_sim=cosine_sim):\n",
    "    idx = movies[movies[\"title\"]==title].index[0]\n",
    "    sim_scores = list(enumerate(cosine_sim[idx]))\n",
    "    sim_scores = sorted(sim_scores, key= lambda x: x[1], reverse=True)\n",
    "    sim_scores = sim_scores[1:11]\n",
    "    movie_indices = [x[0] for x in sim_scores]\n",
    "    return movies['title'].iloc[movie_indices]"
   ]
  },
  {
   "cell_type": "code",
   "execution_count": 90,
   "id": "90feedb0",
   "metadata": {},
   "outputs": [
    {
     "name": "stdout",
     "output_type": "stream",
     "text": [
      "2403                     Aliens\n",
      "838                      Alien³\n",
      "47      Star Trek Into Darkness\n",
      "3158                      Alien\n",
      "278          Planet of the Apes\n",
      "373             Mission to Mars\n",
      "4332             Silent Running\n",
      "1531                  Moonraker\n",
      "239                     Gravity\n",
      "541                     Soldier\n",
      "Name: title, dtype: object\n"
     ]
    }
   ],
   "source": [
    "print(get_recomendations('Avatar'))"
   ]
  },
  {
   "cell_type": "code",
   "execution_count": 91,
   "id": "8d814657",
   "metadata": {},
   "outputs": [],
   "source": [
    "import pickle\n",
    "with open('movie_data.pkl','wb') as f:\n",
    "    pickle.dump((movies,cosine_sim),f)"
   ]
  }
 ],
 "metadata": {
  "kernelspec": {
   "display_name": "FlickFinderAI",
   "language": "python",
   "name": "python3"
  },
  "language_info": {
   "codemirror_mode": {
    "name": "ipython",
    "version": 3
   },
   "file_extension": ".py",
   "mimetype": "text/x-python",
   "name": "python",
   "nbconvert_exporter": "python",
   "pygments_lexer": "ipython3",
   "version": "3.13.2"
  }
 },
 "nbformat": 4,
 "nbformat_minor": 5
}
